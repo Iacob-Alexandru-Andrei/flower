{
  "cells": [
    {
      "cell_type": "markdown",
      "metadata": {
        "id": "hpQbkoayYCpj"
      },
      "source": [
        "# 0. Marking.\n",
        "\n",
        "***IMPORTANT***: Save a copy of this notebook into your Drive before you start.\n",
        "- Please attempt all the questions marked for your group (Part II ✅ | Part III/MPhil ✅).\n",
        "- **We assume you will use the provided seeds. If you do not, please save all seeds that you use in the provided enum.**\n",
        "\n",
        "Please submit a zip file containing (a) a text file with a publicly visible link to your notebook in Google Colab; (b) a downloaded copy (ipynb) of your notebook. You may treat this as a report: we will not be re-executing the code you used to produce the answers unless required.\n",
        "\n",
        "If you find yourself enjoying the material, feel free to attempt more! Provide your answers in a new cell below the question cell."
      ]
    },
    {
      "cell_type": "markdown",
      "metadata": {
        "id": "T_-VhIG0szzo"
      },
      "source": [
        "## Imports"
      ]
    },
    {
      "cell_type": "code",
      "execution_count": null,
      "metadata": {
        "colab": {
          "base_uri": "https://localhost:8080/"
        },
        "id": "FuDMIMEUszzo",
        "outputId": "c1573ee2-8896-4445-e33a-af9379b9cf3f"
      },
      "outputs": [
        {
          "name": "stdout",
          "output_type": "stream",
          "text": [
            "\u001b[33mWARNING: Running pip as the 'root' user can result in broken permissions and conflicting behaviour with the system package manager. It is recommended to use a virtual environment instead: https://pip.pypa.io/warnings/venv\u001b[0m\u001b[33m\n",
            "\u001b[2K     \u001b[90m━━━━━━━━━━━━━━━━━━━━━━━━━━━━━━━━━━━━━━━━\u001b[0m \u001b[32m9.2/9.2 MB\u001b[0m \u001b[31m63.9 MB/s\u001b[0m eta \u001b[36m0:00:00\u001b[0m\n",
            "\u001b[2K     \u001b[90m━━━━━━━━━━━━━━━━━━━━━━━━━━━━━━━━━━━━━━\u001b[0m \u001b[32m300.0/300.0 kB\u001b[0m \u001b[31m31.4 MB/s\u001b[0m eta \u001b[36m0:00:00\u001b[0m\n",
            "\u001b[?25h\u001b[33mWARNING: Running pip as the 'root' user can result in broken permissions and conflicting behaviour with the system package manager. It is recommended to use a virtual environment instead: https://pip.pypa.io/warnings/venv\u001b[0m\u001b[33m\n",
            "\u001b[0m"
          ]
        }
      ],
      "source": [
        "# The simulation component of flower uses RAY under the hood.\n",
        "# `pip` could produce some errors. Nothing to worry about.\n",
        "# The execution has been verified; it is working anyway.\n",
        "! pip install --quiet --upgrade \"pip\"\n",
        "! pip install --quiet 'flwr[simulation]' torch torchvision  gdown tqdm seaborn torchsummary pycrypto pycryptodome cryptography tensorflow-privacy matplotlib\n",
        "# The following is just needed to show the folder tree\n",
        "! apt-get install -qq tree\n"
      ]
    },
    {
      "cell_type": "code",
      "execution_count": null,
      "metadata": {
        "id": "OTAtWeP_szzp"
      },
      "outputs": [],
      "source": [
        "## Imports\n",
        "import csv\n",
        "import numbers\n",
        "import os\n",
        "import random\n",
        "import pickle\n",
        "from collections import OrderedDict, defaultdict\n",
        "from copy import deepcopy\n",
        "from pathlib import Path\n",
        "from typing import *\n",
        "\n",
        "\n",
        "import flwr as fl\n",
        "import ray\n",
        "import gdown\n",
        "import matplotlib.pyplot as plt\n",
        "import numpy as np\n",
        "\n",
        "import seaborn as sns\n",
        "import pandas as pd\n",
        "import torch\n",
        "import torch.nn as nn\n",
        "import torch.nn.functional as F\n",
        "from flwr.common import Metrics, Config, GetPropertiesIns, GetPropertiesRes, MetricsAggregationFn\n",
        "from flwr.common.parameter import ndarrays_to_parameters,parameters_to_ndarrays\n",
        "from flwr.common.typing import NDArrays, Parameters, Scalar\n",
        "from flwr.server import ServerConfig\n",
        "from flwr.server.client_manager import SimpleClientManager\n",
        "from flwr.server.client_proxy import ClientProxy\n",
        "from flwr.server.criterion import Criterion\n",
        "from PIL import Image\n",
        "from PIL.Image import Image as ImageType\n",
        "from torch.nn import Module\n",
        "from torch.utils.data import DataLoader, Dataset, Subset\n",
        "from torchvision import transforms\n",
        "from tqdm import tqdm\n",
        "from enum import IntEnum\n",
        "from datetime import datetime,timezone\n",
        "import json\n",
        "\n",
        "# Add new seeds here for easy autocomplete\n",
        "class Seeds(IntEnum):\n",
        "    DEFAULT = 1337\n",
        "\n",
        "np.random.seed(Seeds.DEFAULT)\n",
        "random.seed(Seeds.DEFAULT)\n",
        "torch.manual_seed(Seeds.DEFAULT)\n",
        "torch.backends.cudnn.benchmark = False # type: ignore\n",
        "torch.backends.cudnn.deterministic = True # type: ignore\n",
        "\n",
        "def convert(o):\n",
        "    if isinstance(o, np.int64) or isinstance(o, np.int32): return int(o)  \n",
        "    if isinstance(o, np.float32) or isinstance(o, np.float64): return float(o)  \n",
        "    raise TypeError\n",
        "\n",
        "def fit_client_seeded(client, params, conf, seed=Seeds.DEFAULT, **kwargs):\n",
        "    \"\"\"Wrapper to always seed client training.\"\"\"\n",
        "    np.random.seed(seed)\n",
        "    torch.manual_seed(seed)\n",
        "    random.seed(seed)\n",
        "    return client.fit(params, conf, **kwargs)\n",
        "\n",
        "PathType = Optional[Union[Path, str]]\n",
        "\n",
        "def get_device() -> str:\n",
        "    device = \"cpu\"\n",
        "    if torch.cuda.is_available():\n",
        "        device = \"cuda\"\n",
        "    elif torch.backends.mps.is_available() and torch.backends.mps.is_built():\n",
        "        device = \"mps\"\n",
        "    return device"
      ]
    },
    {
      "cell_type": "markdown",
      "metadata": {
        "id": "RJ9VT7Fzszzp"
      },
      "source": [
        "### Dataset"
      ]
    },
    {
      "cell_type": "code",
      "execution_count": null,
      "metadata": {
        "id": "3ELIXqK2szzp"
      },
      "outputs": [],
      "source": [
        "home_dir = Path(\"/content\")\n",
        "# home_dir = Path(\"/Users/lorenzosani/My drive (aai30@cam.ac.uk)/Teaching/FL_2022-2023/\")\n",
        "# home_dir = Path(\"/Users/iacobalexandru/projects/FL_LABS_2023/\")\n",
        "devices_info_dir: Path = home_dir / \"device_info\"\n",
        "statistical_utility: Path = home_dir / \"statistical_utility.csv\"\n",
        "dataset_dir: Path = home_dir / \"femnist\"\n",
        "# dataset_dir = Path(\"/Users/lorenzosani/tmp/femnist/femnist\")\n",
        "# dataset_dir = Path(\"/Users/iacobalexandru/projects/FL_LABS_2023/femnist\")\n",
        "data_dir: Path = dataset_dir / \"data\"\n",
        "centralized_partition: Path = dataset_dir / \"client_data_mappings\" / \"centralized\"\n",
        "centralized_mapping: Path = dataset_dir / \"client_data_mappings\" / \"centralized\" / \"0\"\n",
        "federated_partition: Path = dataset_dir / \"client_data_mappings\" / \"fed_natural\"\n",
        "(home_dir / \"histories\").mkdir(exist_ok=True,parents=True)\n"
      ]
    },
    {
      "cell_type": "code",
      "execution_count": null,
      "metadata": {
        "id": "sXnc9dnHp0ux"
      },
      "outputs": [],
      "source": [
        "def save_history(hist, name):\n",
        "  time = int(datetime.now(timezone.utc).timestamp())\n",
        "  with open(home_dir / \"histories\" / f\"hist_{time}_{name}.json\", \"w\", encoding=\"utf-8\") as f:\n",
        "            json.dump(hist.__dict__, f, ensure_ascii=False, indent=4, default=convert)\n",
        "\n",
        "def start_seeded_simulation(\n",
        "    client_fn,\n",
        "    num_clients,\n",
        "    client_resources,\n",
        "    server,\n",
        "    config,\n",
        "    strategy,\n",
        "    name: str,\n",
        "    seed: int = Seeds.DEFAULT,\n",
        "):\n",
        "    \"\"\"Wrapper to always seed client selection.\"\"\"\n",
        "    np.random.seed(seed)\n",
        "    torch.manual_seed(seed)\n",
        "    random.seed(seed)\n",
        "    hist =  fl.simulation.start_simulation(\n",
        "        client_fn=client_fn,\n",
        "        num_clients=num_clients,\n",
        "        client_resources=client_resources,\n",
        "        server=server,\n",
        "        config=config,\n",
        "        strategy=strategy,\n",
        "    )\n",
        "    save_history(hist, name)\n",
        "    ray.shutdown()\n",
        "    return hist"
      ]
    },
    {
      "cell_type": "code",
      "execution_count": null,
      "metadata": {
        "id": "VDY-yJYPszzp"
      },
      "outputs": [],
      "source": [
        "# Download the compressed dataset\n",
        "if not (home_dir / \"femnist.tar.gz\").exists():\n",
        "    id = \"1-CI6-QoEmGiInV23-n_l6Yd8QGWerw8-\"\n",
        "    gdown.download(\n",
        "        f\"https://drive.google.com/uc?export=download&confirm=pbef&id={id}\",\n",
        "        str(home_dir / \"femnist.tar.gz\"),\n",
        "    )\n",
        "    \n",
        "# Decompress dataset \n",
        "if not dataset_dir.exists():\n",
        "  !tar -xf {str(home_dir)}/femnist.tar.gz -C {str(home_dir)} 2> /dev/null\n",
        "  print(f\"Dataset extracted in {dataset_dir}\")"
      ]
    },
    {
      "cell_type": "markdown",
      "metadata": {
        "id": "2Sz3p_A0szzq"
      },
      "source": [
        "### Python files"
      ]
    },
    {
      "cell_type": "code",
      "execution_count": null,
      "metadata": {
        "id": "9KmbwVXyszzq"
      },
      "outputs": [],
      "source": [
        "if not (home_dir / \"femnist_dataset.py\").exists():\n",
        "    id = \"11xG4oIhdbVcDtXxbS2ZosDSJYAC0iL7q\"\n",
        "    gdown.download(\n",
        "        f\"https://drive.google.com/uc?export=download&confirm=pbef&id={id}\",\n",
        "        str(home_dir / \"femnist_dataset.py\"),\n",
        "    )\n",
        "if not (home_dir / \"client.py\").exists():\n",
        "    id = \"1lvEAVxgsc8T4_cJuqymJLyHO5cxS5KCD\"\n",
        "    gdown.download(\n",
        "        f\"https://drive.google.com/uc?export=download&confirm=pbef&id={id}\",\n",
        "        str(home_dir / \"client.py\"),\n",
        "    )\n",
        "if not (home_dir / \"client_utils.py\").exists():\n",
        "    # id = \"1eIhCgEKh4zCX-63Ax35kCSV4UNo9Cqzt\" # w/ tqdm\n",
        "    id = \"1-gz-wZhadx51wOHqmkrxihDaWPh4MlmE\"  # w/o tqdm\n",
        "    gdown.download(\n",
        "        f\"https://drive.google.com/uc?export=download&confirm=pbef&id={id}\",\n",
        "        str(home_dir / \"client_utils.py\"),\n",
        "    )\n",
        "if not (home_dir / \"client_manager.py\").exists():\n",
        "    id = \"1-XZKJ2FPwHZoMA0Dr4bZ4YC4bM_qfD2r\"\n",
        "    gdown.download(\n",
        "        f\"https://drive.google.com/uc?export=download&confirm=pbef&id={id}\",\n",
        "        str(home_dir / \"client_manager.py\"),\n",
        "    )\n",
        "if not (home_dir / \"strategy.py\").exists():\n",
        "    id = \"1-WTr8NxLcNOXouUxM8ckg8cG9n5G8v8f\"\n",
        "    gdown.download(\n",
        "        f\"https://drive.google.com/uc?export=download&confirm=pbef&id={id}\",\n",
        "        str(home_dir / \"strategy.py\"),\n",
        "    )\n",
        "if not (home_dir / \"server.py\").exists():\n",
        "    id = \"10GDKir44WLfs8ZH0EGYexUxKgEIdO5xQ\"\n",
        "    gdown.download(\n",
        "        f\"https://drive.google.com/uc?export=download&confirm=pbef&id={id}\",\n",
        "        str(home_dir / \"server.py\"),\n",
        "    )\n"
      ]
    },
    {
      "cell_type": "code",
      "execution_count": null,
      "metadata": {
        "id": "xlpr4Y69szzq"
      },
      "outputs": [],
      "source": [
        "from client import FlowerRayClient, get_flower_client_generator\n",
        "import server\n",
        "from server import Server, NewHistory as History\n",
        "import client_manager\n",
        "from client_manager import CustomClientManager\n",
        "from strategy import DeterministicSampleFedAvg as FedAvgM\n",
        "from client_utils import (\n",
        "    get_network_generator_cnn,\n",
        "    get_model_parameters,\n",
        "    aggregate_weighted_average,\n",
        "    get_federated_evaluation_function,\n",
        "    get_default_test_config,\n",
        "    get_default_train_config,\n",
        ")\n"
      ]
    },
    {
      "cell_type": "markdown",
      "metadata": {
        "id": "iPF0-Nlmszzo"
      },
      "source": [
        "# 1. Introduction.\n"
      ]
    },
    {
      "cell_type": "markdown",
      "metadata": {
        "id": "CyT284y4DPc9"
      },
      "source": [
        "Welcome to the fourth lab session in our FL course. Having explored standard FL, data heterogeneity and device heterogeneity, we now focus on one of FL's main selling points: privacy. \n",
        "\n",
        "The two methods for achieving privacy we will explore are client-level [Differential Privacy](https://ieeexplore.ieee.org/abstract/document/9069945) and [Secure Aggregation](https://research.google/pubs/pub45808/). Intuitively, the first provides a probabilistic bound on how distinct the final model trained using the data of a given client would be from the same model trained without data from that client (thus if a client contains all samples from a given class, it should be difficult for the model to predict that class as it would have to violate DP). In an ideal privacy scenario, we would prefer it if two models trained with or without the data of a given client were indistinguishable. The second is a cryptographic solution that effectively erases the ability to identify a client during aggregation by encrypting all client model updates to produce the correct aggregate when summed. \n",
        "\n",
        "As these topics are pretty in-depth, we will not cover them to the same level of detail as previous labs concerning theoretical subjects (such as data heterogeneity in lab 2). This lab will be primarily experimental to test the algorithms put into practice. We will, however, begin with a light introduction. Suppose you are interested in learning more about the subject. In that case, we may recommend the following papers [Deep Learning with Differential Privacy](https://arxiv.org/pdf/1607.00133.pdf) \\[1], [Learning Differentially Private Recurrent Language Models](https://arxiv.org/pdf/1710.06963.pdf) \\[2] and [Differentially private learning with adaptive clipping](https://arxiv.org/abs/1905.03871) \\[3] on the DP front. For secure aggregation consider the original paper [Practical Secure Aggregation for Federated Learning on User-Held Data](https://arxiv.org/pdf/1611.04482.pdf) \\[4] and the improved [LightSecAgg](https://arxiv.org/abs/2109.14236) \\[5].\n",
        "\n",
        "Secure aggregation does not harm the model's accuracy and demands only increased communication. Any samples involved in training may still be reconstructed in an attack; however, knowing who contributed the samples will not be possible. Thus, while the implementation is complex, its behaviour is predictable and shall be reserved for the end of the notebook as we are only concerned with measuring communication costs and answering conceptual questions. As such, let us dive into Differential Privacy after the following well-known imports.\n",
        "\n",
        ">**Important** the entire notebook has been tested in a GPU-enabled collab environment which runs at around 6 minutes per FL experiment. All experiments require you to vary at most one parameter at a time, so please use a for loop to generate a list of histories rather than trying to manage multiple cells---most experiments rely on one run we create for demonstration purposes to cover one of the desire parameter values. We have purposefully reduced the size of the federated test set significantly and have also reduced the overall number of clients used during FL experimentation. If you are more constrained in your resources (e.g., you have run out of google accounts which can get a GPU or you get an error peculiar to your exact colab machine), let us know either on slack or in your submission, and we will either help you set up the code locally, potentially provide you with history objects, or offer take this into account during marking.\n",
        "\n",
        "\n",
        "Citations:\n",
        "\n",
        "\n",
        "1.   Abadi, Martin, et al. \"Deep learning with differential privacy.\" Proceedings of the 2016 ACM SIGSAC conference on computer and communications security. 2016.\n",
        "2.   McMahan, H. Brendan, et al. \"Learning differentially private recurrent language models.\" arXiv preprint arXiv:1710.06963 (2017).\n",
        "3. Thakkar, Om, Galen Andrew, and H. Brendan McMahan. \"Differentially private learning with adaptive clipping.\" arXiv e-prints (2019): arXiv-1905.\n",
        "4. Bonawitz, Keith, et al. \"Practical secure aggregation for federated learning on user-held data.\" arXiv preprint arXiv:1611.04482 (2016).\n",
        "5. So, Jinhyun, et al. \"Lightsecagg: a lightweight and versatile design for secure aggregation in federated learning.\" Proceedings of Machine Learning and Systems 4 (2022): 694-720.\n",
        "\n"
      ]
    },
    {
      "cell_type": "markdown",
      "metadata": {
        "id": "QNk0A-eD4cDQ"
      },
      "source": [
        "# 2.Deep Learning With Differential Privacy"
      ]
    },
    {
      "cell_type": "markdown",
      "metadata": {
        "id": "oo1rQI9y4gum"
      },
      "source": [
        "Before diving into a definition of Differential Privacy adapted to an FL context, we shall begin with the first version of DP applied to Deep Learning based on the aforementioned paper.\n",
        "\n",
        "The authors of the original extension of DP to Deep Learning justify the need for such a privacy mechanism based on the possibility that an attacker may reconstruct specific samples from the data perfectly in a sensitive context, such as facial recognition, while only having **black-box** access to the trained model. However, their algorithm for DP protects against even adversaries with full knowledge of the training procedure, access to the parameters and potential control over parts of the dataset. \n",
        "\n",
        "Their definition of DP is as follows: $Pr[M(d) \\in S] \\leq e^{\\epsilon} Pr[M(d') \\in S] + \\delta$ , where d and d' are considered adjacent if they differ by one record (training sample in our case) only. We can interpret this as stating that the probability of getting a particular output from our model when not including a specific sample should be close to the probability of getting the same output had we not included the sample. Specifically, when $\\epsilon=0$, the two probabilities are equal, and it is impossible to find out if that sample was included in the training set. Values of $\\epsilon>0$ provide less protection with the probability that the model produces different outputs when trained on adjacent datasets increasing exponentially with $\\epsilon$.\n",
        "\n",
        ">Importantly, the original definition of DP and the one you may have encountered before only contained the exponential term without the $\\delta$; however, this resulted in very strong requirements for not breaking privacy. This new form, $(\\epsilon, \\delta)$ privacy relaxed the requirement. Informally, it can be interpreted as allowing privacy at a given $\\epsilon$ level to be broken with probability $1-\\delta$. We do not have the scale of experimentation necessary to consider both in this lab, as such we will focus on $\\epsilon$ values at the detriment of analysing changes in $\\delta$. For the experiments in this lab, you can consider DP to be defined entirely in terms of ϵ. Formally, the transition to $(\\epsilon, \\delta)$ delta was necessary to move from an inefficient noise generation mechanism to Gaussian noise as ML models are much more complex than typical vector-valued functions. "
      ]
    },
    {
      "cell_type": "markdown",
      "metadata": {
        "id": "-QwrOIl5_SK8"
      },
      "source": [
        "Differentially private approximations of functions are usually constructed by the addition of noise proportional to the sensitivity of the function---think of it as the maximal impact that the addition or removal of a data point can have upon the output of the function. From now on, we shall refer to this noise level as the `noise_multiplier` as it scales the noise multiplicatively based on the sensitivity. When DP was extended to a DL context, making the system differentially private by intervening upon the gradients used during training rather than the final model was significantly more straightforward than operating on the model as a function after training. In the context of ML model updates (gradient descent steps or pseudo-gradients in FL), their sensitivity is generally defined in terms of the l2 norm (when noise is Gaussian) of the update, and the noise is thus scaled based on this norm.\n",
        "\n",
        "As such, the original DP-SGD operates as follows:\n",
        "\n",
        "1.   Compute the derivative concerning each sample (not minibatch)\n",
        "2.   Clip the l2 norm of the derivative so it falls below a given bound.\n",
        "3.   Aggregate these clipped derivatives and add Gaussian noise to obfuscate the impact of specific samples used to compute the gradients. Make the noise proportional to the l2 bound. \n",
        "\n",
        "Suppose we reframe DP to the original context of databases and records. In that case, the larger the number of noisy answers the database offers, the more an attacker can eliminate the noise by looking at the entire distribution of answers. Similarly, the more samples out of the total an ML model sees (or the more times it sees the same sample), the more the noise of the sample gradients average out. For a model to be trained for an extended period, it is thus necessary to use a higher `noise_multiplier`. We shall soon extend this trade-off to clients within an FL context. \n",
        "\n",
        "While this process operates reasonably in the context of centralised, applying DP-SgD on every client in FL is problematic, given the reduced efficiency of the training method. As a result of this inefficiency, the federated model will likely incur significant drops in its already low performance. Furthermore, multiplel studies have confirmed that applying DP locally has disastrous effects on the accuracy of the final federated model. "
      ]
    },
    {
      "cell_type": "markdown",
      "metadata": {
        "id": "dMV6nFEaszzq"
      },
      "source": [
        "# 3.User-level Differential Privacy"
      ]
    },
    {
      "cell_type": "markdown",
      "metadata": {
        "id": "UjeLJSKrGTk9"
      },
      "source": [
        "Differential privacy at a client/user level in FL follows the same definition, except adjacent datasets are constructed by adding or removing all samples from a given client. Thus, under maximum privacy scenarios with $\\epsilon=0$ and $\\delta=0$ two models should behave identically regardless of the presence of a specific user in the federation. For user-level DP, training with more users (rather than samples) results in the degradation of privacy. Thus, the `noise_multiplier` necessary to make an Fl system differentially private with respect to an l2 norm bound depends on the total number of users, the number of users sampled every round and the number of rounds.\n",
        "\n",
        "DP-FedAvg represents a reasonably direct analogue to DP-SgD as it applies the same process to FL pseudo-gradients that DP-SgD applies to gradients generated by one sample. Namely, it clips the gradients based on the L2 norm on the local client after training. The server then adds Gaussian noise related to the l2 norm bound via the `noise_multiplier` when it receives the gradients. \n",
        "\n",
        "However, this extension is hampered by the fact that DP-SgD assumes an IID distribution of samples. As we, clients in FL contain non-IID data and have skewed numbers of samples. As such, for the theoretical privacy guarantee to hold DP-FedAvg must assume that clients will not drop out and that the overall set of available clients in the population is static---both being significant limitations. Furthermore, unweighted aggregation is usually enforced since weighted aggregation is more likely to leak data from a specific user. An additional note worth making is that even when violating the theoretical assumptions of DP, applying noise and clipping gradients is still likely to make reconstructing data belonging to a specific client more difficult in practice. \n",
        "\n",
        "One final theoretical concern worth addressing prior to experimentation is the nature of the l2 norm clipping. Two specific questions arise in the early works discussing DP-FedAvg:\n",
        " \n",
        "*   Should the clipping be done per layer or uniformly across the entire model? Consider scenarios where a single large layer encodes all the relevant information about a specific user and is not clipped because the overall l2 norm of the gradient is lower than a generic bound. \n",
        "*   How should a l2 bound be chosen and changed? If the model updates are too small, the model is less likely to learn. However, a more oversized bound implies more noise and thus leads to potential degradation yet again. \n",
        "\n",
        "These questions have been answered by follow-up work. On the first point, this stack overflow answer by one of the authors of paper \\[3] above indicates that per-layer bounding leads to worse performance as it is harsher for little benefit. On the second point, methods for efficiently tracking a given quantile of the l2 distribution amongst client updates were proposed in \\[3]. We will glance at this adaptive mechanism in today's lab but shall not examine it in detail."
      ]
    },
    {
      "cell_type": "markdown",
      "metadata": {
        "id": "WLnBr0hNVrDN"
      },
      "source": [
        "**Question 1 (Part II ✅ | Part III/MPhil ✅):**\n",
        "\n",
        "\n",
        "(This is a conceptual question. Please do not provide more than three sentences per sub-question.)\n",
        "\n",
        "\n",
        "Consider two applications of FL, next-word prediction and image classification based on personal user data from smartphones. \n",
        "\n",
        "1. What kind of sensitive information could be extracted from models trained on these tasks? \n",
        "2. How would DP help preserve privacy for each task? \n",
        "3. Would sample-level or client-level DP be preferable for the more sensitive task?"
      ]
    },
    {
      "cell_type": "markdown",
      "metadata": {
        "id": "XKy_I5Pua9jU"
      },
      "source": [
        "**Question 1 Answer**\n",
        "\n",
        "1.\tFor image classification based on personal user data from smartphones, images related to personal information may be recovered such as human faces, indoor room pictures, etc. For next-word prediction, users’ typing habits may be recovered, which can sometimes be dangerous as it may expose personal routines and sensitive information such as passwords and search queries [1]. It can be more dangerous if the user is a celebrity or an important person.\n",
        "\n",
        "2.\tDeep learning models induce privacy concerns as they sometimes can memorize the patterns of individual data points but do not generalize well to the whole data distribution [2]. In the non-federated setting, DP prevents the reconstruction of a single data point. In the federated setting, DP facilities both anonymization (i.e., which clients hold the data is unknown) and anti-reconstruction [3].\n",
        "\n",
        "3.\tClient-level DP extends on sample-level DP such that effects of the arbitrary substitution of many data samples or the entire client’s local dataset are minimized by clipping client’s trained models. Since client-level DP offers stronger privacy protection from this aspect, I think client-level DP is more preferable for more sensitive tasks because we want to protect all data from a device but not a single data sample. As an example, the sensitive photos in users’ smartphone consist of different distributions such as selfies taken at home and pictures of workspace, and we can imagine each distribution represents a client.\n",
        "\n",
        "[1] https://arxiv.org/abs/1710.06963 \\\n",
        "[2] https://arxiv.org/abs/1611.03530 \\\n",
        "[3] https://ai.googleblog.com/2022/02/federated-learning-with-formal.html\n"
      ]
    },
    {
      "cell_type": "markdown",
      "metadata": {
        "id": "GynLLgmuDvJc"
      },
      "source": [
        "**Question 2 (Part III/MPhil ✅):**\n",
        "\n",
        "(This is a **short** conceptual question. Please do not provide more than four sentences as an answer.)\n",
        "\n",
        "The DP-SgD algorithm could be applied entirely locally by a given client. This should serve to obfuscate each one of their samples at a very high accuracy cost. What additional assumptions does DP-FedAvg require for its improvements in efficiency? Consider the trust dynamics between the client and the server.\n"
      ]
    },
    {
      "cell_type": "markdown",
      "metadata": {
        "id": "I_xZRh-fbLXU"
      },
      "source": [
        "**Question 2 Answer**\n",
        "\n",
        "First, device availability cannot be changed significantly [1]. Second, the server will not use information related to clients such as knowledge of the population size and model history in a malicious way [2]. Third, we assume all clients agree to participate in the training across rounds [2]. \n",
        "\n",
        "[1] https://arxiv.org/abs/2103.00039 \\\n",
        "[2] https://arxiv.org/abs/2007.06605\n"
      ]
    },
    {
      "cell_type": "markdown",
      "metadata": {
        "id": "KZJC77bkGAsd"
      },
      "source": [
        "## 3.1 Fixed Norm Bound DP"
      ]
    },
    {
      "cell_type": "markdown",
      "metadata": {
        "id": "ICiFR-C3szzq"
      },
      "source": [
        "We shall begin by implementing the `DPFedAvg` strategy based on the description above using a static bound on the l2 norm of clients. While we could near-effortlessly add client-level Differential Privacy by using wrappers provided by Flower, implementing its components should be straightforward and informative.\n",
        "\n",
        "The first cell provides utilities for gradient clipping and noise injection. The clipping operates via simple multiplication."
      ]
    },
    {
      "cell_type": "code",
      "execution_count": null,
      "metadata": {
        "id": "vz-8GaN1szzq"
      },
      "outputs": [],
      "source": [
        "def compute_model_delta(trained_parameters: NDArrays, og_parameters: NDArrays):\n",
        "    return [np.subtract(x, y) for (x, y) in zip(trained_parameters, og_parameters)]\n",
        "\n",
        "\n",
        "def compute_norm(update: NDArrays) -> float:\n",
        "    \"\"\"Compute the l2 norm of a parameter update with mismatched np array shapes, to be used in clipping\"\"\"\n",
        "    flat_update = update[0]\n",
        "    for i in range(1, len(update)):\n",
        "        flat_update = np.append(flat_update, update[i])  # type: ignore\n",
        "    squared_update = np.square(flat_update)\n",
        "    norm_sum = np.sum(squared_update)\n",
        "    norm = np.sqrt(norm_sum)\n",
        "    return norm\n",
        "\n",
        "\n",
        "def clip_by_l2(update: NDArrays, threshold: float) -> Tuple[NDArrays, bool]:\n",
        "    \"\"\"Scales the update so thats its L2 norm is upper-bound to threshold.\"\"\"\n",
        "    update_norm = compute_norm(update)\n",
        "    scaling_factor = min(1, threshold / update_norm)\n",
        "    update_clipped: NDArrays = [layer * scaling_factor for layer in update]\n",
        "    return update_clipped, (scaling_factor < 1)\n",
        "\n",
        "\n",
        "def add_gaussian_noise(update: NDArrays, std_dev: float) -> NDArrays:\n",
        "    \"\"\"Adds Gaussian noise of the given standard deviation to each floating\n",
        "    point value in the update.\"\"\"\n",
        "    update_noised = [\n",
        "        layer + np.random.normal(0, std_dev, layer.shape) for layer in update\n",
        "    ]\n",
        "    return update_noised\n"
      ]
    },
    {
      "cell_type": "markdown",
      "metadata": {
        "id": "HZ4oyylaYSED"
      },
      "source": [
        "These components are all we need to design a DP client which can add noise to its updates according to parameters received from the strategy. According to the evaluated threat model, the flower implementation allows noise injection to be equivalently done on the client or server. We shall assume a trustworthy server for this lab and eschew adding noise on the clients.\n",
        "\n",
        "The client training procedure shall follow the description above verbatim and proceed as follows:\n",
        "\n",
        "1.   The client receives the parameters and standard configuration arguments as in previous labs.\n",
        "2.   It also receives a maximum bound on the L2 norm of the trained model.\n",
        "3.   The model is trained, and the client computes the delta or **update** between its parameters and the original ones received.\n",
        "4.   The client computes the ratio between the L2 norm of its local update and the maximum it received. It then rescales all the weights in the update by this ratio, so the final norm is at-most the bound---since $||\\alpha \\times w||_2 = |\\alpha| \\times ||w||_2$.\n",
        "5.  The client applies the clipped update to the original parameters and potentially adds Gaussian noise---if this does not already happen on the server---before returning them. "
      ]
    },
    {
      "cell_type": "code",
      "execution_count": null,
      "metadata": {
        "colab": {
          "base_uri": "https://localhost:8080/"
        },
        "id": "jg6mnpsM8Rl9",
        "outputId": "743575c0-766e-4420-98ba-3a1cdc896fb2"
      },
      "outputs": [
        {
          "name": "stdout",
          "output_type": "stream",
          "text": [
            "Reduced federated test_set size from  28510  to a size of  1500  mean index: 14726.628666666667\n"
          ]
        }
      ],
      "source": [
        "np.random.seed(Seeds.DEFAULT)\n",
        "random.seed(Seeds.DEFAULT)\n",
        "torch.manual_seed(Seeds.DEFAULT)\n",
        "network_generator_cnn = get_network_generator_cnn()\n",
        "seed_net_cnn = network_generator_cnn()\n",
        "seed_model_cnn_params: NDArrays = get_model_parameters(seed_net_cnn)\n",
        "federated_evaluation_function = get_federated_evaluation_function(\n",
        "    data_dir=data_dir,\n",
        "    centralized_mapping=centralized_mapping,\n",
        "    device=get_device(),\n",
        "    batch_size=get_default_test_config()[\"batch_size\"],\n",
        "    num_workers=get_default_test_config()[\"num_workers\"],\n",
        "    model_generator=network_generator_cnn,\n",
        "    criterion=nn.CrossEntropyLoss(),\n",
        ")\n"
      ]
    },
    {
      "cell_type": "code",
      "execution_count": null,
      "metadata": {
        "id": "eaj-oumAszzq"
      },
      "outputs": [],
      "source": [
        "# Based on the original implementation by Vasundhara Agarwal\n",
        "class DPFlowerRayClient(FlowerRayClient):\n",
        "    def fit(\n",
        "        self, parameters: NDArrays, config: Dict[str, Scalar], **kwargs\n",
        "    ) -> Tuple[NDArrays, int, dict]:\n",
        "        \"\"\"Function which receives and trains a model on the local client data using parameters from the config dict while injecting gaussian noise into the parameter update\n",
        "\n",
        "        Args:\n",
        "            net (NDArrays): Pytorch model parameters\n",
        "            config (Dict[str, Scalar]): Dictionary describing the training parameters\n",
        "\n",
        "        Returns:\n",
        "            Tuple[NDArrays, int, dict]: Returns the updated model, the size of the local dataset and other metrics\n",
        "        \"\"\"\n",
        "        # Create a copy of the initial parameters\n",
        "        og_parameters = deepcopy(parameters)\n",
        "\n",
        "        # Only create model right before training/testing\n",
        "        # To lower memory usage when idle\n",
        "        net = self.set_parameters(parameters)\n",
        "        net.to(self.device)\n",
        "        train_loader: DataLoader = self._create_data_loader(\n",
        "            config, name=\"train\", **kwargs\n",
        "        )\n",
        "        train_loss = self._train(\n",
        "            net, train_loader=train_loader, config=config, **kwargs\n",
        "        )\n",
        "\n",
        "        # Metrics dict since the DP strategy requires an indicator\n",
        "        # to be returned if the model updates was not clipped on the client\n",
        "        # and should be clipped on the server\n",
        "        metrics = {\"train_loss\": train_loss}\n",
        "\n",
        "        trained_parameters = get_model_parameters(net)\n",
        "        # Calculate the delta between the two models\n",
        "        model_update = [\n",
        "            np.subtract(x, y) for (x, y) in zip(trained_parameters, og_parameters)\n",
        "        ]\n",
        "\n",
        "        # L2 norm of the model update prior to clipping\n",
        "        metrics[\"l2_model_update\"] = compute_norm(model_update)\n",
        "\n",
        "        # Clip the delta so all of the updates fall bellow\n",
        "        # The same norm\n",
        "        model_update, clipped = clip_by_l2(model_update, config[\"dpfedavg_clip_norm\"])\n",
        "\n",
        "        if \"dpfedavg_noise_stddev\" in config:\n",
        "            # Noising\n",
        "            model_update = add_gaussian_noise(\n",
        "                model_update, config[\"dpfedavg_noise_stddev\"]\n",
        "            )\n",
        "\n",
        "        for i, _ in enumerate(og_parameters):\n",
        "            trained_parameters[i] = og_parameters[i] + model_update[i]\n",
        "\n",
        "        # Calculating value of norm indicator bit, required for adaptive clipping\n",
        "        if \"dpfedavg_adaptive_clip_enabled\" in config:\n",
        "            if not isinstance(config[\"dpfedavg_adaptive_clip_enabled\"], bool):\n",
        "                raise Exception(\n",
        "                    \"dpfedavg_adaptive_clip_enabled should be a boolean-valued flag.\"\n",
        "                )\n",
        "            metrics[\"dpfedavg_norm_bit\"] = not clipped\n",
        "\n",
        "        return trained_parameters, len(train_loader), metrics\n"
      ]
    },
    {
      "cell_type": "markdown",
      "metadata": {
        "id": "e6TB5vmhp0u0"
      },
      "source": [
        "The following cell will construct a generator for this client class capable of filtering participants with less than one batch of data. This is necessary to avoid failures as \"DPFedAvg\" is not tolerant of dropouts."
      ]
    },
    {
      "cell_type": "code",
      "execution_count": null,
      "metadata": {
        "colab": {
          "base_uri": "https://localhost:8080/"
        },
        "id": "XIfz9DNHp0u0",
        "outputId": "1d4dffc7-47aa-4e9e-966c-33a4b61334a7"
      },
      "outputs": [
        {
          "name": "stdout",
          "output_type": "stream",
          "text": [
            "Num total clients: 3224\n"
          ]
        }
      ],
      "source": [
        "fl_client_gen = get_flower_client_generator(\n",
        "    network_generator_cnn, data_dir, federated_partition\n",
        ")\n",
        "client_to_num_sample: List[Tuple[int, int]] = [\n",
        "    (cid, fl_client_gen(i).get_train_set_size()) for i, cid in enumerate(range(3229))\n",
        "]\n",
        "df = pd.DataFrame(client_to_num_sample, columns=[\"cid\", \"n_samples\"])\n",
        "\n",
        "# Remove clients with less than 32 samples corresponding to the default batch size\n",
        "df.drop(df[df.n_samples < 32].index, inplace=True)\n",
        "df.reset_index(drop=True)\n",
        "num_total_clients = len(df)\n",
        "print(\"Num total clients:\", num_total_clients)\n",
        "\n",
        "\n",
        "def get_DP_client_generator(\n",
        "    model_generator: Callable[[], Module],\n",
        "    data_dir: Path,\n",
        "    partition_dir: Path,\n",
        "    mapping_fn: Optional[Callable[[int], int]] = lambda x: df.cid[x],\n",
        ") -> Callable[[str], FlowerRayClient]:\n",
        "    \"\"\"Wrapper function for the client instance generator.\n",
        "    This provides the client generator with a model generator function.\n",
        "    Also, the partition directory must be passed.\n",
        "    A mapping function could be used for filtering/ordering clients.\n",
        "\n",
        "    Args:\n",
        "        data_dir (Path): path to the dataset folder.\n",
        "        model_generator (Callable[[], Module]): model generator function.\n",
        "        partition_dir (Path): directory containing the partition.\n",
        "        mapping_fn (Optional[Callable[[int], int]]): function mapping sorted/filtered ids to real cid.\n",
        "\n",
        "    Returns:\n",
        "        Callable[[str], FlowerRayClient]: client instance.\n",
        "    \"\"\"\n",
        "\n",
        "    def client_fn(cid: str) -> DPFlowerRayClient:\n",
        "        \"\"\"Creates a single client instance given the client id `cid`.\n",
        "\n",
        "        Args:\n",
        "            cid (str): client id, Flower requires this to of type str.\n",
        "\n",
        "        Returns:\n",
        "            FlowerRayClient: client instance.\n",
        "        \"\"\"\n",
        "        return DPFlowerRayClient(\n",
        "            cid=mapping_fn(int(cid)) if mapping_fn is not None else int(cid),\n",
        "            data_dir=data_dir,\n",
        "            partition_dir=partition_dir,\n",
        "            model_generator=model_generator,\n",
        "        )\n",
        "\n",
        "    return client_fn\n"
      ]
    },
    {
      "cell_type": "markdown",
      "metadata": {
        "id": "j3UctBISKe_L"
      },
      "source": [
        "This DP client encapsulates all the meaningful work required for client-level differential privacy to be carried out. However, the strategy controls the l2 norm bound and the noise multiplier used to determine the Gaussian noise standard deviation based on this bound. \n",
        "\n",
        "We shall now implement a strategy capable of orchestrating DP clients in a manner which best preserves privacy within a given budget."
      ]
    },
    {
      "cell_type": "code",
      "execution_count": null,
      "metadata": {
        "id": "fQKfnfb7Q_Jj"
      },
      "outputs": [],
      "source": [
        "from typing import Callable, Dict, List, Optional, Tuple, Union\n",
        "\n",
        "from logging import INFO\n",
        "\n",
        "import numpy as np\n",
        "\n",
        "from flwr.common import (\n",
        "    FitIns,\n",
        "    EvaluateIns,\n",
        "    FitRes,\n",
        "    EvaluateRes,\n",
        "    MetricsAggregationFn,\n",
        "    NDArrays,\n",
        "    Parameters,\n",
        "    Scalar,\n",
        ")\n",
        "from flwr.common.logger import log\n",
        "from flwr.server.client_proxy import ClientProxy\n",
        "from math import sqrt\n",
        "from client_manager import CustomClientManager\n",
        "\n",
        "\n",
        "# Based on the original implementation by Vasundhara Agarwal\n",
        "class DPFedAvgFixed(FedAvgM):\n",
        "    \"\"\"Configurable FedAvg strategy implementation.\"\"\"\n",
        "\n",
        "    # pylint: disable=too-many-arguments,too-many-instance-attributes,line-too-long\n",
        "    def __init__(\n",
        "        self,\n",
        "        *,\n",
        "        fraction_fit: float = 1.0,\n",
        "        fraction_evaluate: float = 1.0,\n",
        "        min_fit_clients: int = 2,\n",
        "        min_evaluate_clients: int = 2,\n",
        "        min_available_clients: int = 2,\n",
        "        evaluate_fn: Optional[\n",
        "            Callable[\n",
        "                [int, NDArrays, Dict[str, Scalar]],\n",
        "                Optional[Tuple[float, Dict[str, Scalar]]],\n",
        "            ]\n",
        "        ] = None,\n",
        "        on_fit_config_fn: Optional[Callable[[int], Dict[str, Scalar]]] = None,\n",
        "        on_evaluate_config_fn: Optional[Callable[[int], Dict[str, Scalar]]] = None,\n",
        "        accept_failures: bool = False,\n",
        "        initial_parameters: Optional[Parameters] = None,\n",
        "        fit_metrics_aggregation_fn: Optional[MetricsAggregationFn] = None,\n",
        "        evaluate_metrics_aggregation_fn: Optional[MetricsAggregationFn] = None,\n",
        "        server_learning_rate: float = 1.0,\n",
        "        server_momentum: float = 0.0,\n",
        "        num_clients_per_round: int,\n",
        "        clip_norm: float,\n",
        "        noise_multiplier: float = 1,\n",
        "        server_side_noising: bool = True,\n",
        "    ) -> None:\n",
        "        super().__init__(\n",
        "            fraction_fit=fraction_fit,\n",
        "            fraction_evaluate=fraction_evaluate,\n",
        "            min_fit_clients=min_fit_clients,\n",
        "            min_evaluate_clients=min_evaluate_clients,\n",
        "            min_available_clients=min_available_clients,\n",
        "            evaluate_fn=evaluate_fn,\n",
        "            on_fit_config_fn=on_fit_config_fn,\n",
        "            on_evaluate_config_fn=on_evaluate_config_fn,\n",
        "            accept_failures=accept_failures,\n",
        "            initial_parameters=initial_parameters,\n",
        "            fit_metrics_aggregation_fn=fit_metrics_aggregation_fn,\n",
        "            evaluate_metrics_aggregation_fn=evaluate_metrics_aggregation_fn,\n",
        "            server_learning_rate=server_learning_rate,\n",
        "            server_momentum=server_momentum,\n",
        "        )\n",
        "        # Doing fixed-size subsampling as in https://arxiv.org/abs/1905.03871\n",
        "        self.num_clients_per_round = num_clients_per_round\n",
        "        self.noise_multiplier = noise_multiplier\n",
        "        self.server_side_noising = server_side_noising\n",
        "        self.clip_norm = clip_norm\n",
        "        self.parameters = None  # federated model at the start of the round\n",
        "\n",
        "    # Automatically calculate the standard deviation of the noise\n",
        "    # Based on the clip norm and number of clients per round\n",
        "    # The noise multiplier controls the number of standard deviations from the mean\n",
        "    def _calc_client_noise_stddev(self) -> float:\n",
        "        stddev = (\n",
        "            self.noise_multiplier * self.clip_norm / (sqrt(self.num_clients_per_round))\n",
        "        )\n",
        "        return float(stddev)\n",
        "\n",
        "    def configure_fit(\n",
        "        self,\n",
        "        server_round: int,\n",
        "        parameters: Parameters,\n",
        "        client_manager: CustomClientManager,\n",
        "    ) -> List[Tuple[ClientProxy, FitIns]]:\n",
        "        \"\"\"Configure the next round of training.\"\"\"\n",
        "        # Federated model at the start of the round\n",
        "        self.parameters = parameters\n",
        "\n",
        "        config = {}\n",
        "        if self.on_fit_config_fn is not None:\n",
        "            # Custom fit config function provided\n",
        "            config = self.on_fit_config_fn(server_round)\n",
        "\n",
        "        # Add DP info to config for local update clipping\n",
        "        config[\"dpfedavg_clip_norm\"] = self.clip_norm\n",
        "        if not self.server_side_noising:\n",
        "            config[\"dpfedavg_noise_stddev\"] = self._calc_client_noise_stddev()\n",
        "        fit_ins = FitIns(parameters, config)\n",
        "\n",
        "        # Sample clients\n",
        "        sample_size, min_num_clients = self.num_fit_clients(\n",
        "            client_manager.num_available()\n",
        "        )\n",
        "        clients = client_manager.sample(\n",
        "            num_clients=sample_size,\n",
        "            min_num_clients=min_num_clients,\n",
        "            server_round=server_round,\n",
        "        )\n",
        "\n",
        "        # Return client/config pairs\n",
        "        return [(client, fit_ins) for client in clients]\n",
        "\n",
        "    def aggregate_fit(\n",
        "        self,\n",
        "        server_round: int,\n",
        "        results: List[Tuple[ClientProxy, FitRes]],\n",
        "        failures: List[Union[Tuple[ClientProxy, FitRes], BaseException]],\n",
        "    ) -> Tuple[Optional[Parameters], Dict[str, Scalar]]:\n",
        "        if failures and not self.accept_failures:\n",
        "            return None, {}\n",
        "        # Forcing unweighted aggregation, as in https://arxiv.org/abs/1905.03871\n",
        "        # By setting the number of examples associated to each model\n",
        "        # To 1\n",
        "        for _, fit_res in results:\n",
        "            fit_res.num_examples = 1\n",
        "            if self.server_side_noising:\n",
        "                fit_res.parameters = ndarrays_to_parameters(\n",
        "                    add_gaussian_noise(\n",
        "                        parameters_to_ndarrays(fit_res.parameters),\n",
        "                        self._calc_client_noise_stddev(),\n",
        "                    )\n",
        "                )\n",
        "\n",
        "        # Compute and put the value of the L2 norm of the model delta into the history object \n",
        "        # as a metric into the already aggregated metrics object\n",
        "        parameters_aggregated, metrics_aggregated = super().aggregate_fit(server_round, results, failures)\n",
        "        model_delta = [np.subtract(x, y) for (x, y) in zip(parameters_to_ndarrays(self.parameters), parameters_to_ndarrays(parameters_aggregated))]\n",
        "        metrics_aggregated['l2_model_delta'] = compute_norm(model_delta)\n",
        "\n",
        "        return parameters_aggregated, metrics_aggregated\n"
      ]
    },
    {
      "cell_type": "markdown",
      "metadata": {
        "id": "F5OgozgrFI0k"
      },
      "source": [
        "Do observe how the unweighted aggregation combines with the norm clipping to limit the disproportionate impact of high-data clients upon the federated model to treat all clients close-to-equally regarding privacy leaks.\n",
        "\n",
        "We can now create a function to run such experiments, allowing you to easily maintain and change default parameters as needed."
      ]
    },
    {
      "cell_type": "code",
      "execution_count": null,
      "metadata": {
        "id": "KdbkwM6SVxFL"
      },
      "outputs": [],
      "source": [
        "dp_client_generator = get_DP_client_generator(\n",
        "    network_generator_cnn, data_dir, federated_partition, lambda x: df.cid[x]\n",
        ")\n",
        "default_parameters: Dict = {\n",
        "    \"train_config\": get_default_train_config(),\n",
        "    \"test_config\": get_default_test_config(),\n",
        "    \"num_total_clients\": num_total_clients,\n",
        "    \"num_clients_per_round\": 4,\n",
        "    \"num_evaluate_clients\": 0,\n",
        "    \"num_evaluate\": 0,\n",
        "    \"accept_failures\": False,\n",
        "    \"min_fit_clients\": 2,\n",
        "    \"min_available_clients\": 2,\n",
        "    \"initial_parameters\": ndarrays_to_parameters(seed_model_cnn_params),\n",
        "    \"client_generator\": dp_client_generator,\n",
        "    \"seed\": Seeds.DEFAULT,\n",
        "    \"num_rounds\": 10,\n",
        "    \"strategy\": DPFedAvgFixed,\n",
        "    \"fed_eval\": True,\n",
        "    \"server_side_noising\": True,\n",
        "}\n",
        "\n",
        "\n",
        "def run_DP_fixed_fl(\n",
        "    clip_norm: float = 4.0,\n",
        "    noise_multiplier: float = 0.05,\n",
        "    default_parameters=default_parameters,\n",
        "    **kwargs\n",
        "):\n",
        "    parameters: Dict = {**default_parameters, **kwargs}\n",
        "\n",
        "    on_fit_config_fn: Callable[[int], Dict[str, Scalar]] = lambda cid: parameters[\n",
        "        \"train_config\"\n",
        "    ]\n",
        "    on_evaluate_config_fn: Callable[[int], Dict[str, Scalar]] = lambda cid: parameters[\"test_config\"]  # type: ignore\n",
        "\n",
        "    fraction_fit: float = (\n",
        "        float(parameters[\"num_clients_per_round\"]) / parameters[\"num_total_clients\"]\n",
        "    )\n",
        "    fraction_evaluate: float = (\n",
        "        float(parameters[\"num_evaluate_clients\"]) / parameters[\"num_total_clients\"]\n",
        "    )\n",
        "\n",
        "    client_resources = {\n",
        "        \"num_gpus\": 1.0 / 2.0\n",
        "        if get_device() == \"cuda\" else 0.0,  # maximum amount of resources that a client can take\n",
        "        \"num_cpus\": 1,\n",
        "    }\n",
        "\n",
        "    strategy = parameters[\"strategy\"](\n",
        "        num_clients_per_round=parameters[\"num_clients_per_round\"],\n",
        "        fraction_fit=fraction_fit,\n",
        "        fraction_evaluate=fraction_evaluate,\n",
        "        min_fit_clients=parameters[\"min_fit_clients\"],\n",
        "        min_available_clients=parameters[\"min_available_clients\"],\n",
        "        on_fit_config_fn=on_fit_config_fn,\n",
        "        on_evaluate_config_fn=on_evaluate_config_fn,\n",
        "        initial_parameters=parameters[\"initial_parameters\"],\n",
        "        accept_failures=parameters[\"accept_failures\"],\n",
        "        evaluate_fn=federated_evaluation_function\n",
        "        if parameters[\"fed_eval\"] is True\n",
        "        else None,\n",
        "        fit_metrics_aggregation_fn=aggregate_weighted_average,\n",
        "        evaluate_metrics_aggregation_fn=aggregate_weighted_average,\n",
        "        clip_norm=clip_norm,\n",
        "        noise_multiplier=noise_multiplier,\n",
        "        server_side_noising=parameters[\"server_side_noising\"],\n",
        "    )\n",
        "    client_manager = CustomClientManager(criterion=None, seed=parameters[\"seed\"])\n",
        "    server = Server(\n",
        "        client_manager=client_manager,\n",
        "        strategy=strategy,\n",
        "    )\n",
        "    return start_seeded_simulation(\n",
        "        client_fn=parameters[\"client_generator\"],\n",
        "        num_clients=parameters[\"num_total_clients\"],\n",
        "        client_resources=client_resources,\n",
        "        server=server,\n",
        "        config=ServerConfig(num_rounds=parameters[\"num_rounds\"]),\n",
        "        strategy=strategy,\n",
        "        seed=parameters[\"seed\"],\n",
        "        name=f\"fixed_clip_norm_{clip_norm}_noise_{noise_multiplier}\"\n",
        "    )\n"
      ]
    },
    {
      "cell_type": "code",
      "execution_count": null,
      "metadata": {
        "colab": {
          "base_uri": "https://localhost:8080/"
        },
        "id": "x-_BWzXRdd12",
        "outputId": "d8a33940-ba88-467b-b09b-79c3cc4c39c7"
      },
      "outputs": [
        {
          "name": "stderr",
          "output_type": "stream",
          "text": [
            "WARNING flwr 2023-02-22 21:44:34,761 | app.py:187 | Both server and strategy were provided, ignoring strategy\n",
            "WARNING:flwr:Both server and strategy were provided, ignoring strategy\n",
            "INFO flwr 2023-02-22 21:44:34,765 | app.py:145 | Starting Flower simulation, config: ServerConfig(num_rounds=10, round_timeout=None)\n",
            "INFO:flwr:Starting Flower simulation, config: ServerConfig(num_rounds=10, round_timeout=None)\n",
            "2023-02-22 21:44:38,768\tINFO worker.py:1529 -- Started a local Ray instance. View the dashboard at \u001b[1m\u001b[32mhttp://127.0.0.1:8265 \u001b[39m\u001b[22m\n",
            "INFO flwr 2023-02-22 21:44:39,875 | app.py:179 | Flower VCE: Ray initialized with resources: {'memory': 7960901223.0, 'object_store_memory': 3980450611.0, 'node:172.28.0.12': 1.0, 'GPU': 1.0, 'CPU': 2.0}\n",
            "INFO:flwr:Flower VCE: Ray initialized with resources: {'memory': 7960901223.0, 'object_store_memory': 3980450611.0, 'node:172.28.0.12': 1.0, 'GPU': 1.0, 'CPU': 2.0}\n",
            "INFO flwr 2023-02-22 21:44:39,904 | server.py:176 | Initializing global parameters\n",
            "INFO:flwr:Initializing global parameters\n",
            "INFO flwr 2023-02-22 21:44:39,909 | server.py:359 | Using initial parameters provided by strategy\n",
            "INFO:flwr:Using initial parameters provided by strategy\n",
            "INFO flwr 2023-02-22 21:44:39,920 | server.py:178 | Evaluating initial parameters\n",
            "INFO:flwr:Evaluating initial parameters\n",
            "100%|██████████| 47/47 [00:08<00:00,  5.60it/s]\n",
            "INFO flwr 2023-02-22 21:44:55,234 | server.py:181 | initial parameters (loss, other metrics): 194.37576723098755, {'accuracy': 0.004}\n",
            "INFO:flwr:initial parameters (loss, other metrics): 194.37576723098755, {'accuracy': 0.004}\n",
            "INFO flwr 2023-02-22 21:44:55,238 | server.py:191 | FL starting\n",
            "INFO:flwr:FL starting\n",
            "INFO flwr 2023-02-22 21:44:55,246 | client_manager.py:49 | Sampling using None\n",
            "INFO:flwr:Sampling using None\n",
            "DEBUG flwr 2023-02-22 21:44:55,254 | server.py:308 | fit_round 1: strategy sampled 4 clients (out of 3224)\n",
            "DEBUG:flwr:fit_round 1: strategy sampled 4 clients (out of 3224)\n"
          ]
        },
        {
          "name": "stdout",
          "output_type": "stream",
          "text": [
            "Sampled the following clients:  ['1101', '2904', '2613', '3179']\n"
          ]
        },
        {
          "name": "stderr",
          "output_type": "stream",
          "text": [
            "DEBUG flwr 2023-02-22 21:45:31,010 | server.py:322 | fit_round 1 received 4 results and 0 failures\n",
            "DEBUG:flwr:fit_round 1 received 4 results and 0 failures\n",
            "100%|██████████| 47/47 [00:01<00:00, 43.05it/s]\n",
            "INFO flwr 2023-02-22 21:45:32,161 | server.py:209 | fit progress: (1, 187.4534876346588, {'accuracy': 0.07933333333333334}, 36.918819480999446)\n",
            "INFO:flwr:fit progress: (1, 187.4534876346588, {'accuracy': 0.07933333333333334}, 36.918819480999446)\n",
            "INFO flwr 2023-02-22 21:45:32,166 | server.py:256 | evaluate_round 1: no clients selected, cancel\n",
            "INFO:flwr:evaluate_round 1: no clients selected, cancel\n",
            "INFO flwr 2023-02-22 21:45:32,184 | client_manager.py:49 | Sampling using None\n",
            "INFO:flwr:Sampling using None\n",
            "DEBUG flwr 2023-02-22 21:45:32,187 | server.py:308 | fit_round 2: strategy sampled 4 clients (out of 3224)\n",
            "DEBUG:flwr:fit_round 2: strategy sampled 4 clients (out of 3224)\n"
          ]
        },
        {
          "name": "stdout",
          "output_type": "stream",
          "text": [
            "Sampled the following clients:  ['1418', '27', '1758', '410']\n"
          ]
        },
        {
          "name": "stderr",
          "output_type": "stream",
          "text": [
            "DEBUG flwr 2023-02-22 21:46:14,467 | server.py:322 | fit_round 2 received 4 results and 0 failures\n",
            "DEBUG:flwr:fit_round 2 received 4 results and 0 failures\n",
            "100%|██████████| 47/47 [00:02<00:00, 18.71it/s]\n",
            "INFO flwr 2023-02-22 21:46:17,072 | server.py:209 | fit progress: (2, 180.0501708984375, {'accuracy': 0.07933333333333334}, 81.83029213100053)\n",
            "INFO:flwr:fit progress: (2, 180.0501708984375, {'accuracy': 0.07933333333333334}, 81.83029213100053)\n",
            "INFO flwr 2023-02-22 21:46:17,084 | server.py:256 | evaluate_round 2: no clients selected, cancel\n",
            "INFO:flwr:evaluate_round 2: no clients selected, cancel\n",
            "INFO flwr 2023-02-22 21:46:17,119 | client_manager.py:49 | Sampling using None\n",
            "INFO:flwr:Sampling using None\n",
            "DEBUG flwr 2023-02-22 21:46:17,130 | server.py:308 | fit_round 3: strategy sampled 4 clients (out of 3224)\n",
            "DEBUG:flwr:fit_round 3: strategy sampled 4 clients (out of 3224)\n"
          ]
        },
        {
          "name": "stdout",
          "output_type": "stream",
          "text": [
            "Sampled the following clients:  ['2215', '1477', '3146', '993']\n",
            "\u001b[2m\u001b[1m\u001b[36m(scheduler +4h4m54s)\u001b[0m Tip: use `ray status` to view detailed cluster status. To disable these messages, set RAY_SCHEDULER_EVENTS=0.\n",
            "\u001b[2m\u001b[1m\u001b[33m(scheduler +4h4m54s)\u001b[0m Warning: The following resource request cannot be scheduled right now: {'CPU': 1.0, 'GPU': 0.5}. This is likely due to all cluster resources being claimed by actors. Consider creating fewer actors or adding more nodes to this Ray cluster.\n"
          ]
        },
        {
          "name": "stderr",
          "output_type": "stream",
          "text": [
            "DEBUG flwr 2023-02-22 21:47:12,794 | server.py:322 | fit_round 3 received 4 results and 0 failures\n",
            "DEBUG:flwr:fit_round 3 received 4 results and 0 failures\n",
            "100%|██████████| 47/47 [00:01<00:00, 31.95it/s]\n",
            "INFO flwr 2023-02-22 21:47:14,339 | server.py:209 | fit progress: (3, 172.24974966049194, {'accuracy': 0.07933333333333334}, 139.09726948299976)\n",
            "INFO:flwr:fit progress: (3, 172.24974966049194, {'accuracy': 0.07933333333333334}, 139.09726948299976)\n",
            "INFO flwr 2023-02-22 21:47:14,343 | server.py:256 | evaluate_round 3: no clients selected, cancel\n",
            "INFO:flwr:evaluate_round 3: no clients selected, cancel\n",
            "INFO flwr 2023-02-22 21:47:14,361 | client_manager.py:49 | Sampling using None\n",
            "INFO:flwr:Sampling using None\n",
            "DEBUG flwr 2023-02-22 21:47:14,367 | server.py:308 | fit_round 4: strategy sampled 4 clients (out of 3224)\n",
            "DEBUG:flwr:fit_round 4: strategy sampled 4 clients (out of 3224)\n"
          ]
        },
        {
          "name": "stdout",
          "output_type": "stream",
          "text": [
            "Sampled the following clients:  ['2955', '1583', '580', '779']\n"
          ]
        },
        {
          "name": "stderr",
          "output_type": "stream",
          "text": [
            "DEBUG flwr 2023-02-22 21:47:47,784 | server.py:322 | fit_round 4 received 4 results and 0 failures\n",
            "DEBUG:flwr:fit_round 4 received 4 results and 0 failures\n",
            "100%|██████████| 47/47 [00:00<00:00, 53.35it/s]\n",
            "INFO flwr 2023-02-22 21:47:48,717 | server.py:209 | fit progress: (4, 167.46495723724365, {'accuracy': 0.10866666666666666}, 173.47534074800024)\n",
            "INFO:flwr:fit progress: (4, 167.46495723724365, {'accuracy': 0.10866666666666666}, 173.47534074800024)\n",
            "INFO flwr 2023-02-22 21:47:48,723 | server.py:256 | evaluate_round 4: no clients selected, cancel\n",
            "INFO:flwr:evaluate_round 4: no clients selected, cancel\n",
            "INFO flwr 2023-02-22 21:47:48,743 | client_manager.py:49 | Sampling using None\n",
            "INFO:flwr:Sampling using None\n",
            "DEBUG flwr 2023-02-22 21:47:48,749 | server.py:308 | fit_round 5: strategy sampled 4 clients (out of 3224)\n",
            "DEBUG:flwr:fit_round 5: strategy sampled 4 clients (out of 3224)\n"
          ]
        },
        {
          "name": "stdout",
          "output_type": "stream",
          "text": [
            "Sampled the following clients:  ['1656', '1717', '1348', '261']\n"
          ]
        },
        {
          "name": "stderr",
          "output_type": "stream",
          "text": [
            "DEBUG flwr 2023-02-22 21:48:27,311 | server.py:322 | fit_round 5 received 4 results and 0 failures\n",
            "DEBUG:flwr:fit_round 5 received 4 results and 0 failures\n",
            "100%|██████████| 47/47 [00:01<00:00, 29.20it/s]\n",
            "INFO flwr 2023-02-22 21:48:28,998 | server.py:209 | fit progress: (5, 161.6398024559021, {'accuracy': 0.16533333333333333}, 213.756532024001)\n",
            "INFO:flwr:fit progress: (5, 161.6398024559021, {'accuracy': 0.16533333333333333}, 213.756532024001)\n",
            "INFO flwr 2023-02-22 21:48:29,003 | server.py:256 | evaluate_round 5: no clients selected, cancel\n",
            "INFO:flwr:evaluate_round 5: no clients selected, cancel\n",
            "INFO flwr 2023-02-22 21:48:29,023 | client_manager.py:49 | Sampling using None\n",
            "INFO:flwr:Sampling using None\n",
            "DEBUG flwr 2023-02-22 21:48:29,025 | server.py:308 | fit_round 6: strategy sampled 4 clients (out of 3224)\n",
            "DEBUG:flwr:fit_round 6: strategy sampled 4 clients (out of 3224)\n"
          ]
        },
        {
          "name": "stdout",
          "output_type": "stream",
          "text": [
            "Sampled the following clients:  ['346', '2627', '2817', '1058']\n"
          ]
        },
        {
          "name": "stderr",
          "output_type": "stream",
          "text": [
            "DEBUG flwr 2023-02-22 21:49:11,179 | server.py:322 | fit_round 6 received 4 results and 0 failures\n",
            "DEBUG:flwr:fit_round 6 received 4 results and 0 failures\n",
            "100%|██████████| 47/47 [00:01<00:00, 37.77it/s]\n",
            "INFO flwr 2023-02-22 21:49:12,505 | server.py:209 | fit progress: (6, 160.52611374855042, {'accuracy': 0.15866666666666668}, 257.2634178499993)\n",
            "INFO:flwr:fit progress: (6, 160.52611374855042, {'accuracy': 0.15866666666666668}, 257.2634178499993)\n",
            "INFO flwr 2023-02-22 21:49:12,509 | server.py:256 | evaluate_round 6: no clients selected, cancel\n",
            "INFO:flwr:evaluate_round 6: no clients selected, cancel\n",
            "INFO flwr 2023-02-22 21:49:12,556 | client_manager.py:49 | Sampling using None\n",
            "INFO:flwr:Sampling using None\n",
            "DEBUG flwr 2023-02-22 21:49:12,572 | server.py:308 | fit_round 7: strategy sampled 4 clients (out of 3224)\n",
            "DEBUG:flwr:fit_round 7: strategy sampled 4 clients (out of 3224)\n"
          ]
        },
        {
          "name": "stdout",
          "output_type": "stream",
          "text": [
            "Sampled the following clients:  ['2251', '159', '3062', '2996']\n"
          ]
        },
        {
          "name": "stderr",
          "output_type": "stream",
          "text": [
            "DEBUG flwr 2023-02-22 21:49:50,563 | server.py:322 | fit_round 7 received 4 results and 0 failures\n",
            "DEBUG:flwr:fit_round 7 received 4 results and 0 failures\n",
            "100%|██████████| 47/47 [00:01<00:00, 42.60it/s]\n",
            "INFO flwr 2023-02-22 21:49:51,744 | server.py:209 | fit progress: (7, 147.14455437660217, {'accuracy': 0.23466666666666666}, 296.5025352690009)\n",
            "INFO:flwr:fit progress: (7, 147.14455437660217, {'accuracy': 0.23466666666666666}, 296.5025352690009)\n",
            "INFO flwr 2023-02-22 21:49:51,747 | server.py:256 | evaluate_round 7: no clients selected, cancel\n",
            "INFO:flwr:evaluate_round 7: no clients selected, cancel\n",
            "INFO flwr 2023-02-22 21:49:51,776 | client_manager.py:49 | Sampling using None\n",
            "INFO:flwr:Sampling using None\n",
            "DEBUG flwr 2023-02-22 21:49:51,787 | server.py:308 | fit_round 8: strategy sampled 4 clients (out of 3224)\n",
            "DEBUG:flwr:fit_round 8: strategy sampled 4 clients (out of 3224)\n"
          ]
        },
        {
          "name": "stdout",
          "output_type": "stream",
          "text": [
            "Sampled the following clients:  ['2411', '528', '943', '725']\n"
          ]
        },
        {
          "name": "stderr",
          "output_type": "stream",
          "text": [
            "DEBUG flwr 2023-02-22 21:50:25,346 | server.py:322 | fit_round 8 received 4 results and 0 failures\n",
            "DEBUG:flwr:fit_round 8 received 4 results and 0 failures\n",
            "100%|██████████| 47/47 [00:00<00:00, 55.15it/s]\n",
            "INFO flwr 2023-02-22 21:50:26,252 | server.py:209 | fit progress: (8, 140.04256224632263, {'accuracy': 0.31333333333333335}, 331.01057006500014)\n",
            "INFO:flwr:fit progress: (8, 140.04256224632263, {'accuracy': 0.31333333333333335}, 331.01057006500014)\n",
            "INFO flwr 2023-02-22 21:50:26,257 | server.py:256 | evaluate_round 8: no clients selected, cancel\n",
            "INFO:flwr:evaluate_round 8: no clients selected, cancel\n",
            "INFO flwr 2023-02-22 21:50:26,275 | client_manager.py:49 | Sampling using None\n",
            "INFO:flwr:Sampling using None\n",
            "DEBUG flwr 2023-02-22 21:50:26,283 | server.py:308 | fit_round 9: strategy sampled 4 clients (out of 3224)\n",
            "DEBUG:flwr:fit_round 9: strategy sampled 4 clients (out of 3224)\n"
          ]
        },
        {
          "name": "stdout",
          "output_type": "stream",
          "text": [
            "Sampled the following clients:  ['1850', '249', '2079', '1864']\n"
          ]
        },
        {
          "name": "stderr",
          "output_type": "stream",
          "text": [
            "DEBUG flwr 2023-02-22 21:51:05,294 | server.py:322 | fit_round 9 received 4 results and 0 failures\n",
            "DEBUG:flwr:fit_round 9 received 4 results and 0 failures\n",
            "100%|██████████| 47/47 [00:01<00:00, 35.70it/s]\n",
            "INFO flwr 2023-02-22 21:51:06,696 | server.py:209 | fit progress: (9, 137.66507411003113, {'accuracy': 0.2813333333333333}, 371.45385099600026)\n",
            "INFO:flwr:fit progress: (9, 137.66507411003113, {'accuracy': 0.2813333333333333}, 371.45385099600026)\n",
            "INFO flwr 2023-02-22 21:51:06,699 | server.py:256 | evaluate_round 9: no clients selected, cancel\n",
            "INFO:flwr:evaluate_round 9: no clients selected, cancel\n",
            "INFO flwr 2023-02-22 21:51:06,739 | client_manager.py:49 | Sampling using None\n",
            "INFO:flwr:Sampling using None\n",
            "DEBUG flwr 2023-02-22 21:51:06,752 | server.py:308 | fit_round 10: strategy sampled 4 clients (out of 3224)\n",
            "DEBUG:flwr:fit_round 10: strategy sampled 4 clients (out of 3224)\n"
          ]
        },
        {
          "name": "stdout",
          "output_type": "stream",
          "text": [
            "Sampled the following clients:  ['2777', '82', '2583', '2652']\n"
          ]
        },
        {
          "name": "stderr",
          "output_type": "stream",
          "text": [
            "DEBUG flwr 2023-02-22 21:51:42,120 | server.py:322 | fit_round 10 received 4 results and 0 failures\n",
            "DEBUG:flwr:fit_round 10 received 4 results and 0 failures\n",
            "100%|██████████| 47/47 [00:00<00:00, 61.00it/s]\n",
            "INFO flwr 2023-02-22 21:51:42,945 | server.py:209 | fit progress: (10, 126.38915252685547, {'accuracy': 0.332}, 407.70360196600086)\n",
            "INFO:flwr:fit progress: (10, 126.38915252685547, {'accuracy': 0.332}, 407.70360196600086)\n",
            "INFO flwr 2023-02-22 21:51:42,951 | server.py:256 | evaluate_round 10: no clients selected, cancel\n",
            "INFO:flwr:evaluate_round 10: no clients selected, cancel\n",
            "INFO flwr 2023-02-22 21:51:42,957 | server.py:237 | FL finished in 407.7149235649995\n",
            "INFO:flwr:FL finished in 407.7149235649995\n",
            "INFO flwr 2023-02-22 21:51:42,963 | app.py:202 | app_fit: losses_distributed []\n",
            "INFO:flwr:app_fit: losses_distributed []\n",
            "INFO flwr 2023-02-22 21:51:42,969 | app.py:203 | app_fit: metrics_distributed {'Placeholder, see fit and eval metrics distributed results in hist object': [1, 1]}\n",
            "INFO:flwr:app_fit: metrics_distributed {'Placeholder, see fit and eval metrics distributed results in hist object': [1, 1]}\n",
            "INFO flwr 2023-02-22 21:51:42,976 | app.py:204 | app_fit: losses_centralized [(0, 194.37576723098755), (1, 187.4534876346588), (2, 180.0501708984375), (3, 172.24974966049194), (4, 167.46495723724365), (5, 161.6398024559021), (6, 160.52611374855042), (7, 147.14455437660217), (8, 140.04256224632263), (9, 137.66507411003113), (10, 126.38915252685547)]\n",
            "INFO:flwr:app_fit: losses_centralized [(0, 194.37576723098755), (1, 187.4534876346588), (2, 180.0501708984375), (3, 172.24974966049194), (4, 167.46495723724365), (5, 161.6398024559021), (6, 160.52611374855042), (7, 147.14455437660217), (8, 140.04256224632263), (9, 137.66507411003113), (10, 126.38915252685547)]\n",
            "INFO flwr 2023-02-22 21:51:42,981 | app.py:205 | app_fit: metrics_centralized {'accuracy': [(0, 0.004), (1, 0.07933333333333334), (2, 0.07933333333333334), (3, 0.07933333333333334), (4, 0.10866666666666666), (5, 0.16533333333333333), (6, 0.15866666666666668), (7, 0.23466666666666666), (8, 0.31333333333333335), (9, 0.2813333333333333), (10, 0.332)]}\n",
            "INFO:flwr:app_fit: metrics_centralized {'accuracy': [(0, 0.004), (1, 0.07933333333333334), (2, 0.07933333333333334), (3, 0.07933333333333334), (4, 0.10866666666666666), (5, 0.16533333333333333), (6, 0.15866666666666668), (7, 0.23466666666666666), (8, 0.31333333333333335), (9, 0.2813333333333333), (10, 0.332)]}\n"
          ]
        }
      ],
      "source": [
        "hist_clip_bound_4_noise_0_05 = run_DP_fixed_fl(4)"
      ]
    },
    {
      "cell_type": "code",
      "execution_count": null,
      "metadata": {
        "colab": {
          "base_uri": "https://localhost:8080/"
        },
        "id": "2PlItuFGYJ-n",
        "outputId": "dced3e48-ae26-463b-b90d-bae1ca5d0174"
      },
      "outputs": [
        {
          "data": {
            "text/plain": [
              "History (loss, centralized):\n",
              "\tround 0: 194.37576723098755\n",
              "\tround 1: 187.45237493515015\n",
              "\tround 2: 180.11544942855835\n",
              "\tround 3: 171.2370002269745\n",
              "\tround 4: 169.46383571624756\n",
              "\tround 5: 158.88533759117126\n",
              "\tround 6: 159.07189798355103\n",
              "\tround 7: 153.92248606681824\n",
              "\tround 8: 142.17219519615173\n",
              "\tround 9: 133.54486322402954\n",
              "\tround 10: 122.79325318336487\n",
              "History (metrics, distributed, fit):\n",
              "{'train_loss': [(1, {'avg': 0.1021595629863441, 'all': [(1, 0.1065785214304924), (1, 0.10078981518745422), (1, 0.10017700865864754), (1, 0.10109290666878223)]}), (2, {'avg': 0.09987236398996578, 'all': [(1, 0.10197868943214417), (1, 0.08631644894679387), (1, 0.09848521836102009), (1, 0.112709099219905)]}), (3, {'avg': 0.07414832242232348, 'all': [(1, 0.09307243568556649), (1, 0.08260948956012726), (1, 0.056257594376802444), (1, 0.06465377006679773)]}), (4, {'avg': 0.07364224388397166, 'all': [(1, 0.0820586553641728), (1, 0.03705956041812897), (1, 0.11469640284776687), (1, 0.060754356905817986)]}), (5, {'avg': 0.051069766108412296, 'all': [(1, 0.07686796225607395), (1, 0.01887087128125131), (1, 0.07152354344725609), (1, 0.03701668744906783)]}), (6, {'avg': 0.04160966112976894, 'all': [(1, 0.016769047593697906), (1, 0.0444612693041563), (1, 0.08511241525411606), (1, 0.020095912367105485)]}), (7, {'avg': 0.022238872427260505, 'all': [(1, 0.026981026865541935), (1, 0.014093178207986057), (1, 0.018606734462082386), (1, 0.029274550173431634)]}), (8, {'avg': 0.01886337441004192, 'all': [(1, 0.03143458487465978), (1, 0.006092693516984582), (1, 0.01254492656638225), (1, 0.025381292682141066)]}), (9, {'avg': 0.01435339781730565, 'all': [(1, 0.006839453475549817), (1, 0.002503228955902159), (1, 0.0027230684160410115), (1, 0.04534784042172962)]}), (10, {'avg': 0.010876062737224858, 'all': [(1, 0.0017274723068112507), (1, 0.005248828744515777), (1, 0.03458522316068411), (1, 0.0019427267368882894)]})], 'l2_model_update': [(1, {'avg': 9.723812103271484, 'all': [(1, 11.204015), (1, 9.11286), (1, 9.340201), (1, 9.238173)]}), (2, {'avg': 8.902300521823285, 'all': [(1, 6.391059802023678), (1, 13.824017005087041), (1, 6.642302416418204), (1, 8.751822863764222)]}), (3, {'avg': 12.064013136428702, 'all': [(1, 13.281533530683733), (1, 11.332972321650642), (1, 12.121689805823246), (1, 11.51985688755719)]}), (4, {'avg': 12.240684711657021, 'all': [(1, 14.773128342156426), (1, 11.170117251310435), (1, 11.901188762628655), (1, 11.118304490532568)]}), (5, {'avg': 13.312286607934594, 'all': [(1, 18.12300894484223), (1, 12.63830077359341), (1, 10.622284532562308), (1, 11.86555218074043)]}), (6, {'avg': 15.673995579111624, 'all': [(1, 12.809910291391201), (1, 20.583905428397447), (1, 15.823268659438737), (1, 13.47889793721911)]}), (7, {'avg': 13.988907149465408, 'all': [(1, 10.023649289819506), (1, 13.14353230788258), (1, 12.873093004345119), (1, 19.91535399581443)]}), (8, {'avg': 15.422807037397899, 'all': [(1, 19.798233040241282), (1, 13.74002285603518), (1, 10.893219331729131), (1, 17.259752921586003)]}), (9, {'avg': 13.757229712894329, 'all': [(1, 12.846084588667116), (1, 11.7006391160805), (1, 11.204628502096845), (1, 19.277566644732858)]}), (10, {'avg': 15.359101213180985, 'all': [(1, 12.840965348441742), (1, 14.011017799011313), (1, 19.435475569566197), (1, 15.148946135704687)]})], 'l2_model_delta': [(1, 11.406502251145525), (2, 11.371890251639437), (3, 11.403667253624219), (4, 11.341509872274811), (5, 11.362382899076154), (6, 11.305795656115253), (7, 11.409479511019825), (8, 11.314133886511945), (9, 11.339089634949485), (10, 11.383361422236419)]}History (metrics, centralized):\n",
              "{'accuracy': [(0, 0.004), (1, 0.07933333333333334), (2, 0.07933333333333334), (3, 0.07933333333333334), (4, 0.08733333333333333), (5, 0.148), (6, 0.178), (7, 0.234), (8, 0.26666666666666666), (9, 0.31), (10, 0.364)]}"
            ]
          },
          "execution_count": 15,
          "metadata": {},
          "output_type": "execute_result"
        }
      ],
      "source": [
        "hist_clip_bound_4_noise_0_05"
      ]
    },
    {
      "cell_type": "markdown",
      "metadata": {
        "id": "uISxIgrgBS3P"
      },
      "source": [
        "**Question 3 (Part II ✅ | Part III/MPhil ✅):**\n",
        "\n",
        "(You must provide the answer with **code** and **plots** for this question. A short written argumentation is recommended.)\n",
        "\n",
        "Norm-clipping is an often-used technique in FL that resembles the previously discussed FedProx---or FedAvg with a `server_learning_rate<1.0`. When it is used to tackle data heterogeneity, it limits the divergence of highly heterogeneous clients. In the context of privacy, more significant updates are likely to come from either larger or more heterogeneous clients. Thus, when combined with unweighted aggregation, norm clipping stabilises training. However, it may slow down improvements in accuracy. \n",
        "\n",
        ">It is important to note that, theoretically, the triangle inequality assures us that the overall federated model update will have a norm bellow `clip_norm`.\n",
        "\n",
        "\n",
        "You will now examine the effects of norm-clipping on model accuracy irrespective of noise. \n",
        "\n",
        "1. Use one round of federated training with `num_clients_per_round=16` to empirically derive a **very rough baseline** of the average L2 norm at the beginning of training. Modify the client `fit` function to return in the metrics dictionary the L2 norm of the model update **prior** to clipping. Finally, compute the mean $\\mu$ of the L2 norms from all of the 16 clients. You can find them in the history object returned in the \"all\" category of the metric. *NOTE: do not use the \"avg\" because it is weighted.*\n",
        "  >The results of this question will be used in the next one. Thus, to save yourself work, modify the strategy object. Make it compute the L2 norm of the overall model delta. This delta is defined as the difference between the federated model at the start of the round and the federated model after aggregation. Put the value of the L2 norm of the delta into the history object as a metric into the already aggregated metrics object. (The strategy has access to the starting parameters of a round in `configure_fit` as well as the aggregated metrics of all the clients.)\n",
        "  \n",
        "2. Using values of `clip_norm`$\\in \\{ \\mu \\times 0.5,\\, \\mu, \\,\\mu \\times 1.5\\}$, run `DPFedAvgFixed` experiments with the same parameters as the example provided above using a `noise_multiplier=0`. \n",
        "\n",
        "3.  Plot per-round accuracy on the federated test set of models trained using the three bounds above. Which bound converges the fastest and to the highest final accuracy, and why do you think that is? "
      ]
    },
    {
      "cell_type": "markdown",
      "metadata": {
        "id": "JEy8k5e2ZkLd"
      },
      "source": [
        "**Question 3 Code**"
      ]
    },
    {
      "cell_type": "code",
      "execution_count": null,
      "metadata": {
        "colab": {
          "base_uri": "https://localhost:8080/"
        },
        "id": "7DXpflqURP_6",
        "outputId": "cea839cc-f918-418b-e23d-b5f9181f7f45"
      },
      "outputs": [
        {
          "name": "stdout",
          "output_type": "stream",
          "text": [
            "Looking in indexes: https://pypi.org/simple, https://us-python.pkg.dev/colab-wheels/public/simple/\n",
            "Collecting matplotlib==3.1.3\n",
            "  Using cached matplotlib-3.1.3-cp38-cp38-manylinux1_x86_64.whl (13.1 MB)\n",
            "Requirement already satisfied: cycler>=0.10 in /usr/local/lib/python3.8/dist-packages (from matplotlib==3.1.3) (0.11.0)\n",
            "Requirement already satisfied: python-dateutil>=2.1 in /usr/local/lib/python3.8/dist-packages (from matplotlib==3.1.3) (2.8.2)\n",
            "Requirement already satisfied: kiwisolver>=1.0.1 in /usr/local/lib/python3.8/dist-packages (from matplotlib==3.1.3) (1.4.4)\n",
            "Requirement already satisfied: numpy>=1.11 in /usr/local/lib/python3.8/dist-packages (from matplotlib==3.1.3) (1.22.4)\n",
            "Requirement already satisfied: pyparsing!=2.0.4,!=2.1.2,!=2.1.6,>=2.0.1 in /usr/local/lib/python3.8/dist-packages (from matplotlib==3.1.3) (3.0.9)\n",
            "Requirement already satisfied: six>=1.5 in /usr/local/lib/python3.8/dist-packages (from python-dateutil>=2.1->matplotlib==3.1.3) (1.15.0)\n",
            "Installing collected packages: matplotlib\n",
            "  Attempting uninstall: matplotlib\n",
            "    Found existing installation: matplotlib 3.7.0\n",
            "    Uninstalling matplotlib-3.7.0:\n",
            "      Successfully uninstalled matplotlib-3.7.0\n",
            "\u001b[31mERROR: pip's dependency resolver does not currently take into account all the packages that are installed. This behaviour is the source of the following dependency conflicts.\n",
            "tensorflow-privacy 0.8.7 requires matplotlib~=3.3, but you have matplotlib 3.1.3 which is incompatible.\u001b[0m\u001b[31m\n",
            "\u001b[0mSuccessfully installed matplotlib-3.1.3\n",
            "\u001b[33mWARNING: Running pip as the 'root' user can result in broken permissions and conflicting behaviour with the system package manager. It is recommended to use a virtual environment instead: https://pip.pypa.io/warnings/venv\u001b[0m\u001b[33m\n",
            "\u001b[0m"
          ]
        }
      ],
      "source": [
        "from itertools import accumulate\n",
        "!pip install matplotlib==3.1.3"
      ]
    },
    {
      "cell_type": "code",
      "execution_count": null,
      "metadata": {
        "id": "ltkk14mRSeuX"
      },
      "outputs": [],
      "source": [
        "def load_hist_object(filenames: List[str], hists: List[None]) -> List[History]:\n",
        "  hist_dir = str(home_dir) + '/histories'\n",
        "  for file in filenames:\n",
        "    f = open(hist_dir + file)\n",
        "    hists.append(json.load(f))\n",
        "  \n",
        "  new_hists = []\n",
        "  for hist in hists:\n",
        "    new_hist = History()\n",
        "    new_hist.losses_distributed = hist['losses_distributed']\n",
        "    new_hist.losses_centralized = hist['losses_centralized']\n",
        "    new_hist.fit_metrics_distributed = hist['fit_metrics_distributed']\n",
        "    new_hist.eval_metrics_distributed = hist['eval_metrics_distributed']\n",
        "    new_hist.fit_metrics_distributed = hist['fit_metrics_distributed']\n",
        "    new_hist.metrics_centralized = hist['metrics_centralized']\n",
        "    new_hists.append(new_hist)\n",
        "\n",
        "  return new_hists"
      ]
    },
    {
      "cell_type": "code",
      "execution_count": null,
      "metadata": {
        "colab": {
          "base_uri": "https://localhost:8080/"
        },
        "id": "qOLOZw5pZgj2",
        "outputId": "03234df3-e696-4251-d477-44a770f6b9e6"
      },
      "outputs": [
        {
          "name": "stderr",
          "output_type": "stream",
          "text": [
            "WARNING flwr 2023-02-22 01:15:50,572 | app.py:187 | Both server and strategy were provided, ignoring strategy\n",
            "WARNING:flwr:Both server and strategy were provided, ignoring strategy\n",
            "INFO flwr 2023-02-22 01:15:50,590 | app.py:145 | Starting Flower simulation, config: ServerConfig(num_rounds=1, round_timeout=None)\n",
            "INFO:flwr:Starting Flower simulation, config: ServerConfig(num_rounds=1, round_timeout=None)\n",
            "2023-02-22 01:15:54,318\tINFO worker.py:1529 -- Started a local Ray instance. View the dashboard at \u001b[1m\u001b[32mhttp://127.0.0.1:8265 \u001b[39m\u001b[22m\n",
            "INFO flwr 2023-02-22 01:15:55,789 | app.py:179 | Flower VCE: Ray initialized with resources: {'object_store_memory': 3992186880.0, 'memory': 7984373760.0, 'node:172.28.0.12': 1.0, 'GPU': 1.0, 'CPU': 2.0}\n",
            "INFO:flwr:Flower VCE: Ray initialized with resources: {'object_store_memory': 3992186880.0, 'memory': 7984373760.0, 'node:172.28.0.12': 1.0, 'GPU': 1.0, 'CPU': 2.0}\n",
            "INFO flwr 2023-02-22 01:15:55,818 | server.py:176 | Initializing global parameters\n",
            "INFO:flwr:Initializing global parameters\n",
            "INFO flwr 2023-02-22 01:15:55,830 | server.py:359 | Using initial parameters provided by strategy\n",
            "INFO:flwr:Using initial parameters provided by strategy\n",
            "INFO flwr 2023-02-22 01:15:55,837 | server.py:178 | Evaluating initial parameters\n",
            "INFO:flwr:Evaluating initial parameters\n",
            "100%|██████████| 47/47 [00:00<00:00, 55.61it/s]\n",
            "INFO flwr 2023-02-22 01:15:56,711 | server.py:181 | initial parameters (loss, other metrics): 194.37576723098755, {'accuracy': 0.004}\n",
            "INFO:flwr:initial parameters (loss, other metrics): 194.37576723098755, {'accuracy': 0.004}\n",
            "INFO flwr 2023-02-22 01:15:56,718 | server.py:191 | FL starting\n",
            "INFO:flwr:FL starting\n",
            "INFO flwr 2023-02-22 01:15:56,723 | client_manager.py:49 | Sampling using None\n",
            "INFO:flwr:Sampling using None\n",
            "DEBUG flwr 2023-02-22 01:15:56,726 | server.py:308 | fit_round 1: strategy sampled 16 clients (out of 3224)\n",
            "DEBUG:flwr:fit_round 1: strategy sampled 16 clients (out of 3224)\n"
          ]
        },
        {
          "name": "stdout",
          "output_type": "stream",
          "text": [
            "Sampled the following clients:  ['1101', '2904', '2613', '3179', '455', '1608', '1626', '1613', '1378', '2455', '2757', '907', '135', '1997', '1321', '2425']\n",
            "\u001b[2m\u001b[1m\u001b[33m(scheduler +10m32s)\u001b[0m Warning: The following resource request cannot be scheduled right now: {'GPU': 0.5, 'CPU': 1.0}. This is likely due to all cluster resources being claimed by actors. Consider creating fewer actors or adding more nodes to this Ray cluster.\n"
          ]
        },
        {
          "name": "stderr",
          "output_type": "stream",
          "text": [
            "DEBUG flwr 2023-02-22 01:18:18,651 | server.py:322 | fit_round 1 received 16 results and 0 failures\n",
            "DEBUG:flwr:fit_round 1 received 16 results and 0 failures\n",
            "100%|██████████| 47/47 [00:01<00:00, 30.85it/s]\n",
            "INFO flwr 2023-02-22 01:18:20,482 | server.py:209 | fit progress: (1, 194.37576723098755, {'accuracy': 0.004}, 143.76245842700007)\n",
            "INFO:flwr:fit progress: (1, 194.37576723098755, {'accuracy': 0.004}, 143.76245842700007)\n",
            "INFO flwr 2023-02-22 01:18:20,485 | server.py:256 | evaluate_round 1: no clients selected, cancel\n",
            "INFO:flwr:evaluate_round 1: no clients selected, cancel\n",
            "INFO flwr 2023-02-22 01:18:20,489 | server.py:237 | FL finished in 143.76902081700007\n",
            "INFO:flwr:FL finished in 143.76902081700007\n",
            "INFO flwr 2023-02-22 01:18:20,492 | app.py:202 | app_fit: losses_distributed []\n",
            "INFO:flwr:app_fit: losses_distributed []\n",
            "INFO flwr 2023-02-22 01:18:20,495 | app.py:203 | app_fit: metrics_distributed {'Placeholder, see fit and eval metrics distributed results in hist object': [1, 1]}\n",
            "INFO:flwr:app_fit: metrics_distributed {'Placeholder, see fit and eval metrics distributed results in hist object': [1, 1]}\n",
            "INFO flwr 2023-02-22 01:18:20,497 | app.py:204 | app_fit: losses_centralized [(0, 194.37576723098755), (1, 194.37576723098755)]\n",
            "INFO:flwr:app_fit: losses_centralized [(0, 194.37576723098755), (1, 194.37576723098755)]\n",
            "INFO flwr 2023-02-22 01:18:20,499 | app.py:205 | app_fit: metrics_centralized {'accuracy': [(0, 0.004), (1, 0.004)]}\n",
            "INFO:flwr:app_fit: metrics_centralized {'accuracy': [(0, 0.004), (1, 0.004)]}\n"
          ]
        }
      ],
      "source": [
        "# 1\n",
        "# Changes in client fit and DPFlowerRayClient(FlowerRayClient) strategy class are made in the previous cells\n",
        "baseline_parameters: Dict = {\n",
        "    \"train_config\": get_default_train_config(),\n",
        "    \"test_config\": get_default_test_config(),\n",
        "    \"num_total_clients\": num_total_clients,\n",
        "    \"num_clients_per_round\": 16,\n",
        "    \"num_evaluate_clients\": 0,\n",
        "    \"num_evaluate\": 0,\n",
        "    \"accept_failures\": False,\n",
        "    \"min_fit_clients\": 2,\n",
        "    \"min_available_clients\": 2,\n",
        "    \"initial_parameters\": ndarrays_to_parameters(seed_model_cnn_params),\n",
        "    \"client_generator\": dp_client_generator,\n",
        "    \"seed\": Seeds.DEFAULT,\n",
        "    \"num_rounds\": 1,\n",
        "    \"strategy\": DPFedAvgFixed,\n",
        "    \"fed_eval\": True,\n",
        "    \"server_side_noising\": True,\n",
        "}\n",
        "\n",
        "# clip_norm and noise_multiplie do not matter here\n",
        "hist_baseline = run_DP_fixed_fl(clip_norm=0.0, noise_multiplier=0.0, default_parameters=baseline_parameters)"
      ]
    },
    {
      "cell_type": "code",
      "execution_count": null,
      "metadata": {
        "colab": {
          "base_uri": "https://localhost:8080/"
        },
        "id": "n095OUcIdXyo",
        "outputId": "8f1c3214-fd91-4d81-c2c1-94bf16be25b2"
      },
      "outputs": [
        {
          "name": "stdout",
          "output_type": "stream",
          "text": [
            "Baseline of the average L2 norm at the beginning of training is:  9.600119\n"
          ]
        }
      ],
      "source": [
        "# 2\n",
        "l2_model_update = hist_baseline.fit_metrics_distributed['l2_model_update'][0][1]['all']\n",
        "mean_l2 = np.mean(np.asarray([update[1] for update in l2_model_update]))\n",
        "clip_norms = mean_l2 * np.asarray([0.5, 1, 1.5])\n",
        "hists_Q3 = []\n",
        "\n",
        "print(\"Baseline of the average L2 norm at the beginning of training is: \", mean_l2)"
      ]
    },
    {
      "cell_type": "code",
      "execution_count": null,
      "metadata": {
        "colab": {
          "base_uri": "https://localhost:8080/"
        },
        "id": "guyJ4h8a_XxR",
        "outputId": "3eb80135-34d5-4101-f39f-7c79f61009f7"
      },
      "outputs": [
        {
          "name": "stderr",
          "output_type": "stream",
          "text": [
            "WARNING flwr 2023-02-22 01:18:23,862 | app.py:187 | Both server and strategy were provided, ignoring strategy\n",
            "WARNING:flwr:Both server and strategy were provided, ignoring strategy\n",
            "INFO flwr 2023-02-22 01:18:24,000 | app.py:145 | Starting Flower simulation, config: ServerConfig(num_rounds=10, round_timeout=None)\n",
            "INFO:flwr:Starting Flower simulation, config: ServerConfig(num_rounds=10, round_timeout=None)\n",
            "2023-02-22 01:18:28,646\tINFO worker.py:1529 -- Started a local Ray instance. View the dashboard at \u001b[1m\u001b[32mhttp://127.0.0.1:8265 \u001b[39m\u001b[22m\n",
            "INFO flwr 2023-02-22 01:18:31,194 | app.py:179 | Flower VCE: Ray initialized with resources: {'node:172.28.0.12': 1.0, 'CPU': 2.0, 'GPU': 1.0, 'memory': 7985405952.0, 'object_store_memory': 3992702976.0}\n",
            "INFO:flwr:Flower VCE: Ray initialized with resources: {'node:172.28.0.12': 1.0, 'CPU': 2.0, 'GPU': 1.0, 'memory': 7985405952.0, 'object_store_memory': 3992702976.0}\n",
            "INFO flwr 2023-02-22 01:18:31,246 | server.py:176 | Initializing global parameters\n",
            "INFO:flwr:Initializing global parameters\n",
            "INFO flwr 2023-02-22 01:18:31,261 | server.py:359 | Using initial parameters provided by strategy\n",
            "INFO:flwr:Using initial parameters provided by strategy\n",
            "INFO flwr 2023-02-22 01:18:31,269 | server.py:178 | Evaluating initial parameters\n",
            "INFO:flwr:Evaluating initial parameters\n",
            "100%|██████████| 47/47 [00:01<00:00, 30.58it/s]\n",
            "INFO flwr 2023-02-22 01:18:32,839 | server.py:181 | initial parameters (loss, other metrics): 194.37576723098755, {'accuracy': 0.004}\n",
            "INFO:flwr:initial parameters (loss, other metrics): 194.37576723098755, {'accuracy': 0.004}\n",
            "INFO flwr 2023-02-22 01:18:32,847 | server.py:191 | FL starting\n",
            "INFO:flwr:FL starting\n",
            "INFO flwr 2023-02-22 01:18:32,854 | client_manager.py:49 | Sampling using None\n",
            "INFO:flwr:Sampling using None\n",
            "DEBUG flwr 2023-02-22 01:18:32,858 | server.py:308 | fit_round 1: strategy sampled 4 clients (out of 3224)\n",
            "DEBUG:flwr:fit_round 1: strategy sampled 4 clients (out of 3224)\n"
          ]
        },
        {
          "name": "stdout",
          "output_type": "stream",
          "text": [
            "Sampled the following clients:  ['1101', '2904', '2613', '3179']\n"
          ]
        },
        {
          "name": "stderr",
          "output_type": "stream",
          "text": [
            "DEBUG flwr 2023-02-22 01:19:06,402 | server.py:322 | fit_round 1 received 4 results and 0 failures\n",
            "DEBUG:flwr:fit_round 1 received 4 results and 0 failures\n",
            "100%|██████████| 47/47 [00:00<00:00, 65.95it/s]\n",
            "INFO flwr 2023-02-22 01:19:07,169 | server.py:209 | fit progress: (1, 186.5260410308838, {'accuracy': 0.07933333333333334}, 34.31797011800006)\n",
            "INFO:flwr:fit progress: (1, 186.5260410308838, {'accuracy': 0.07933333333333334}, 34.31797011800006)\n",
            "INFO flwr 2023-02-22 01:19:07,175 | server.py:256 | evaluate_round 1: no clients selected, cancel\n",
            "INFO:flwr:evaluate_round 1: no clients selected, cancel\n",
            "INFO flwr 2023-02-22 01:19:07,188 | client_manager.py:49 | Sampling using None\n",
            "INFO:flwr:Sampling using None\n",
            "DEBUG flwr 2023-02-22 01:19:07,192 | server.py:308 | fit_round 2: strategy sampled 4 clients (out of 3224)\n",
            "DEBUG:flwr:fit_round 2: strategy sampled 4 clients (out of 3224)\n"
          ]
        },
        {
          "name": "stdout",
          "output_type": "stream",
          "text": [
            "Sampled the following clients:  ['1418', '27', '1758', '410']\n"
          ]
        },
        {
          "name": "stderr",
          "output_type": "stream",
          "text": [
            "DEBUG flwr 2023-02-22 01:19:46,551 | server.py:322 | fit_round 2 received 4 results and 0 failures\n",
            "DEBUG:flwr:fit_round 2 received 4 results and 0 failures\n",
            "100%|██████████| 47/47 [00:01<00:00, 40.36it/s]\n",
            "INFO flwr 2023-02-22 01:19:47,792 | server.py:209 | fit progress: (2, 177.6259458065033, {'accuracy': 0.07933333333333334}, 74.94036257899995)\n",
            "INFO:flwr:fit progress: (2, 177.6259458065033, {'accuracy': 0.07933333333333334}, 74.94036257899995)\n",
            "INFO flwr 2023-02-22 01:19:47,797 | server.py:256 | evaluate_round 2: no clients selected, cancel\n",
            "INFO:flwr:evaluate_round 2: no clients selected, cancel\n",
            "INFO flwr 2023-02-22 01:19:47,811 | client_manager.py:49 | Sampling using None\n",
            "INFO:flwr:Sampling using None\n",
            "DEBUG flwr 2023-02-22 01:19:47,824 | server.py:308 | fit_round 3: strategy sampled 4 clients (out of 3224)\n",
            "DEBUG:flwr:fit_round 3: strategy sampled 4 clients (out of 3224)\n"
          ]
        },
        {
          "name": "stdout",
          "output_type": "stream",
          "text": [
            "Sampled the following clients:  ['2215', '1477', '3146', '993']\n",
            "\u001b[2m\u001b[1m\u001b[33m(scheduler +14m6s)\u001b[0m Warning: The following resource request cannot be scheduled right now: {'GPU': 0.5, 'CPU': 1.0}. This is likely due to all cluster resources being claimed by actors. Consider creating fewer actors or adding more nodes to this Ray cluster.\n"
          ]
        },
        {
          "name": "stderr",
          "output_type": "stream",
          "text": [
            "DEBUG flwr 2023-02-22 01:20:22,494 | server.py:322 | fit_round 3 received 4 results and 0 failures\n",
            "DEBUG:flwr:fit_round 3 received 4 results and 0 failures\n",
            "100%|██████████| 47/47 [00:00<00:00, 64.46it/s]\n",
            "INFO flwr 2023-02-22 01:20:23,281 | server.py:209 | fit progress: (3, 162.2054169178009, {'accuracy': 0.07933333333333334}, 110.42994287499994)\n",
            "INFO:flwr:fit progress: (3, 162.2054169178009, {'accuracy': 0.07933333333333334}, 110.42994287499994)\n",
            "INFO flwr 2023-02-22 01:20:23,285 | server.py:256 | evaluate_round 3: no clients selected, cancel\n",
            "INFO:flwr:evaluate_round 3: no clients selected, cancel\n",
            "INFO flwr 2023-02-22 01:20:23,299 | client_manager.py:49 | Sampling using None\n",
            "INFO:flwr:Sampling using None\n",
            "DEBUG flwr 2023-02-22 01:20:23,304 | server.py:308 | fit_round 4: strategy sampled 4 clients (out of 3224)\n",
            "DEBUG:flwr:fit_round 4: strategy sampled 4 clients (out of 3224)\n"
          ]
        },
        {
          "name": "stdout",
          "output_type": "stream",
          "text": [
            "Sampled the following clients:  ['2955', '1583', '580', '779']\n"
          ]
        },
        {
          "name": "stderr",
          "output_type": "stream",
          "text": [
            "DEBUG flwr 2023-02-22 01:21:01,555 | server.py:322 | fit_round 4 received 4 results and 0 failures\n",
            "DEBUG:flwr:fit_round 4 received 4 results and 0 failures\n",
            "100%|██████████| 47/47 [00:01<00:00, 37.92it/s]\n",
            "INFO flwr 2023-02-22 01:21:02,876 | server.py:209 | fit progress: (4, 166.8487422466278, {'accuracy': 0.07933333333333334}, 150.02513824000005)\n",
            "INFO:flwr:fit progress: (4, 166.8487422466278, {'accuracy': 0.07933333333333334}, 150.02513824000005)\n",
            "INFO flwr 2023-02-22 01:21:02,879 | server.py:256 | evaluate_round 4: no clients selected, cancel\n",
            "INFO:flwr:evaluate_round 4: no clients selected, cancel\n",
            "INFO flwr 2023-02-22 01:21:02,904 | client_manager.py:49 | Sampling using None\n",
            "INFO:flwr:Sampling using None\n",
            "DEBUG flwr 2023-02-22 01:21:02,908 | server.py:308 | fit_round 5: strategy sampled 4 clients (out of 3224)\n",
            "DEBUG:flwr:fit_round 5: strategy sampled 4 clients (out of 3224)\n"
          ]
        },
        {
          "name": "stdout",
          "output_type": "stream",
          "text": [
            "Sampled the following clients:  ['1656', '1717', '1348', '261']\n"
          ]
        },
        {
          "name": "stderr",
          "output_type": "stream",
          "text": [
            "DEBUG flwr 2023-02-22 01:21:39,275 | server.py:322 | fit_round 5 received 4 results and 0 failures\n",
            "DEBUG:flwr:fit_round 5 received 4 results and 0 failures\n",
            "100%|██████████| 47/47 [00:00<00:00, 66.37it/s]\n",
            "INFO flwr 2023-02-22 01:21:40,040 | server.py:209 | fit progress: (5, 159.47331547737122, {'accuracy': 0.15866666666666668}, 187.18909606499994)\n",
            "INFO:flwr:fit progress: (5, 159.47331547737122, {'accuracy': 0.15866666666666668}, 187.18909606499994)\n",
            "INFO flwr 2023-02-22 01:21:40,045 | server.py:256 | evaluate_round 5: no clients selected, cancel\n",
            "INFO:flwr:evaluate_round 5: no clients selected, cancel\n",
            "INFO flwr 2023-02-22 01:21:40,061 | client_manager.py:49 | Sampling using None\n",
            "INFO:flwr:Sampling using None\n",
            "DEBUG flwr 2023-02-22 01:21:40,068 | server.py:308 | fit_round 6: strategy sampled 4 clients (out of 3224)\n",
            "DEBUG:flwr:fit_round 6: strategy sampled 4 clients (out of 3224)\n"
          ]
        },
        {
          "name": "stdout",
          "output_type": "stream",
          "text": [
            "Sampled the following clients:  ['346', '2627', '2817', '1058']\n"
          ]
        },
        {
          "name": "stderr",
          "output_type": "stream",
          "text": [
            "DEBUG flwr 2023-02-22 01:22:24,027 | server.py:322 | fit_round 6 received 4 results and 0 failures\n",
            "DEBUG:flwr:fit_round 6 received 4 results and 0 failures\n",
            "100%|██████████| 47/47 [00:01<00:00, 39.79it/s]\n",
            "INFO flwr 2023-02-22 01:22:25,296 | server.py:209 | fit progress: (6, 161.8111069202423, {'accuracy': 0.144}, 232.44523384399997)\n",
            "INFO:flwr:fit progress: (6, 161.8111069202423, {'accuracy': 0.144}, 232.44523384399997)\n",
            "INFO flwr 2023-02-22 01:22:25,300 | server.py:256 | evaluate_round 6: no clients selected, cancel\n",
            "INFO:flwr:evaluate_round 6: no clients selected, cancel\n",
            "INFO flwr 2023-02-22 01:22:25,332 | client_manager.py:49 | Sampling using None\n",
            "INFO:flwr:Sampling using None\n",
            "DEBUG flwr 2023-02-22 01:22:25,340 | server.py:308 | fit_round 7: strategy sampled 4 clients (out of 3224)\n",
            "DEBUG:flwr:fit_round 7: strategy sampled 4 clients (out of 3224)\n"
          ]
        },
        {
          "name": "stdout",
          "output_type": "stream",
          "text": [
            "Sampled the following clients:  ['2251', '159', '3062', '2996']\n"
          ]
        },
        {
          "name": "stderr",
          "output_type": "stream",
          "text": [
            "DEBUG flwr 2023-02-22 01:23:00,603 | server.py:322 | fit_round 7 received 4 results and 0 failures\n",
            "DEBUG:flwr:fit_round 7 received 4 results and 0 failures\n",
            "100%|██████████| 47/47 [00:00<00:00, 60.02it/s]\n",
            "INFO flwr 2023-02-22 01:23:01,443 | server.py:209 | fit progress: (7, 151.5485155582428, {'accuracy': 0.23666666666666666}, 268.5915184690001)\n",
            "INFO:flwr:fit progress: (7, 151.5485155582428, {'accuracy': 0.23666666666666666}, 268.5915184690001)\n",
            "INFO flwr 2023-02-22 01:23:01,448 | server.py:256 | evaluate_round 7: no clients selected, cancel\n",
            "INFO:flwr:evaluate_round 7: no clients selected, cancel\n",
            "INFO flwr 2023-02-22 01:23:01,465 | client_manager.py:49 | Sampling using None\n",
            "INFO:flwr:Sampling using None\n",
            "DEBUG flwr 2023-02-22 01:23:01,472 | server.py:308 | fit_round 8: strategy sampled 4 clients (out of 3224)\n",
            "DEBUG:flwr:fit_round 8: strategy sampled 4 clients (out of 3224)\n"
          ]
        },
        {
          "name": "stdout",
          "output_type": "stream",
          "text": [
            "Sampled the following clients:  ['2411', '528', '943', '725']\n"
          ]
        },
        {
          "name": "stderr",
          "output_type": "stream",
          "text": [
            "DEBUG flwr 2023-02-22 01:23:39,619 | server.py:322 | fit_round 8 received 4 results and 0 failures\n",
            "DEBUG:flwr:fit_round 8 received 4 results and 0 failures\n",
            "100%|██████████| 47/47 [00:01<00:00, 35.95it/s]\n",
            "INFO flwr 2023-02-22 01:23:41,014 | server.py:209 | fit progress: (8, 138.24228024482727, {'accuracy': 0.31933333333333336}, 308.16229170500003)\n",
            "INFO:flwr:fit progress: (8, 138.24228024482727, {'accuracy': 0.31933333333333336}, 308.16229170500003)\n",
            "INFO flwr 2023-02-22 01:23:41,018 | server.py:256 | evaluate_round 8: no clients selected, cancel\n",
            "INFO:flwr:evaluate_round 8: no clients selected, cancel\n",
            "INFO flwr 2023-02-22 01:23:41,056 | client_manager.py:49 | Sampling using None\n",
            "INFO:flwr:Sampling using None\n",
            "DEBUG flwr 2023-02-22 01:23:41,065 | server.py:308 | fit_round 9: strategy sampled 4 clients (out of 3224)\n",
            "DEBUG:flwr:fit_round 9: strategy sampled 4 clients (out of 3224)\n"
          ]
        },
        {
          "name": "stdout",
          "output_type": "stream",
          "text": [
            "Sampled the following clients:  ['1850', '249', '2079', '1864']\n"
          ]
        },
        {
          "name": "stderr",
          "output_type": "stream",
          "text": [
            "DEBUG flwr 2023-02-22 01:24:17,857 | server.py:322 | fit_round 9 received 4 results and 0 failures\n",
            "DEBUG:flwr:fit_round 9 received 4 results and 0 failures\n",
            "100%|██████████| 47/47 [00:00<00:00, 62.47it/s]\n",
            "INFO flwr 2023-02-22 01:24:18,668 | server.py:209 | fit progress: (9, 119.58946824073792, {'accuracy': 0.38066666666666665}, 345.8163348930001)\n",
            "INFO:flwr:fit progress: (9, 119.58946824073792, {'accuracy': 0.38066666666666665}, 345.8163348930001)\n",
            "INFO flwr 2023-02-22 01:24:18,684 | server.py:256 | evaluate_round 9: no clients selected, cancel\n",
            "INFO:flwr:evaluate_round 9: no clients selected, cancel\n",
            "INFO flwr 2023-02-22 01:24:18,706 | client_manager.py:49 | Sampling using None\n",
            "INFO:flwr:Sampling using None\n",
            "DEBUG flwr 2023-02-22 01:24:18,711 | server.py:308 | fit_round 10: strategy sampled 4 clients (out of 3224)\n",
            "DEBUG:flwr:fit_round 10: strategy sampled 4 clients (out of 3224)\n"
          ]
        },
        {
          "name": "stdout",
          "output_type": "stream",
          "text": [
            "Sampled the following clients:  ['2777', '82', '2583', '2652']\n"
          ]
        },
        {
          "name": "stderr",
          "output_type": "stream",
          "text": [
            "DEBUG flwr 2023-02-22 01:24:55,804 | server.py:322 | fit_round 10 received 4 results and 0 failures\n",
            "DEBUG:flwr:fit_round 10 received 4 results and 0 failures\n",
            "100%|██████████| 47/47 [00:01<00:00, 35.31it/s]\n",
            "INFO flwr 2023-02-22 01:24:57,229 | server.py:209 | fit progress: (10, 108.80264163017273, {'accuracy': 0.42866666666666664}, 384.377821275)\n",
            "INFO:flwr:fit progress: (10, 108.80264163017273, {'accuracy': 0.42866666666666664}, 384.377821275)\n",
            "INFO flwr 2023-02-22 01:24:57,233 | server.py:256 | evaluate_round 10: no clients selected, cancel\n",
            "INFO:flwr:evaluate_round 10: no clients selected, cancel\n",
            "INFO flwr 2023-02-22 01:24:57,236 | server.py:237 | FL finished in 384.38431662000005\n",
            "INFO:flwr:FL finished in 384.38431662000005\n",
            "INFO flwr 2023-02-22 01:24:57,241 | app.py:202 | app_fit: losses_distributed []\n",
            "INFO:flwr:app_fit: losses_distributed []\n",
            "INFO flwr 2023-02-22 01:24:57,246 | app.py:203 | app_fit: metrics_distributed {'Placeholder, see fit and eval metrics distributed results in hist object': [1, 1]}\n",
            "INFO:flwr:app_fit: metrics_distributed {'Placeholder, see fit and eval metrics distributed results in hist object': [1, 1]}\n",
            "INFO flwr 2023-02-22 01:24:57,249 | app.py:204 | app_fit: losses_centralized [(0, 194.37576723098755), (1, 186.5260410308838), (2, 177.6259458065033), (3, 162.2054169178009), (4, 166.8487422466278), (5, 159.47331547737122), (6, 161.8111069202423), (7, 151.5485155582428), (8, 138.24228024482727), (9, 119.58946824073792), (10, 108.80264163017273)]\n",
            "INFO:flwr:app_fit: losses_centralized [(0, 194.37576723098755), (1, 186.5260410308838), (2, 177.6259458065033), (3, 162.2054169178009), (4, 166.8487422466278), (5, 159.47331547737122), (6, 161.8111069202423), (7, 151.5485155582428), (8, 138.24228024482727), (9, 119.58946824073792), (10, 108.80264163017273)]\n",
            "INFO flwr 2023-02-22 01:24:57,253 | app.py:205 | app_fit: metrics_centralized {'accuracy': [(0, 0.004), (1, 0.07933333333333334), (2, 0.07933333333333334), (3, 0.07933333333333334), (4, 0.07933333333333334), (5, 0.15866666666666668), (6, 0.144), (7, 0.23666666666666666), (8, 0.31933333333333336), (9, 0.38066666666666665), (10, 0.42866666666666664)]}\n",
            "INFO:flwr:app_fit: metrics_centralized {'accuracy': [(0, 0.004), (1, 0.07933333333333334), (2, 0.07933333333333334), (3, 0.07933333333333334), (4, 0.07933333333333334), (5, 0.15866666666666668), (6, 0.144), (7, 0.23666666666666666), (8, 0.31933333333333336), (9, 0.38066666666666665), (10, 0.42866666666666664)]}\n",
            "WARNING flwr 2023-02-22 01:25:00,242 | app.py:187 | Both server and strategy were provided, ignoring strategy\n",
            "WARNING:flwr:Both server and strategy were provided, ignoring strategy\n",
            "INFO flwr 2023-02-22 01:25:00,357 | app.py:145 | Starting Flower simulation, config: ServerConfig(num_rounds=10, round_timeout=None)\n",
            "INFO:flwr:Starting Flower simulation, config: ServerConfig(num_rounds=10, round_timeout=None)\n",
            "2023-02-22 01:25:04,396\tINFO worker.py:1529 -- Started a local Ray instance. View the dashboard at \u001b[1m\u001b[32mhttp://127.0.0.1:8265 \u001b[39m\u001b[22m\n",
            "INFO flwr 2023-02-22 01:25:05,936 | app.py:179 | Flower VCE: Ray initialized with resources: {'node:172.28.0.12': 1.0, 'GPU': 1.0, 'memory': 7985147904.0, 'CPU': 2.0, 'object_store_memory': 3992573952.0}\n",
            "INFO:flwr:Flower VCE: Ray initialized with resources: {'node:172.28.0.12': 1.0, 'GPU': 1.0, 'memory': 7985147904.0, 'CPU': 2.0, 'object_store_memory': 3992573952.0}\n",
            "INFO flwr 2023-02-22 01:25:05,966 | server.py:176 | Initializing global parameters\n",
            "INFO:flwr:Initializing global parameters\n",
            "INFO flwr 2023-02-22 01:25:05,978 | server.py:359 | Using initial parameters provided by strategy\n",
            "INFO:flwr:Using initial parameters provided by strategy\n",
            "INFO flwr 2023-02-22 01:25:05,987 | server.py:178 | Evaluating initial parameters\n",
            "INFO:flwr:Evaluating initial parameters\n",
            "100%|██████████| 47/47 [00:00<00:00, 48.88it/s]\n",
            "INFO flwr 2023-02-22 01:25:06,977 | server.py:181 | initial parameters (loss, other metrics): 194.37576723098755, {'accuracy': 0.004}\n",
            "INFO:flwr:initial parameters (loss, other metrics): 194.37576723098755, {'accuracy': 0.004}\n",
            "INFO flwr 2023-02-22 01:25:06,981 | server.py:191 | FL starting\n",
            "INFO:flwr:FL starting\n",
            "INFO flwr 2023-02-22 01:25:06,986 | client_manager.py:49 | Sampling using None\n",
            "INFO:flwr:Sampling using None\n",
            "DEBUG flwr 2023-02-22 01:25:06,991 | server.py:308 | fit_round 1: strategy sampled 4 clients (out of 3224)\n",
            "DEBUG:flwr:fit_round 1: strategy sampled 4 clients (out of 3224)\n"
          ]
        },
        {
          "name": "stdout",
          "output_type": "stream",
          "text": [
            "Sampled the following clients:  ['1101', '2904', '2613', '3179']\n"
          ]
        },
        {
          "name": "stderr",
          "output_type": "stream",
          "text": [
            "DEBUG flwr 2023-02-22 01:25:47,198 | server.py:322 | fit_round 1 received 4 results and 0 failures\n",
            "DEBUG:flwr:fit_round 1 received 4 results and 0 failures\n",
            "100%|██████████| 47/47 [00:01<00:00, 38.29it/s]\n",
            "INFO flwr 2023-02-22 01:25:48,505 | server.py:209 | fit progress: (1, 176.94069480895996, {'accuracy': 0.07933333333333334}, 41.522266584000135)\n",
            "INFO:flwr:fit progress: (1, 176.94069480895996, {'accuracy': 0.07933333333333334}, 41.522266584000135)\n",
            "INFO flwr 2023-02-22 01:25:48,510 | server.py:256 | evaluate_round 1: no clients selected, cancel\n",
            "INFO:flwr:evaluate_round 1: no clients selected, cancel\n",
            "INFO flwr 2023-02-22 01:25:48,519 | client_manager.py:49 | Sampling using None\n",
            "INFO:flwr:Sampling using None\n",
            "DEBUG flwr 2023-02-22 01:25:48,525 | server.py:308 | fit_round 2: strategy sampled 4 clients (out of 3224)\n",
            "DEBUG:flwr:fit_round 2: strategy sampled 4 clients (out of 3224)\n"
          ]
        },
        {
          "name": "stdout",
          "output_type": "stream",
          "text": [
            "Sampled the following clients:  ['1418', '27', '1758', '410']\n"
          ]
        },
        {
          "name": "stderr",
          "output_type": "stream",
          "text": [
            "DEBUG flwr 2023-02-22 01:26:25,640 | server.py:322 | fit_round 2 received 4 results and 0 failures\n",
            "DEBUG:flwr:fit_round 2 received 4 results and 0 failures\n",
            "100%|██████████| 47/47 [00:00<00:00, 66.79it/s]\n",
            "INFO flwr 2023-02-22 01:26:26,397 | server.py:209 | fit progress: (2, 174.43531441688538, {'accuracy': 0.10733333333333334}, 79.41454298200006)\n",
            "INFO:flwr:fit progress: (2, 174.43531441688538, {'accuracy': 0.10733333333333334}, 79.41454298200006)\n",
            "INFO flwr 2023-02-22 01:26:26,405 | server.py:256 | evaluate_round 2: no clients selected, cancel\n",
            "INFO:flwr:evaluate_round 2: no clients selected, cancel\n",
            "INFO flwr 2023-02-22 01:26:26,415 | client_manager.py:49 | Sampling using None\n",
            "INFO:flwr:Sampling using None\n",
            "DEBUG flwr 2023-02-22 01:26:26,419 | server.py:308 | fit_round 3: strategy sampled 4 clients (out of 3224)\n",
            "DEBUG:flwr:fit_round 3: strategy sampled 4 clients (out of 3224)\n"
          ]
        },
        {
          "name": "stdout",
          "output_type": "stream",
          "text": [
            "Sampled the following clients:  ['2215', '1477', '3146', '993']\n"
          ]
        },
        {
          "name": "stderr",
          "output_type": "stream",
          "text": [
            "DEBUG flwr 2023-02-22 01:27:00,526 | server.py:322 | fit_round 3 received 4 results and 0 failures\n",
            "DEBUG:flwr:fit_round 3 received 4 results and 0 failures\n",
            "100%|██████████| 47/47 [00:01<00:00, 37.79it/s]\n",
            "INFO flwr 2023-02-22 01:27:01,855 | server.py:209 | fit progress: (3, 161.22005915641785, {'accuracy': 0.07933333333333334}, 114.8725110790001)\n",
            "INFO:flwr:fit progress: (3, 161.22005915641785, {'accuracy': 0.07933333333333334}, 114.8725110790001)\n",
            "INFO flwr 2023-02-22 01:27:01,859 | server.py:256 | evaluate_round 3: no clients selected, cancel\n",
            "INFO:flwr:evaluate_round 3: no clients selected, cancel\n",
            "INFO flwr 2023-02-22 01:27:01,884 | client_manager.py:49 | Sampling using None\n",
            "INFO:flwr:Sampling using None\n",
            "DEBUG flwr 2023-02-22 01:27:01,888 | server.py:308 | fit_round 4: strategy sampled 4 clients (out of 3224)\n",
            "DEBUG:flwr:fit_round 4: strategy sampled 4 clients (out of 3224)\n"
          ]
        },
        {
          "name": "stdout",
          "output_type": "stream",
          "text": [
            "Sampled the following clients:  ['2955', '1583', '580', '779']\n"
          ]
        },
        {
          "name": "stderr",
          "output_type": "stream",
          "text": [
            "DEBUG flwr 2023-02-22 01:27:41,444 | server.py:322 | fit_round 4 received 4 results and 0 failures\n",
            "DEBUG:flwr:fit_round 4 received 4 results and 0 failures\n",
            "100%|██████████| 47/47 [00:00<00:00, 65.92it/s]\n",
            "INFO flwr 2023-02-22 01:27:42,219 | server.py:209 | fit progress: (4, 162.64021015167236, {'accuracy': 0.10266666666666667}, 155.23624845300014)\n",
            "INFO:flwr:fit progress: (4, 162.64021015167236, {'accuracy': 0.10266666666666667}, 155.23624845300014)\n",
            "INFO flwr 2023-02-22 01:27:42,223 | server.py:256 | evaluate_round 4: no clients selected, cancel\n",
            "INFO:flwr:evaluate_round 4: no clients selected, cancel\n",
            "INFO flwr 2023-02-22 01:27:42,239 | client_manager.py:49 | Sampling using None\n",
            "INFO:flwr:Sampling using None\n",
            "DEBUG flwr 2023-02-22 01:27:42,246 | server.py:308 | fit_round 5: strategy sampled 4 clients (out of 3224)\n",
            "DEBUG:flwr:fit_round 5: strategy sampled 4 clients (out of 3224)\n"
          ]
        },
        {
          "name": "stdout",
          "output_type": "stream",
          "text": [
            "Sampled the following clients:  ['1656', '1717', '1348', '261']\n"
          ]
        },
        {
          "name": "stderr",
          "output_type": "stream",
          "text": [
            "DEBUG flwr 2023-02-22 01:28:15,682 | server.py:322 | fit_round 5 received 4 results and 0 failures\n",
            "DEBUG:flwr:fit_round 5 received 4 results and 0 failures\n",
            "100%|██████████| 47/47 [00:00<00:00, 63.87it/s]\n",
            "INFO flwr 2023-02-22 01:28:16,476 | server.py:209 | fit progress: (5, 150.58831882476807, {'accuracy': 0.236}, 189.49366013899999)\n",
            "INFO:flwr:fit progress: (5, 150.58831882476807, {'accuracy': 0.236}, 189.49366013899999)\n",
            "INFO flwr 2023-02-22 01:28:16,483 | server.py:256 | evaluate_round 5: no clients selected, cancel\n",
            "INFO:flwr:evaluate_round 5: no clients selected, cancel\n",
            "INFO flwr 2023-02-22 01:28:16,502 | client_manager.py:49 | Sampling using None\n",
            "INFO:flwr:Sampling using None\n",
            "DEBUG flwr 2023-02-22 01:28:16,509 | server.py:308 | fit_round 6: strategy sampled 4 clients (out of 3224)\n",
            "DEBUG:flwr:fit_round 6: strategy sampled 4 clients (out of 3224)\n"
          ]
        },
        {
          "name": "stdout",
          "output_type": "stream",
          "text": [
            "Sampled the following clients:  ['346', '2627', '2817', '1058']\n"
          ]
        },
        {
          "name": "stderr",
          "output_type": "stream",
          "text": [
            "DEBUG flwr 2023-02-22 01:28:58,175 | server.py:322 | fit_round 6 received 4 results and 0 failures\n",
            "DEBUG:flwr:fit_round 6 received 4 results and 0 failures\n",
            "100%|██████████| 47/47 [00:01<00:00, 34.57it/s]\n",
            "INFO flwr 2023-02-22 01:28:59,652 | server.py:209 | fit progress: (6, 139.39977025985718, {'accuracy': 0.302}, 232.66890222799998)\n",
            "INFO:flwr:fit progress: (6, 139.39977025985718, {'accuracy': 0.302}, 232.66890222799998)\n",
            "INFO flwr 2023-02-22 01:28:59,654 | server.py:256 | evaluate_round 6: no clients selected, cancel\n",
            "INFO:flwr:evaluate_round 6: no clients selected, cancel\n",
            "INFO flwr 2023-02-22 01:28:59,693 | client_manager.py:49 | Sampling using None\n",
            "INFO:flwr:Sampling using None\n",
            "DEBUG flwr 2023-02-22 01:28:59,704 | server.py:308 | fit_round 7: strategy sampled 4 clients (out of 3224)\n",
            "DEBUG:flwr:fit_round 7: strategy sampled 4 clients (out of 3224)\n"
          ]
        },
        {
          "name": "stdout",
          "output_type": "stream",
          "text": [
            "Sampled the following clients:  ['2251', '159', '3062', '2996']\n"
          ]
        },
        {
          "name": "stderr",
          "output_type": "stream",
          "text": [
            "DEBUG flwr 2023-02-22 01:29:39,708 | server.py:322 | fit_round 7 received 4 results and 0 failures\n",
            "DEBUG:flwr:fit_round 7 received 4 results and 0 failures\n",
            "100%|██████████| 47/47 [00:01<00:00, 29.99it/s]\n",
            "INFO flwr 2023-02-22 01:29:41,360 | server.py:209 | fit progress: (7, 127.2656387090683, {'accuracy': 0.338}, 274.377275523)\n",
            "INFO:flwr:fit progress: (7, 127.2656387090683, {'accuracy': 0.338}, 274.377275523)\n",
            "INFO flwr 2023-02-22 01:29:41,362 | server.py:256 | evaluate_round 7: no clients selected, cancel\n",
            "INFO:flwr:evaluate_round 7: no clients selected, cancel\n",
            "INFO flwr 2023-02-22 01:29:41,401 | client_manager.py:49 | Sampling using None\n",
            "INFO:flwr:Sampling using None\n",
            "DEBUG flwr 2023-02-22 01:29:41,415 | server.py:308 | fit_round 8: strategy sampled 4 clients (out of 3224)\n",
            "DEBUG:flwr:fit_round 8: strategy sampled 4 clients (out of 3224)\n"
          ]
        },
        {
          "name": "stdout",
          "output_type": "stream",
          "text": [
            "Sampled the following clients:  ['2411', '528', '943', '725']\n"
          ]
        },
        {
          "name": "stderr",
          "output_type": "stream",
          "text": [
            "DEBUG flwr 2023-02-22 01:30:21,112 | server.py:322 | fit_round 8 received 4 results and 0 failures\n",
            "DEBUG:flwr:fit_round 8 received 4 results and 0 failures\n",
            "100%|██████████| 47/47 [00:00<00:00, 62.38it/s]\n",
            "INFO flwr 2023-02-22 01:30:21,926 | server.py:209 | fit progress: (8, 130.6730250120163, {'accuracy': 0.36933333333333335}, 314.94332293599996)\n",
            "INFO:flwr:fit progress: (8, 130.6730250120163, {'accuracy': 0.36933333333333335}, 314.94332293599996)\n",
            "INFO flwr 2023-02-22 01:30:21,930 | server.py:256 | evaluate_round 8: no clients selected, cancel\n",
            "INFO:flwr:evaluate_round 8: no clients selected, cancel\n",
            "INFO flwr 2023-02-22 01:30:21,956 | client_manager.py:49 | Sampling using None\n",
            "INFO:flwr:Sampling using None\n",
            "DEBUG flwr 2023-02-22 01:30:21,960 | server.py:308 | fit_round 9: strategy sampled 4 clients (out of 3224)\n",
            "DEBUG:flwr:fit_round 9: strategy sampled 4 clients (out of 3224)\n"
          ]
        },
        {
          "name": "stdout",
          "output_type": "stream",
          "text": [
            "Sampled the following clients:  ['1850', '249', '2079', '1864']\n"
          ]
        },
        {
          "name": "stderr",
          "output_type": "stream",
          "text": [
            "DEBUG flwr 2023-02-22 01:30:56,313 | server.py:322 | fit_round 9 received 4 results and 0 failures\n",
            "DEBUG:flwr:fit_round 9 received 4 results and 0 failures\n",
            "100%|██████████| 47/47 [00:01<00:00, 33.36it/s]\n",
            "INFO flwr 2023-02-22 01:30:57,806 | server.py:209 | fit progress: (9, 124.96343040466309, {'accuracy': 0.4086666666666667}, 350.8234731130001)\n",
            "INFO:flwr:fit progress: (9, 124.96343040466309, {'accuracy': 0.4086666666666667}, 350.8234731130001)\n",
            "INFO flwr 2023-02-22 01:30:57,812 | server.py:256 | evaluate_round 9: no clients selected, cancel\n",
            "INFO:flwr:evaluate_round 9: no clients selected, cancel\n",
            "INFO flwr 2023-02-22 01:30:57,863 | client_manager.py:49 | Sampling using None\n",
            "INFO:flwr:Sampling using None\n",
            "DEBUG flwr 2023-02-22 01:30:57,875 | server.py:308 | fit_round 10: strategy sampled 4 clients (out of 3224)\n",
            "DEBUG:flwr:fit_round 10: strategy sampled 4 clients (out of 3224)\n"
          ]
        },
        {
          "name": "stdout",
          "output_type": "stream",
          "text": [
            "Sampled the following clients:  ['2777', '82', '2583', '2652']\n"
          ]
        },
        {
          "name": "stderr",
          "output_type": "stream",
          "text": [
            "DEBUG flwr 2023-02-22 01:31:54,092 | server.py:322 | fit_round 10 received 4 results and 0 failures\n",
            "DEBUG:flwr:fit_round 10 received 4 results and 0 failures\n",
            "100%|██████████| 47/47 [00:01<00:00, 34.13it/s]\n",
            "INFO flwr 2023-02-22 01:31:55,558 | server.py:209 | fit progress: (10, 110.04618525505066, {'accuracy': 0.4726666666666667}, 408.57470556600015)\n",
            "INFO:flwr:fit progress: (10, 110.04618525505066, {'accuracy': 0.4726666666666667}, 408.57470556600015)\n",
            "INFO flwr 2023-02-22 01:31:55,563 | server.py:256 | evaluate_round 10: no clients selected, cancel\n",
            "INFO:flwr:evaluate_round 10: no clients selected, cancel\n",
            "INFO flwr 2023-02-22 01:31:55,567 | server.py:237 | FL finished in 408.58375851000005\n",
            "INFO:flwr:FL finished in 408.58375851000005\n",
            "INFO flwr 2023-02-22 01:31:55,569 | app.py:202 | app_fit: losses_distributed []\n",
            "INFO:flwr:app_fit: losses_distributed []\n",
            "INFO flwr 2023-02-22 01:31:55,572 | app.py:203 | app_fit: metrics_distributed {'Placeholder, see fit and eval metrics distributed results in hist object': [1, 1]}\n",
            "INFO:flwr:app_fit: metrics_distributed {'Placeholder, see fit and eval metrics distributed results in hist object': [1, 1]}\n",
            "INFO flwr 2023-02-22 01:31:55,576 | app.py:204 | app_fit: losses_centralized [(0, 194.37576723098755), (1, 176.94069480895996), (2, 174.43531441688538), (3, 161.22005915641785), (4, 162.64021015167236), (5, 150.58831882476807), (6, 139.39977025985718), (7, 127.2656387090683), (8, 130.6730250120163), (9, 124.96343040466309), (10, 110.04618525505066)]\n",
            "INFO:flwr:app_fit: losses_centralized [(0, 194.37576723098755), (1, 176.94069480895996), (2, 174.43531441688538), (3, 161.22005915641785), (4, 162.64021015167236), (5, 150.58831882476807), (6, 139.39977025985718), (7, 127.2656387090683), (8, 130.6730250120163), (9, 124.96343040466309), (10, 110.04618525505066)]\n",
            "INFO flwr 2023-02-22 01:31:55,578 | app.py:205 | app_fit: metrics_centralized {'accuracy': [(0, 0.004), (1, 0.07933333333333334), (2, 0.10733333333333334), (3, 0.07933333333333334), (4, 0.10266666666666667), (5, 0.236), (6, 0.302), (7, 0.338), (8, 0.36933333333333335), (9, 0.4086666666666667), (10, 0.4726666666666667)]}\n",
            "INFO:flwr:app_fit: metrics_centralized {'accuracy': [(0, 0.004), (1, 0.07933333333333334), (2, 0.10733333333333334), (3, 0.07933333333333334), (4, 0.10266666666666667), (5, 0.236), (6, 0.302), (7, 0.338), (8, 0.36933333333333335), (9, 0.4086666666666667), (10, 0.4726666666666667)]}\n",
            "WARNING flwr 2023-02-22 01:31:58,213 | app.py:187 | Both server and strategy were provided, ignoring strategy\n",
            "WARNING:flwr:Both server and strategy were provided, ignoring strategy\n",
            "INFO flwr 2023-02-22 01:31:58,315 | app.py:145 | Starting Flower simulation, config: ServerConfig(num_rounds=10, round_timeout=None)\n",
            "INFO:flwr:Starting Flower simulation, config: ServerConfig(num_rounds=10, round_timeout=None)\n",
            "2023-02-22 01:32:02,385\tINFO worker.py:1529 -- Started a local Ray instance. View the dashboard at \u001b[1m\u001b[32mhttp://127.0.0.1:8265 \u001b[39m\u001b[22m\n",
            "INFO flwr 2023-02-22 01:32:03,935 | app.py:179 | Flower VCE: Ray initialized with resources: {'node:172.28.0.12': 1.0, 'object_store_memory': 3991979212.0, 'memory': 7983958427.0, 'CPU': 2.0, 'GPU': 1.0}\n",
            "INFO:flwr:Flower VCE: Ray initialized with resources: {'node:172.28.0.12': 1.0, 'object_store_memory': 3991979212.0, 'memory': 7983958427.0, 'CPU': 2.0, 'GPU': 1.0}\n",
            "INFO flwr 2023-02-22 01:32:03,971 | server.py:176 | Initializing global parameters\n",
            "INFO:flwr:Initializing global parameters\n",
            "INFO flwr 2023-02-22 01:32:03,980 | server.py:359 | Using initial parameters provided by strategy\n",
            "INFO:flwr:Using initial parameters provided by strategy\n",
            "INFO flwr 2023-02-22 01:32:03,989 | server.py:178 | Evaluating initial parameters\n",
            "INFO:flwr:Evaluating initial parameters\n",
            "100%|██████████| 47/47 [00:00<00:00, 50.59it/s]\n",
            "INFO flwr 2023-02-22 01:32:04,945 | server.py:181 | initial parameters (loss, other metrics): 194.37576723098755, {'accuracy': 0.004}\n",
            "INFO:flwr:initial parameters (loss, other metrics): 194.37576723098755, {'accuracy': 0.004}\n",
            "INFO flwr 2023-02-22 01:32:04,949 | server.py:191 | FL starting\n",
            "INFO:flwr:FL starting\n",
            "INFO flwr 2023-02-22 01:32:04,955 | client_manager.py:49 | Sampling using None\n",
            "INFO:flwr:Sampling using None\n",
            "DEBUG flwr 2023-02-22 01:32:04,959 | server.py:308 | fit_round 1: strategy sampled 4 clients (out of 3224)\n",
            "DEBUG:flwr:fit_round 1: strategy sampled 4 clients (out of 3224)\n"
          ]
        },
        {
          "name": "stdout",
          "output_type": "stream",
          "text": [
            "Sampled the following clients:  ['1101', '2904', '2613', '3179']\n"
          ]
        },
        {
          "name": "stderr",
          "output_type": "stream",
          "text": [
            "DEBUG flwr 2023-02-22 01:32:56,852 | server.py:322 | fit_round 1 received 4 results and 0 failures\n",
            "DEBUG:flwr:fit_round 1 received 4 results and 0 failures\n",
            "100%|██████████| 47/47 [00:01<00:00, 36.00it/s]\n",
            "INFO flwr 2023-02-22 01:32:58,240 | server.py:209 | fit progress: (1, 176.53921270370483, {'accuracy': 0.07933333333333334}, 53.2883066469999)\n",
            "INFO:flwr:fit progress: (1, 176.53921270370483, {'accuracy': 0.07933333333333334}, 53.2883066469999)\n",
            "INFO flwr 2023-02-22 01:32:58,244 | server.py:256 | evaluate_round 1: no clients selected, cancel\n",
            "INFO:flwr:evaluate_round 1: no clients selected, cancel\n",
            "INFO flwr 2023-02-22 01:32:58,255 | client_manager.py:49 | Sampling using None\n",
            "INFO:flwr:Sampling using None\n",
            "DEBUG flwr 2023-02-22 01:32:58,264 | server.py:308 | fit_round 2: strategy sampled 4 clients (out of 3224)\n",
            "DEBUG:flwr:fit_round 2: strategy sampled 4 clients (out of 3224)\n"
          ]
        },
        {
          "name": "stdout",
          "output_type": "stream",
          "text": [
            "Sampled the following clients:  ['1418', '27', '1758', '410']\n"
          ]
        },
        {
          "name": "stderr",
          "output_type": "stream",
          "text": [
            "DEBUG flwr 2023-02-22 01:33:33,122 | server.py:322 | fit_round 2 received 4 results and 0 failures\n",
            "DEBUG:flwr:fit_round 2 received 4 results and 0 failures\n",
            "100%|██████████| 47/47 [00:00<00:00, 62.79it/s]\n",
            "INFO flwr 2023-02-22 01:33:33,935 | server.py:209 | fit progress: (2, 174.57600927352905, {'accuracy': 0.07933333333333334}, 88.9829417049998)\n",
            "INFO:flwr:fit progress: (2, 174.57600927352905, {'accuracy': 0.07933333333333334}, 88.9829417049998)\n",
            "INFO flwr 2023-02-22 01:33:33,940 | server.py:256 | evaluate_round 2: no clients selected, cancel\n",
            "INFO:flwr:evaluate_round 2: no clients selected, cancel\n",
            "INFO flwr 2023-02-22 01:33:33,951 | client_manager.py:49 | Sampling using None\n",
            "INFO:flwr:Sampling using None\n",
            "DEBUG flwr 2023-02-22 01:33:33,957 | server.py:308 | fit_round 3: strategy sampled 4 clients (out of 3224)\n",
            "DEBUG:flwr:fit_round 3: strategy sampled 4 clients (out of 3224)\n"
          ]
        },
        {
          "name": "stdout",
          "output_type": "stream",
          "text": [
            "Sampled the following clients:  ['2215', '1477', '3146', '993']\n"
          ]
        },
        {
          "name": "stderr",
          "output_type": "stream",
          "text": [
            "DEBUG flwr 2023-02-22 01:34:34,884 | server.py:322 | fit_round 3 received 4 results and 0 failures\n",
            "DEBUG:flwr:fit_round 3 received 4 results and 0 failures\n",
            "100%|██████████| 47/47 [00:01<00:00, 27.55it/s]\n",
            "INFO flwr 2023-02-22 01:34:36,760 | server.py:209 | fit progress: (3, 156.40993213653564, {'accuracy': 0.09666666666666666}, 151.8081111089998)\n",
            "INFO:flwr:fit progress: (3, 156.40993213653564, {'accuracy': 0.09666666666666666}, 151.8081111089998)\n",
            "INFO flwr 2023-02-22 01:34:36,765 | server.py:256 | evaluate_round 3: no clients selected, cancel\n",
            "INFO:flwr:evaluate_round 3: no clients selected, cancel\n",
            "INFO flwr 2023-02-22 01:34:36,789 | client_manager.py:49 | Sampling using None\n",
            "INFO:flwr:Sampling using None\n",
            "DEBUG flwr 2023-02-22 01:34:36,794 | server.py:308 | fit_round 4: strategy sampled 4 clients (out of 3224)\n",
            "DEBUG:flwr:fit_round 4: strategy sampled 4 clients (out of 3224)\n"
          ]
        },
        {
          "name": "stdout",
          "output_type": "stream",
          "text": [
            "Sampled the following clients:  ['2955', '1583', '580', '779']\n"
          ]
        },
        {
          "name": "stderr",
          "output_type": "stream",
          "text": [
            "DEBUG flwr 2023-02-22 01:35:14,332 | server.py:322 | fit_round 4 received 4 results and 0 failures\n",
            "DEBUG:flwr:fit_round 4 received 4 results and 0 failures\n",
            "100%|██████████| 47/47 [00:00<00:00, 65.45it/s]\n",
            "INFO flwr 2023-02-22 01:35:15,104 | server.py:209 | fit progress: (4, 171.1748218536377, {'accuracy': 0.14733333333333334}, 190.152128726)\n",
            "INFO:flwr:fit progress: (4, 171.1748218536377, {'accuracy': 0.14733333333333334}, 190.152128726)\n",
            "INFO flwr 2023-02-22 01:35:15,111 | server.py:256 | evaluate_round 4: no clients selected, cancel\n",
            "INFO:flwr:evaluate_round 4: no clients selected, cancel\n",
            "INFO flwr 2023-02-22 01:35:15,127 | client_manager.py:49 | Sampling using None\n",
            "INFO:flwr:Sampling using None\n",
            "DEBUG flwr 2023-02-22 01:35:15,139 | server.py:308 | fit_round 5: strategy sampled 4 clients (out of 3224)\n",
            "DEBUG:flwr:fit_round 5: strategy sampled 4 clients (out of 3224)\n"
          ]
        },
        {
          "name": "stdout",
          "output_type": "stream",
          "text": [
            "Sampled the following clients:  ['1656', '1717', '1348', '261']\n"
          ]
        },
        {
          "name": "stderr",
          "output_type": "stream",
          "text": [
            "DEBUG flwr 2023-02-22 01:35:51,410 | server.py:322 | fit_round 5 received 4 results and 0 failures\n",
            "DEBUG:flwr:fit_round 5 received 4 results and 0 failures\n",
            "100%|██████████| 47/47 [00:01<00:00, 37.81it/s]\n",
            "INFO flwr 2023-02-22 01:35:52,736 | server.py:209 | fit progress: (5, 131.78014028072357, {'accuracy': 0.31}, 227.7834035269998)\n",
            "INFO:flwr:fit progress: (5, 131.78014028072357, {'accuracy': 0.31}, 227.7834035269998)\n",
            "INFO flwr 2023-02-22 01:35:52,738 | server.py:256 | evaluate_round 5: no clients selected, cancel\n",
            "INFO:flwr:evaluate_round 5: no clients selected, cancel\n",
            "INFO flwr 2023-02-22 01:35:52,762 | client_manager.py:49 | Sampling using None\n",
            "INFO:flwr:Sampling using None\n",
            "DEBUG flwr 2023-02-22 01:35:52,775 | server.py:308 | fit_round 6: strategy sampled 4 clients (out of 3224)\n",
            "DEBUG:flwr:fit_round 6: strategy sampled 4 clients (out of 3224)\n"
          ]
        },
        {
          "name": "stdout",
          "output_type": "stream",
          "text": [
            "Sampled the following clients:  ['346', '2627', '2817', '1058']\n"
          ]
        },
        {
          "name": "stderr",
          "output_type": "stream",
          "text": [
            "DEBUG flwr 2023-02-22 01:36:37,955 | server.py:322 | fit_round 6 received 4 results and 0 failures\n",
            "DEBUG:flwr:fit_round 6 received 4 results and 0 failures\n",
            "100%|██████████| 47/47 [00:00<00:00, 66.09it/s]\n",
            "INFO flwr 2023-02-22 01:36:38,728 | server.py:209 | fit progress: (6, 123.85489702224731, {'accuracy': 0.358}, 273.7756440439998)\n",
            "INFO:flwr:fit progress: (6, 123.85489702224731, {'accuracy': 0.358}, 273.7756440439998)\n",
            "INFO flwr 2023-02-22 01:36:38,735 | server.py:256 | evaluate_round 6: no clients selected, cancel\n",
            "INFO:flwr:evaluate_round 6: no clients selected, cancel\n",
            "INFO flwr 2023-02-22 01:36:38,759 | client_manager.py:49 | Sampling using None\n",
            "INFO:flwr:Sampling using None\n",
            "DEBUG flwr 2023-02-22 01:36:38,763 | server.py:308 | fit_round 7: strategy sampled 4 clients (out of 3224)\n",
            "DEBUG:flwr:fit_round 7: strategy sampled 4 clients (out of 3224)\n"
          ]
        },
        {
          "name": "stdout",
          "output_type": "stream",
          "text": [
            "Sampled the following clients:  ['2251', '159', '3062', '2996']\n"
          ]
        },
        {
          "name": "stderr",
          "output_type": "stream",
          "text": [
            "DEBUG flwr 2023-02-22 01:37:31,605 | server.py:322 | fit_round 7 received 4 results and 0 failures\n",
            "DEBUG:flwr:fit_round 7 received 4 results and 0 failures\n",
            "100%|██████████| 47/47 [00:00<00:00, 63.19it/s]\n",
            "INFO flwr 2023-02-22 01:37:32,407 | server.py:209 | fit progress: (7, 106.19750940799713, {'accuracy': 0.4553333333333333}, 327.4548294030001)\n",
            "INFO:flwr:fit progress: (7, 106.19750940799713, {'accuracy': 0.4553333333333333}, 327.4548294030001)\n",
            "INFO flwr 2023-02-22 01:37:32,412 | server.py:256 | evaluate_round 7: no clients selected, cancel\n",
            "INFO:flwr:evaluate_round 7: no clients selected, cancel\n",
            "INFO flwr 2023-02-22 01:37:32,434 | client_manager.py:49 | Sampling using None\n",
            "INFO:flwr:Sampling using None\n",
            "DEBUG flwr 2023-02-22 01:37:32,438 | server.py:308 | fit_round 8: strategy sampled 4 clients (out of 3224)\n",
            "DEBUG:flwr:fit_round 8: strategy sampled 4 clients (out of 3224)\n"
          ]
        },
        {
          "name": "stdout",
          "output_type": "stream",
          "text": [
            "Sampled the following clients:  ['2411', '528', '943', '725']\n"
          ]
        },
        {
          "name": "stderr",
          "output_type": "stream",
          "text": [
            "DEBUG flwr 2023-02-22 01:38:14,444 | server.py:322 | fit_round 8 received 4 results and 0 failures\n",
            "DEBUG:flwr:fit_round 8 received 4 results and 0 failures\n",
            "100%|██████████| 47/47 [00:01<00:00, 35.12it/s]\n",
            "INFO flwr 2023-02-22 01:38:15,873 | server.py:209 | fit progress: (8, 134.1388999223709, {'accuracy': 0.35133333333333333}, 370.9213155479997)\n",
            "INFO:flwr:fit progress: (8, 134.1388999223709, {'accuracy': 0.35133333333333333}, 370.9213155479997)\n",
            "INFO flwr 2023-02-22 01:38:15,877 | server.py:256 | evaluate_round 8: no clients selected, cancel\n",
            "INFO:flwr:evaluate_round 8: no clients selected, cancel\n",
            "INFO flwr 2023-02-22 01:38:15,916 | client_manager.py:49 | Sampling using None\n",
            "INFO:flwr:Sampling using None\n",
            "DEBUG flwr 2023-02-22 01:38:15,926 | server.py:308 | fit_round 9: strategy sampled 4 clients (out of 3224)\n",
            "DEBUG:flwr:fit_round 9: strategy sampled 4 clients (out of 3224)\n"
          ]
        },
        {
          "name": "stdout",
          "output_type": "stream",
          "text": [
            "Sampled the following clients:  ['1850', '249', '2079', '1864']\n"
          ]
        },
        {
          "name": "stderr",
          "output_type": "stream",
          "text": [
            "DEBUG flwr 2023-02-22 01:38:51,008 | server.py:322 | fit_round 9 received 4 results and 0 failures\n",
            "DEBUG:flwr:fit_round 9 received 4 results and 0 failures\n",
            "100%|██████████| 47/47 [00:00<00:00, 64.03it/s]\n",
            "INFO flwr 2023-02-22 01:38:51,799 | server.py:209 | fit progress: (9, 112.38973343372345, {'accuracy': 0.5166666666666667}, 406.8470031940001)\n",
            "INFO:flwr:fit progress: (9, 112.38973343372345, {'accuracy': 0.5166666666666667}, 406.8470031940001)\n",
            "INFO flwr 2023-02-22 01:38:51,803 | server.py:256 | evaluate_round 9: no clients selected, cancel\n",
            "INFO:flwr:evaluate_round 9: no clients selected, cancel\n",
            "INFO flwr 2023-02-22 01:38:51,830 | client_manager.py:49 | Sampling using None\n",
            "INFO:flwr:Sampling using None\n",
            "DEBUG flwr 2023-02-22 01:38:51,834 | server.py:308 | fit_round 10: strategy sampled 4 clients (out of 3224)\n",
            "DEBUG:flwr:fit_round 10: strategy sampled 4 clients (out of 3224)\n"
          ]
        },
        {
          "name": "stdout",
          "output_type": "stream",
          "text": [
            "Sampled the following clients:  ['2777', '82', '2583', '2652']\n",
            "\u001b[2m\u001b[1m\u001b[33m(scheduler +33m6s)\u001b[0m Warning: The following resource request cannot be scheduled right now: {'CPU': 1.0, 'GPU': 0.5}. This is likely due to all cluster resources being claimed by actors. Consider creating fewer actors or adding more nodes to this Ray cluster.\n"
          ]
        },
        {
          "name": "stderr",
          "output_type": "stream",
          "text": [
            "DEBUG flwr 2023-02-22 01:39:31,183 | server.py:322 | fit_round 10 received 4 results and 0 failures\n",
            "DEBUG:flwr:fit_round 10 received 4 results and 0 failures\n",
            "100%|██████████| 47/47 [00:01<00:00, 37.24it/s]\n",
            "INFO flwr 2023-02-22 01:39:32,529 | server.py:209 | fit progress: (10, 97.23898243904114, {'accuracy': 0.5593333333333333}, 447.57737272199984)\n",
            "INFO:flwr:fit progress: (10, 97.23898243904114, {'accuracy': 0.5593333333333333}, 447.57737272199984)\n",
            "INFO flwr 2023-02-22 01:39:32,540 | server.py:256 | evaluate_round 10: no clients selected, cancel\n",
            "INFO:flwr:evaluate_round 10: no clients selected, cancel\n",
            "INFO flwr 2023-02-22 01:39:32,553 | server.py:237 | FL finished in 447.60061654699985\n",
            "INFO:flwr:FL finished in 447.60061654699985\n",
            "INFO flwr 2023-02-22 01:39:32,561 | app.py:202 | app_fit: losses_distributed []\n",
            "INFO:flwr:app_fit: losses_distributed []\n",
            "INFO flwr 2023-02-22 01:39:32,569 | app.py:203 | app_fit: metrics_distributed {'Placeholder, see fit and eval metrics distributed results in hist object': [1, 1]}\n",
            "INFO:flwr:app_fit: metrics_distributed {'Placeholder, see fit and eval metrics distributed results in hist object': [1, 1]}\n",
            "INFO flwr 2023-02-22 01:39:32,575 | app.py:204 | app_fit: losses_centralized [(0, 194.37576723098755), (1, 176.53921270370483), (2, 174.57600927352905), (3, 156.40993213653564), (4, 171.1748218536377), (5, 131.78014028072357), (6, 123.85489702224731), (7, 106.19750940799713), (8, 134.1388999223709), (9, 112.38973343372345), (10, 97.23898243904114)]\n",
            "INFO:flwr:app_fit: losses_centralized [(0, 194.37576723098755), (1, 176.53921270370483), (2, 174.57600927352905), (3, 156.40993213653564), (4, 171.1748218536377), (5, 131.78014028072357), (6, 123.85489702224731), (7, 106.19750940799713), (8, 134.1388999223709), (9, 112.38973343372345), (10, 97.23898243904114)]\n",
            "INFO flwr 2023-02-22 01:39:32,581 | app.py:205 | app_fit: metrics_centralized {'accuracy': [(0, 0.004), (1, 0.07933333333333334), (2, 0.07933333333333334), (3, 0.09666666666666666), (4, 0.14733333333333334), (5, 0.31), (6, 0.358), (7, 0.4553333333333333), (8, 0.35133333333333333), (9, 0.5166666666666667), (10, 0.5593333333333333)]}\n",
            "INFO:flwr:app_fit: metrics_centralized {'accuracy': [(0, 0.004), (1, 0.07933333333333334), (2, 0.07933333333333334), (3, 0.09666666666666666), (4, 0.14733333333333334), (5, 0.31), (6, 0.358), (7, 0.4553333333333333), (8, 0.35133333333333333), (9, 0.5166666666666667), (10, 0.5593333333333333)]}\n"
          ]
        }
      ],
      "source": [
        "for clip_norm in clip_norms:\n",
        "  hists_Q3.append(run_DP_fixed_fl(clip_norm=clip_norm, noise_multiplier=0.0, default_parameters=default_parameters))\n",
        "  print(\"clip_norm \", clip_norm, \"finished\")"
      ]
    },
    {
      "cell_type": "markdown",
      "metadata": {
        "id": "qD1ssr4eZmr7"
      },
      "source": [
        "**Question 3 Plots and Answer**"
      ]
    },
    {
      "cell_type": "code",
      "execution_count": null,
      "metadata": {
        "id": "tEOuxHwHYs0l"
      },
      "outputs": [],
      "source": [
        "mean_l2 = 9.600119  # Previous experiment result\n",
        "filenames = ['/hist_1677029972_fixed_clip_norm_14.400177955627441_noise_0.0.json', '/hist_1677029515_fixed_clip_norm_9.600118637084961_noise_0.0.json', '/hist_1677029097_fixed_clip_norm_4.8000593185424805_noise_0.0.json']\n",
        "filenames = filenames[::-1]\n",
        "hists_Q3 = []\n",
        "hists_Q3 = load_hist_object(filenames, hists_Q3)"
      ]
    },
    {
      "cell_type": "code",
      "execution_count": null,
      "metadata": {
        "colab": {
          "base_uri": "https://localhost:8080/"
        },
        "id": "lb-HUqHqLH7_",
        "outputId": "c554c328-5d2d-4406-b087-084bca2e06e0"
      },
      "outputs": [
        {
          "name": "stdout",
          "output_type": "stream",
          "text": [
            "[(0, 0.004), (1, 0.07933333333333334), (2, 0.07933333333333334), (3, 0.07933333333333334), (4, 0.07933333333333334), (5, 0.15866666666666668), (6, 0.144), (7, 0.23666666666666666), (8, 0.31933333333333336), (9, 0.38066666666666665), (10, 0.42866666666666664)]\n",
            "[(0, 0.004), (1, 0.07933333333333334), (2, 0.10733333333333334), (3, 0.07933333333333334), (4, 0.10266666666666667), (5, 0.236), (6, 0.302), (7, 0.338), (8, 0.36933333333333335), (9, 0.4086666666666667), (10, 0.4726666666666667)]\n",
            "[(0, 0.004), (1, 0.07933333333333334), (2, 0.07933333333333334), (3, 0.09666666666666666), (4, 0.14733333333333334), (5, 0.31), (6, 0.358), (7, 0.4553333333333333), (8, 0.35133333333333333), (9, 0.5166666666666667), (10, 0.5593333333333333)]\n"
          ]
        }
      ],
      "source": [
        "for i, hist in enumerate(hists_Q3):\n",
        "  print(hist.metrics_centralized['accuracy'])"
      ]
    },
    {
      "cell_type": "code",
      "execution_count": null,
      "metadata": {
        "colab": {
          "base_uri": "https://localhost:8080/",
          "height": 404
        },
        "id": "RDewysSXZl82",
        "outputId": "ad129325-2da5-426a-cb93-d95a993d296d"
      },
      "outputs": [
        {
          "data": {
            "image/png": "[encoded data removed]",
            "text/plain": [
              "<Figure size 648x432 with 1 Axes>"
            ]
          },
          "metadata": {
            "needs_background": "light"
          },
          "output_type": "display_data"
        }
      ],
      "source": [
        "fig, ax = plt.subplots(figsize=(9, 6))\n",
        "for i, hist in enumerate(hists_Q3):\n",
        "  accuracy = hist.metrics_centralized['accuracy']\n",
        "  rounds = list(zip(*accuracy))[0]\n",
        "  acc = list(zip(*accuracy))[1]\n",
        "  plt.plot(rounds, acc, label = \"clip_norm = μ×\" + str(clip_norms[i]/mean_l2))\n",
        "  # for index in range(len(rounds)):\n",
        "  #   ax.text(rounds[index], round(acc[index], 4), round(acc[index], 4))\n",
        "plt.legend()\n",
        "plt.title('Test Accuracy per Round with noise_multiplier = 0, μ = 9.600119')\n",
        "plt.xlabel('Round')\n",
        "plt.ylabel('Accuracy')\n",
        "plt.show()"
      ]
    },
    {
      "cell_type": "markdown",
      "metadata": {
        "id": "3XtMgMDZLZEs"
      },
      "source": [
        "From the plot, a larger bound of clip_norm leads to higher accuracy. To understand the reasons behind this, we need to examine the effects of bound. I analyze it from the perspectives of DP and FL.\n",
        "\n",
        "From the perspective of fixed norm bound DP. The product of clip_norm bound and noise_multiplier determines the standard deviation of the added Gaussian noise. Thus, a larger bound leads to a higher L2 sensitivity as standard deviation needs to be proportional to L2 sensitivity in Gaussian noise. Andrew et al. [1] pointed that setting a clip_norm bound that is too high entails the addition of more noise, which will eventually destroy model utility.\n",
        "\n",
        "From the perspective of FL, a lower clip_norm bound limits the divergence of highly heterogeneous clients because the bound is proportional to the model scaling factor, and we limit the scaling factor in the range of (0, 1). Thus, a lower clip_norm bound stabilizes training when combined with unweighted aggregation, but may come at the costs of reducing accuracy.\n",
        "\n",
        "In this case, we set noise_multiplier = 0, which means the Gaussian noise is never effectively added. Thus, the positive correlation between the clip_norm bound and accuracy can be explained from the perspective of FL.\n",
        "\n",
        "[1] https://arxiv.org/abs/1905.03871\n"
      ]
    },
    {
      "cell_type": "markdown",
      "metadata": {
        "id": "ABQ1eXfAHYgP"
      },
      "source": [
        "**Question 4 (Part II ✅ | Part III/MPhil ✅):**\n",
        "\n",
        "(You must provide the answer with **code** and **plots** for this question. A short written argumentation is recommended.)\n",
        "\n",
        "This question extends the one above to investigate the effect that the `clip_norm` has upon the norm of the federated model update. The federated model update is defined as the difference between the model at the start of the round and the model post-aggregation.\n",
        "\n",
        "1. Using the results from the above question, plot the following:\n",
        "\n",
        "    *  The L2 norm of the federated model deltas across rounds for the three bounds above. How does L2 norm of the federated model delta compare to `clip_norm` (draw a horizontal line for all three bounds)? Is the behaviour as you expected, and why/why not?\n",
        "    * The accuracy on the federated test set of models trained using the three norms above against the cumulative L2 norm accumulated across rounds as the axis. Consider the accuracy of the initial parameter test (round 0) to map to an L2 norm of 0. By cumulative L2, we mean a running sum where you keep adding the new norm value to the sum and then add the sum to a per-round list. Such a sum can easily be computed from a list using a `accumulate()` call.\n",
        "\n",
        "2. How do the L2 norms of the federated model deltas compare against the change in accuracy between rounds? Is the relationship predictable and/or linear?  Consider all the `clip_norm` values you have tried in your response and provide potential explanations for why/why not the relationship between accuracy and cumulative L2 changes between bounds. \n",
        "  "
      ]
    },
    {
      "cell_type": "markdown",
      "metadata": {
        "id": "Y0wVMk9MEbvU"
      },
      "source": [
        "**Question 4 Plots and Answer**"
      ]
    },
    {
      "cell_type": "code",
      "execution_count": null,
      "metadata": {
        "colab": {
          "base_uri": "https://localhost:8080/"
        },
        "id": "s9k9hjPgLQBW",
        "outputId": "5c68400b-55e5-4d4d-a094-686f31496c88"
      },
      "outputs": [
        {
          "name": "stdout",
          "output_type": "stream",
          "text": [
            "[(1, 3.4735154552596854), (2, 3.1413647844400856), (3, 3.243159435046478), (4, 3.0549607649556743), (5, 3.069046091430751), (6, 2.9687540903981007), (7, 3.3070053526708736), (8, 3.377392778288275), (9, 3.4181965433849917), (10, 3.4574273266794364)]\n",
            "[(1, 6.7341981614714195), (2, 4.944533632903363), (3, 5.382484581039704), (4, 5.322256293516981), (5, 6.028831019660606), (6, 7.075293889003668), (7, 6.94868885853355), (8, 7.1831089400801895), (9, 7.471407619841068), (10, 7.397472632674037)]\n",
            "[(1, 6.993985746453119), (2, 5.482952593605501), (3, 7.49900832135448), (4, 7.120265083005594), (5, 8.086785456238307), (6, 9.170273214469022), (7, 7.558606588069089), (8, 8.383191421737537), (9, 7.572318749328624), (10, 7.988627552414503)]\n"
          ]
        }
      ],
      "source": [
        "for i, hist in enumerate(hists_Q3):\n",
        "  print(hist.fit_metrics_distributed['l2_model_delta'])"
      ]
    },
    {
      "cell_type": "code",
      "execution_count": null,
      "metadata": {
        "colab": {
          "base_uri": "https://localhost:8080/",
          "height": 791
        },
        "id": "vJMvbJzbEZ6O",
        "outputId": "a446eac7-a6a3-41da-aab7-2f6bcd25a15f"
      },
      "outputs": [
        {
          "data": {
            "image/png": "[encoded data removed]",
            "text/plain": [
              "<Figure size 648x432 with 1 Axes>"
            ]
          },
          "metadata": {
            "needs_background": "light"
          },
          "output_type": "display_data"
        },
        {
          "data": {
            "image/png": "[encoded data removed]",
            "text/plain": [
              "<Figure size 648x432 with 1 Axes>"
            ]
          },
          "metadata": {
            "needs_background": "light"
          },
          "output_type": "display_data"
        }
      ],
      "source": [
        "fig, ax = plt.subplots(figsize=(9, 6))\n",
        "for i, hist in enumerate(hists_Q3):\n",
        "  l2_model_delta = hist.fit_metrics_distributed['l2_model_delta']\n",
        "  rounds = list(zip(*l2_model_delta))[0]\n",
        "  clip_norm_list = [clip_norms[i]] * len(rounds)\n",
        "  l2_model_delta = list(zip(*l2_model_delta))[1]\n",
        "  plt.plot(rounds, l2_model_delta, label = \"L2 model delta, clip_norm = μ×\" + str(clip_norms[i]/mean_l2))\n",
        "  plt.plot(rounds, clip_norm_list, label = \"clip_norm, μ×\" + str(clip_norms[i]/mean_l2))\n",
        "  # for index in range(len(rounds)):\n",
        "  #   ax.text(rounds[index], round(l2_model_delta[index], 4), round(l2_model_delta[index], 4))\n",
        "plt.legend()\n",
        "plt.title('L2 Norm of the Federated Model Deltas per Round Compared to clip_norm with noise_multiplier = 0, μ = 9.600119')\n",
        "plt.xlabel('Round')\n",
        "plt.ylabel('')\n",
        "plt.show()\n",
        "\n",
        "\n",
        "fig, ax = plt.subplots(figsize=(9, 6))\n",
        "for i, hist in enumerate(hists_Q3):\n",
        "  l2_model_delta = hist.fit_metrics_distributed['l2_model_delta']\n",
        "  accuracy = hist.metrics_centralized['accuracy']\n",
        "  rounds = list(zip(*accuracy))[0]\n",
        "  l2_model_delta = list(zip(*l2_model_delta))[1]\n",
        "  l2_model_delta_accumulated = np.asarray([0] + list(accumulate(l2_model_delta)))\n",
        "  acc = np.asarray(list(zip(*accuracy))[1]) * 100\n",
        "  plt.plot(rounds, l2_model_delta_accumulated, label = \"Accumulated L2 model delta, clip_norm = μ×\" + str(clip_norms[i]/mean_l2))\n",
        "  plt.plot(rounds, acc, label = \"Accuracy, clip_norm = μ×\" + str(clip_norms[i]/mean_l2))\n",
        "  # for index in range(len(rounds)):\n",
        "  #   ax.text(rounds[index], round(acc[index], 4), round(acc[index], 4))\n",
        "plt.legend()\n",
        "plt.title('Accumulated L2 Norm of the Federated Model Deltas and Test Accuracy per Round with noise_multiplier = 0, μ = 9.600119')\n",
        "plt.xlabel('Round')\n",
        "plt.ylabel('')\n",
        "plt.show()"
      ]
    },
    {
      "cell_type": "markdown",
      "metadata": {
        "id": "lXMUNRH4La3i"
      },
      "source": [
        "**1.**\n",
        "\n",
        "We can see that for all three values of clip_norm, they are the upper bound of L2 norm of the federated model delta. Also, a higher value of clip_norm bound leads a larger gap between the clip_norm and L2 norm of the federated model delta. \n",
        "\n",
        "The reason is for each client’s model update, we rescale the model weights using clip_norm bound divided by the model weights norm, and restrict in the range of (0, 1), so the clipped norm is at most the bound. Then, we apply unweighted averaging using all clients’ models without the addition of noises. Consequently, the norm of the aggregated model also falls below the bound, and the norm of the aggregated model of the next round and the norm of the aggregated model difference between consecutive rounds follow the same. \n",
        "\n",
        "\\\n",
        "\n",
        "**2.**\n",
        "\n",
        "For accuracy curve, I multiply the values by 100 so that they fit in the same scale as the cumulative L2 norm of the federated model delta on the plot. However, it is worth to mention that accuracy has a theoretical upper bound (100%), but cumulative L2 norm does not. Thus, instead of focusing on the exact values of the two, analyzing their relationships will be more meaningful. \n",
        "\n",
        "We can see that for all three values of clip_norm, the cumulative L2 norm of the federated model delta linearly increase. Moreover, a higher clip_norm value results in larger slope and higher final value in both the cumulative L2 norm and accuracy, which means a higher cumulative L2 norm couples with a higher final accuracy and a larger cumulative L2 norm slope couples with a larger accuracy slope.\n",
        "\n",
        "The positive correlations between the cumulative L2 norm and the accuracy in terms of final value and slope are actually not surprising. The slope of the accuracy curve indicates the convergence rate. Kairouz et al. [1, 2] made the key observation in their proposed DP-FTRL algorithm that “the convergence of SGD depends primarily not on the accuracy of individual gradients, but the accuracy of cumulative sums of gradients”. In this case, we can think of gradients as L2 norms. However, they did not offer a formal explanation for this observation. I hypothesize the reason is in addition to sensitivity, L2 norm of the federated delta can be understood as how fast the global model learns and updates, and the cumulative sum indicates the total amount of knowledge learned since model initialization. More learned knowledge is beneficial for the accuracy improvement.\n",
        "\t\n",
        "To explain why the cumulative L2 norm of the federated model delta linearly increase, I think it may be due to the scaling factor of the model weights is inversely proportional to the model weights norm, so the global (federated) model update rate is almost linear.\n",
        "\n",
        "[1] https://arxiv.org/abs/2103.00039 \\\n",
        "[2] https://ai.googleblog.com/2022/02/federated-learning-with-formal.html\n"
      ]
    },
    {
      "cell_type": "markdown",
      "metadata": {
        "id": "6LN_jrHXQsML"
      },
      "source": [
        "## 3.2 Adaptive Norm Bound DP"
      ]
    },
    {
      "cell_type": "markdown",
      "metadata": {
        "id": "7gFxaCdKEaAY"
      },
      "source": [
        "Having investigated the impact of gradient clipping with a fixed norm on performance, you may wonder if your chosen norm will stay appropriate for the entire training. \n",
        "\n",
        "To avoid perfectly tuning a fixed `clip_norm` an [adaptive version of DPFedAvg](https://arxiv.org/abs/1905.03871) was proposed in paper \\[3], which attempts to automatically scale the bound on the L2 norm of model updates based on a quantile of L2 norms provided by clients in a given round. As computing such a value would be computationally expensive and require clients to send private values, the paper proposes an algorithm meant to approximate the quantile.\n",
        "\n",
        "Specifically, it adjusts the `clip_norm` parameter as:\n",
        "\n",
        "\n",
        ">     self.clip_norm *= math.exp(-self.clip_norm_lr\n",
        "            * (noised_clients_with_clipped_norm_fraction - self.clip_norm_target_quantile)\n",
        "        )\n",
        " \n",
        "where the new clip norm depends on a learning rate, the fraction of clients used in training who have clipped their norms (with added noise), and the target quantile. In the code below, the clients who have clipped their norm are reported via a set bit in the config, and thus `noised_clients_with_clipped_norm_fraction` is replaced with `noised_norm_bit_set_fraction`. By knowing approximately how many clients fall below a given norm, we can iteratively improve the `clip_norm` until the percentage of clients with norms smaller than the bound is reached.\n",
        "\n",
        "The new implementation is hard to use and balance for short experiments such as ours as it includes an initial phase where the norm grows exponentially in its attempts to converge to the actual quantile. Given that we do not want any further interference making the behaviour of DP harder to predict, this would prove inconvenient when trying to deduce the impact of noise. As such, we shall only track the behaviour of the adaptive norm and use the predictable `DPFedAvgFixed` when experimenting with obtaining a given level of $\\epsilon$ privacy.\n"
      ]
    },
    {
      "cell_type": "code",
      "execution_count": null,
      "metadata": {
        "id": "aQYTCh8JQfQ6"
      },
      "outputs": [],
      "source": [
        "\"\"\"DP-FedAvg [Andrew et al., 2019] with adaptive clipping.\n",
        "Paper: https://arxiv.org/pdf/1905.03871.pdf\n",
        "\"\"\"\n",
        "# Original implementation by Vasundhara Agarwal\n",
        "\n",
        "\n",
        "import math\n",
        "from typing import Dict, List, Optional, Tuple, Union\n",
        "\n",
        "import numpy as np\n",
        "\n",
        "from flwr.common import FitIns, FitRes, Parameters, Scalar\n",
        "from flwr.server.client_manager import ClientManager\n",
        "from flwr.server.client_proxy import ClientProxy\n",
        "from flwr.server.strategy.strategy import Strategy\n",
        "\n",
        "\n",
        "class DPFedAvgAdaptive(DPFedAvgFixed):\n",
        "\n",
        "    # pylint: disable=too-many-arguments,too-many-instance-attributes\n",
        "    def __init__(\n",
        "        self,\n",
        "        *,\n",
        "        fraction_fit: float = 1.0,\n",
        "        fraction_evaluate: float = 1.0,\n",
        "        min_fit_clients: int = 2,\n",
        "        min_evaluate_clients: int = 2,\n",
        "        min_available_clients: int = 2,\n",
        "        evaluate_fn: Optional[\n",
        "            Callable[\n",
        "                [int, NDArrays, Dict[str, Scalar]],\n",
        "                Optional[Tuple[float, Dict[str, Scalar]]],\n",
        "            ]\n",
        "        ] = None,\n",
        "        on_fit_config_fn: Optional[Callable[[int], Dict[str, Scalar]]] = None,\n",
        "        on_evaluate_config_fn: Optional[Callable[[int], Dict[str, Scalar]]] = None,\n",
        "        accept_failures: bool = False,\n",
        "        initial_parameters: Optional[Parameters] = None,\n",
        "        fit_metrics_aggregation_fn: Optional[MetricsAggregationFn] = None,\n",
        "        evaluate_metrics_aggregation_fn: Optional[MetricsAggregationFn] = None,\n",
        "        server_learning_rate: float = 1.0,\n",
        "        server_momentum: float = 0.0,\n",
        "        num_clients_per_round: int,\n",
        "        init_clip_norm: float = 0.1,\n",
        "        noise_multiplier: float = 1,\n",
        "        server_side_noising: bool = True,\n",
        "        clip_norm_lr: float = 0.2,\n",
        "        clip_norm_target_quantile: float = 0.5,\n",
        "        clip_count_stddev: Optional[float] = None,\n",
        "    ) -> None:\n",
        "        super().__init__(\n",
        "            fraction_fit=fraction_fit,\n",
        "            fraction_evaluate=fraction_evaluate,\n",
        "            min_fit_clients=min_fit_clients,\n",
        "            min_evaluate_clients=min_evaluate_clients,\n",
        "            min_available_clients=min_available_clients,\n",
        "            evaluate_fn=evaluate_fn,\n",
        "            on_fit_config_fn=on_fit_config_fn,\n",
        "            on_evaluate_config_fn=on_evaluate_config_fn,\n",
        "            accept_failures=accept_failures,\n",
        "            initial_parameters=initial_parameters,\n",
        "            fit_metrics_aggregation_fn=fit_metrics_aggregation_fn,\n",
        "            evaluate_metrics_aggregation_fn=evaluate_metrics_aggregation_fn,\n",
        "            server_learning_rate=server_learning_rate,\n",
        "            server_momentum=server_momentum,\n",
        "            num_clients_per_round=num_clients_per_round,\n",
        "            clip_norm=init_clip_norm,\n",
        "            noise_multiplier=noise_multiplier,\n",
        "            server_side_noising=server_side_noising,\n",
        "        )\n",
        "        self.clip_norm_lr = clip_norm_lr\n",
        "        self.clip_norm_target_quantile = clip_norm_target_quantile\n",
        "        self.clip_count_stddev = clip_count_stddev\n",
        "\n",
        "        # Decides the level of noise added to the fraction of clients which have clipped their norms\n",
        "        if self.clip_count_stddev is None:\n",
        "            self.clip_count_stddev = 0\n",
        "            if noise_multiplier > 0:\n",
        "                self.clip_count_stddev = self.num_clients_per_round / 20.0\n",
        "\n",
        "        if noise_multiplier:\n",
        "            self.noise_multiplier = (\n",
        "                self.noise_multiplier ** (-2) - (2 * self.clip_count_stddev) ** (-2)\n",
        "            ) ** (-0.5)\n",
        "\n",
        "    def configure_fit(\n",
        "        self, server_round: int, parameters: Parameters, client_manager: ClientManager\n",
        "    ) -> List[Tuple[ClientProxy, FitIns]]:\n",
        "        \"\"\"Configure the next round of training.\"\"\"\n",
        "\n",
        "        additional_config = {\"dpfedavg_adaptive_clip_enabled\": True}\n",
        "\n",
        "        client_instructions = super().configure_fit(\n",
        "            server_round, parameters, client_manager\n",
        "        )\n",
        "\n",
        "        for _, fit_ins in client_instructions:\n",
        "            fit_ins.config.update(additional_config)\n",
        "\n",
        "        return client_instructions\n",
        "\n",
        "    def _update_clip_norm(self, results: List[Tuple[ClientProxy, FitRes]]) -> None:\n",
        "        # Calculating number of clients which set the norm indicator bit\n",
        "        norm_bit_set_count = 0\n",
        "        for client_proxy, fit_res in results:\n",
        "            if \"dpfedavg_norm_bit\" not in fit_res.metrics:\n",
        "                raise Exception(\n",
        "                    f\"Indicator bit not returned by client with id {client_proxy.cid}.\"\n",
        "                )\n",
        "            if fit_res.metrics[\"dpfedavg_norm_bit\"]:\n",
        "                norm_bit_set_count += 1\n",
        "        # Noising the count\n",
        "        noised_norm_bit_set_count = float(\n",
        "            np.random.normal(norm_bit_set_count, self.clip_count_stddev)\n",
        "        )\n",
        "\n",
        "        noised_norm_bit_set_fraction = noised_norm_bit_set_count / len(results)\n",
        "        # Geometric update\n",
        "        self.clip_norm *= math.exp(\n",
        "            -self.clip_norm_lr\n",
        "            * (noised_norm_bit_set_fraction - self.clip_norm_target_quantile)\n",
        "        )\n",
        "\n",
        "    def aggregate_fit(\n",
        "        self,\n",
        "        server_round: int,\n",
        "        results: List[Tuple[ClientProxy, FitRes]],\n",
        "        failures: List[Union[Tuple[ClientProxy, FitRes], BaseException]],\n",
        "    ) -> Tuple[Optional[Parameters], Dict[str, Scalar]]:\n",
        "        if not self.accept_failures and failures:\n",
        "            return None, {}\n",
        "        new_global_model, metrics = super().aggregate_fit(\n",
        "            server_round, results, failures\n",
        "        )\n",
        "        self._update_clip_norm(results)\n",
        "        metrics[\"adaptive_clip_norm\"] = self.clip_norm\n",
        "        return new_global_model, metrics\n"
      ]
    },
    {
      "cell_type": "code",
      "execution_count": null,
      "metadata": {
        "id": "di5e_PszSLUg"
      },
      "outputs": [],
      "source": [
        "# New function to run the adaptive norm experiments with sensible defaults\n",
        "\n",
        "dp_client_generator = get_DP_client_generator(\n",
        "    network_generator_cnn, data_dir, federated_partition, lambda x: df.cid[x]\n",
        ")\n",
        "\n",
        "\n",
        "adaptive_default_parameters: Dict = {\n",
        "    \"train_config\": get_default_train_config(),\n",
        "    \"test_config\": get_default_test_config(),\n",
        "    \"num_total_clients\": num_total_clients,\n",
        "    \"num_clients_per_round\": 4,\n",
        "    \"num_evaluate_clients\": 0,\n",
        "    \"num_evaluate\": 0,\n",
        "    \"accept_failures\": False,\n",
        "    \"min_fit_clients\": 2,\n",
        "    \"min_available_clients\": 2,\n",
        "    \"initial_parameters\": ndarrays_to_parameters(seed_model_cnn_params),\n",
        "    \"client_generator\": dp_client_generator,\n",
        "    \"seed\": Seeds.DEFAULT,\n",
        "    \"num_rounds\": 10,\n",
        "    \"strategy\": DPFedAvgAdaptive,\n",
        "    \"fed_eval\": True,\n",
        "    \"server_side_noising\": True,\n",
        "    \"clip_count_stddev\": None,\n",
        "}\n",
        "\n",
        "\n",
        "def run_DP_adaptive_fl(\n",
        "    noise_multiplier: float = 0,\n",
        "    init_clip_norm: float = 2,\n",
        "    clip_norm_lr: float = 0.2,\n",
        "    clip_norm_target_quantile: float = 0.5,\n",
        "    default_parameters=adaptive_default_parameters,\n",
        "    **kwargs\n",
        "):\n",
        "    parameters: Dict = {**default_parameters, **kwargs}\n",
        "\n",
        "    on_fit_config_fn: Callable[[int], Dict[str, Scalar]] = lambda cid: parameters[\n",
        "        \"train_config\"\n",
        "    ]\n",
        "    on_evaluate_config_fn: Callable[[int], Dict[str, Scalar]] = lambda cid: parameters[\"test_config\"]  # type: ignore\n",
        "\n",
        "    fraction_fit: float = (\n",
        "        float(parameters[\"num_clients_per_round\"]) / parameters[\"num_total_clients\"]\n",
        "    )\n",
        "    fraction_evaluate: float = (\n",
        "        float(parameters[\"num_evaluate_clients\"]) / parameters[\"num_total_clients\"]\n",
        "    )\n",
        "\n",
        "    client_resources = {\n",
        "        \"num_gpus\": 1.0 / 2.0\n",
        "        if get_device() == \"cuda\"\n",
        "        else 0.0,  # maximum amount of resources that a client can take\n",
        "        \"num_cpus\": 1,\n",
        "    }\n",
        "\n",
        "    strategy = parameters[\"strategy\"](\n",
        "        num_clients_per_round=parameters[\"num_clients_per_round\"],\n",
        "        fraction_fit=fraction_fit,\n",
        "        fraction_evaluate=fraction_evaluate,\n",
        "        min_fit_clients=parameters[\"min_fit_clients\"],\n",
        "        min_available_clients=parameters[\"min_available_clients\"],\n",
        "        on_fit_config_fn=on_fit_config_fn,\n",
        "        on_evaluate_config_fn=on_evaluate_config_fn,\n",
        "        initial_parameters=parameters[\"initial_parameters\"],\n",
        "        accept_failures=parameters[\"accept_failures\"],\n",
        "        evaluate_fn=federated_evaluation_function\n",
        "        if parameters[\"fed_eval\"] is True\n",
        "        else None,\n",
        "        fit_metrics_aggregation_fn=aggregate_weighted_average,\n",
        "        evaluate_metrics_aggregation_fn=aggregate_weighted_average,\n",
        "        init_clip_norm=init_clip_norm,\n",
        "        clip_norm_lr=clip_norm_lr,\n",
        "        clip_norm_target_quantile=clip_norm_target_quantile,\n",
        "        noise_multiplier=noise_multiplier,\n",
        "        server_side_noising=parameters[\"server_side_noising\"],\n",
        "        clip_count_stddev=parameters[\"clip_count_stddev\"],\n",
        "    )\n",
        "    client_manager = CustomClientManager(criterion=None, seed=parameters[\"seed\"])\n",
        "    server = Server(\n",
        "        client_manager=client_manager,\n",
        "        strategy=strategy,\n",
        "    )\n",
        "    return start_seeded_simulation(\n",
        "        client_fn=parameters[\"client_generator\"],\n",
        "        num_clients=parameters[\"num_total_clients\"],\n",
        "        client_resources=client_resources,\n",
        "        server=server,\n",
        "        config=ServerConfig(num_rounds=parameters[\"num_rounds\"]),\n",
        "        strategy=strategy,\n",
        "        seed=parameters[\"seed\"],\n",
        "        name=f\"adaptive_target_{clip_norm_target_quantile}_init_clip_norm_{init_clip_norm}_lr_{clip_norm_lr}_noise_{noise_multiplier}\"\n",
        "    )\n"
      ]
    },
    {
      "cell_type": "code",
      "execution_count": null,
      "metadata": {
        "colab": {
          "base_uri": "https://localhost:8080/"
        },
        "id": "X0WoSm7mp0u4",
        "outputId": "d2aa87e3-c07f-4e67-9d62-da298e72975a"
      },
      "outputs": [
        {
          "name": "stderr",
          "output_type": "stream",
          "text": [
            "WARNING flwr 2023-02-22 02:10:30,945 | app.py:187 | Both server and strategy were provided, ignoring strategy\n",
            "WARNING:flwr:Both server and strategy were provided, ignoring strategy\n",
            "INFO flwr 2023-02-22 02:10:31,031 | app.py:145 | Starting Flower simulation, config: ServerConfig(num_rounds=10, round_timeout=None)\n",
            "INFO:flwr:Starting Flower simulation, config: ServerConfig(num_rounds=10, round_timeout=None)\n",
            "2023-02-22 02:10:35,166\tINFO worker.py:1529 -- Started a local Ray instance. View the dashboard at \u001b[1m\u001b[32mhttp://127.0.0.1:8265 \u001b[39m\u001b[22m\n",
            "INFO flwr 2023-02-22 02:10:37,915 | app.py:179 | Flower VCE: Ray initialized with resources: {'GPU': 1.0, 'node:172.28.0.12': 1.0, 'CPU': 2.0, 'memory': 7989158708.0, 'object_store_memory': 3994579353.0}\n",
            "INFO:flwr:Flower VCE: Ray initialized with resources: {'GPU': 1.0, 'node:172.28.0.12': 1.0, 'CPU': 2.0, 'memory': 7989158708.0, 'object_store_memory': 3994579353.0}\n",
            "INFO flwr 2023-02-22 02:10:38,019 | server.py:176 | Initializing global parameters\n",
            "INFO:flwr:Initializing global parameters\n",
            "INFO flwr 2023-02-22 02:10:38,032 | server.py:359 | Using initial parameters provided by strategy\n",
            "INFO:flwr:Using initial parameters provided by strategy\n",
            "INFO flwr 2023-02-22 02:10:38,043 | server.py:178 | Evaluating initial parameters\n",
            "INFO:flwr:Evaluating initial parameters\n",
            "100%|██████████| 47/47 [00:02<00:00, 19.47it/s]\n",
            "INFO flwr 2023-02-22 02:10:40,493 | server.py:181 | initial parameters (loss, other metrics): 194.37576723098755, {'accuracy': 0.004}\n",
            "INFO:flwr:initial parameters (loss, other metrics): 194.37576723098755, {'accuracy': 0.004}\n",
            "INFO flwr 2023-02-22 02:10:40,505 | server.py:191 | FL starting\n",
            "INFO:flwr:FL starting\n",
            "INFO flwr 2023-02-22 02:10:40,513 | client_manager.py:49 | Sampling using None\n",
            "INFO:flwr:Sampling using None\n",
            "DEBUG flwr 2023-02-22 02:10:40,527 | server.py:308 | fit_round 1: strategy sampled 4 clients (out of 3224)\n",
            "DEBUG:flwr:fit_round 1: strategy sampled 4 clients (out of 3224)\n"
          ]
        },
        {
          "name": "stdout",
          "output_type": "stream",
          "text": [
            "Sampled the following clients:  ['1101', '2904', '2613', '3179']\n"
          ]
        },
        {
          "name": "stderr",
          "output_type": "stream",
          "text": [
            "DEBUG flwr 2023-02-22 02:11:17,575 | server.py:322 | fit_round 1 received 4 results and 0 failures\n",
            "DEBUG:flwr:fit_round 1 received 4 results and 0 failures\n",
            "100%|██████████| 47/47 [00:00<00:00, 61.11it/s]\n",
            "INFO flwr 2023-02-22 02:11:18,408 | server.py:209 | fit progress: (1, 191.28467798233032, {'accuracy': 0.07933333333333334}, 37.89773924400015)\n",
            "INFO:flwr:fit progress: (1, 191.28467798233032, {'accuracy': 0.07933333333333334}, 37.89773924400015)\n",
            "INFO flwr 2023-02-22 02:11:18,415 | server.py:256 | evaluate_round 1: no clients selected, cancel\n",
            "INFO:flwr:evaluate_round 1: no clients selected, cancel\n",
            "INFO flwr 2023-02-22 02:11:18,429 | client_manager.py:49 | Sampling using None\n",
            "INFO:flwr:Sampling using None\n",
            "DEBUG flwr 2023-02-22 02:11:18,433 | server.py:308 | fit_round 2: strategy sampled 4 clients (out of 3224)\n",
            "DEBUG:flwr:fit_round 2: strategy sampled 4 clients (out of 3224)\n"
          ]
        },
        {
          "name": "stdout",
          "output_type": "stream",
          "text": [
            "Sampled the following clients:  ['1418', '27', '1758', '410']\n"
          ]
        },
        {
          "name": "stderr",
          "output_type": "stream",
          "text": [
            "DEBUG flwr 2023-02-22 02:11:54,667 | server.py:322 | fit_round 2 received 4 results and 0 failures\n",
            "DEBUG:flwr:fit_round 2 received 4 results and 0 failures\n",
            "100%|██████████| 47/47 [00:01<00:00, 35.29it/s]\n",
            "INFO flwr 2023-02-22 02:11:56,076 | server.py:209 | fit progress: (2, 187.90929698944092, {'accuracy': 0.07933333333333334}, 75.56583093399968)\n",
            "INFO:flwr:fit progress: (2, 187.90929698944092, {'accuracy': 0.07933333333333334}, 75.56583093399968)\n",
            "INFO flwr 2023-02-22 02:11:56,079 | server.py:256 | evaluate_round 2: no clients selected, cancel\n",
            "INFO:flwr:evaluate_round 2: no clients selected, cancel\n",
            "INFO flwr 2023-02-22 02:11:56,092 | client_manager.py:49 | Sampling using None\n",
            "INFO:flwr:Sampling using None\n",
            "DEBUG flwr 2023-02-22 02:11:56,099 | server.py:308 | fit_round 3: strategy sampled 4 clients (out of 3224)\n",
            "DEBUG:flwr:fit_round 3: strategy sampled 4 clients (out of 3224)\n"
          ]
        },
        {
          "name": "stdout",
          "output_type": "stream",
          "text": [
            "Sampled the following clients:  ['2215', '1477', '3146', '993']\n"
          ]
        },
        {
          "name": "stderr",
          "output_type": "stream",
          "text": [
            "DEBUG flwr 2023-02-22 02:12:36,502 | server.py:322 | fit_round 3 received 4 results and 0 failures\n",
            "DEBUG:flwr:fit_round 3 received 4 results and 0 failures\n",
            "100%|██████████| 47/47 [00:01<00:00, 34.39it/s]\n",
            "INFO flwr 2023-02-22 02:12:37,965 | server.py:209 | fit progress: (3, 179.8387167453766, {'accuracy': 0.07933333333333334}, 117.45410803400046)\n",
            "INFO:flwr:fit progress: (3, 179.8387167453766, {'accuracy': 0.07933333333333334}, 117.45410803400046)\n",
            "INFO flwr 2023-02-22 02:12:37,971 | server.py:256 | evaluate_round 3: no clients selected, cancel\n",
            "INFO:flwr:evaluate_round 3: no clients selected, cancel\n",
            "INFO flwr 2023-02-22 02:12:37,995 | client_manager.py:49 | Sampling using None\n",
            "INFO:flwr:Sampling using None\n",
            "DEBUG flwr 2023-02-22 02:12:38,005 | server.py:308 | fit_round 4: strategy sampled 4 clients (out of 3224)\n",
            "DEBUG:flwr:fit_round 4: strategy sampled 4 clients (out of 3224)\n"
          ]
        },
        {
          "name": "stdout",
          "output_type": "stream",
          "text": [
            "Sampled the following clients:  ['2955', '1583', '580', '779']\n"
          ]
        },
        {
          "name": "stderr",
          "output_type": "stream",
          "text": [
            "DEBUG flwr 2023-02-22 02:13:18,443 | server.py:322 | fit_round 4 received 4 results and 0 failures\n",
            "DEBUG:flwr:fit_round 4 received 4 results and 0 failures\n",
            "100%|██████████| 47/47 [00:01<00:00, 36.72it/s]\n",
            "INFO flwr 2023-02-22 02:13:19,826 | server.py:209 | fit progress: (4, 173.82172012329102, {'accuracy': 0.07933333333333334}, 159.3153277020001)\n",
            "INFO:flwr:fit progress: (4, 173.82172012329102, {'accuracy': 0.07933333333333334}, 159.3153277020001)\n",
            "INFO flwr 2023-02-22 02:13:19,829 | server.py:256 | evaluate_round 4: no clients selected, cancel\n",
            "INFO:flwr:evaluate_round 4: no clients selected, cancel\n",
            "INFO flwr 2023-02-22 02:13:19,859 | client_manager.py:49 | Sampling using None\n",
            "INFO:flwr:Sampling using None\n",
            "DEBUG flwr 2023-02-22 02:13:19,866 | server.py:308 | fit_round 5: strategy sampled 4 clients (out of 3224)\n",
            "DEBUG:flwr:fit_round 5: strategy sampled 4 clients (out of 3224)\n"
          ]
        },
        {
          "name": "stdout",
          "output_type": "stream",
          "text": [
            "Sampled the following clients:  ['1656', '1717', '1348', '261']\n"
          ]
        },
        {
          "name": "stderr",
          "output_type": "stream",
          "text": [
            "DEBUG flwr 2023-02-22 02:14:09,190 | server.py:322 | fit_round 5 received 4 results and 0 failures\n",
            "DEBUG:flwr:fit_round 5 received 4 results and 0 failures\n",
            "100%|██████████| 47/47 [00:01<00:00, 24.69it/s]\n",
            "INFO flwr 2023-02-22 02:14:11,181 | server.py:209 | fit progress: (5, 166.8597846031189, {'accuracy': 0.07933333333333334}, 210.67103201999998)\n",
            "INFO:flwr:fit progress: (5, 166.8597846031189, {'accuracy': 0.07933333333333334}, 210.67103201999998)\n",
            "INFO flwr 2023-02-22 02:14:11,185 | server.py:256 | evaluate_round 5: no clients selected, cancel\n",
            "INFO:flwr:evaluate_round 5: no clients selected, cancel\n",
            "INFO flwr 2023-02-22 02:14:11,234 | client_manager.py:49 | Sampling using None\n",
            "INFO:flwr:Sampling using None\n",
            "DEBUG flwr 2023-02-22 02:14:11,244 | server.py:308 | fit_round 6: strategy sampled 4 clients (out of 3224)\n",
            "DEBUG:flwr:fit_round 6: strategy sampled 4 clients (out of 3224)\n"
          ]
        },
        {
          "name": "stdout",
          "output_type": "stream",
          "text": [
            "Sampled the following clients:  ['346', '2627', '2817', '1058']\n"
          ]
        },
        {
          "name": "stderr",
          "output_type": "stream",
          "text": [
            "DEBUG flwr 2023-02-22 02:14:51,699 | server.py:322 | fit_round 6 received 4 results and 0 failures\n",
            "DEBUG:flwr:fit_round 6 received 4 results and 0 failures\n",
            "100%|██████████| 47/47 [00:00<00:00, 63.78it/s]\n",
            "INFO flwr 2023-02-22 02:14:52,497 | server.py:209 | fit progress: (6, 164.90532779693604, {'accuracy': 0.07933333333333334}, 251.98645897700044)\n",
            "INFO:flwr:fit progress: (6, 164.90532779693604, {'accuracy': 0.07933333333333334}, 251.98645897700044)\n",
            "INFO flwr 2023-02-22 02:14:52,503 | server.py:256 | evaluate_round 6: no clients selected, cancel\n",
            "INFO:flwr:evaluate_round 6: no clients selected, cancel\n",
            "INFO flwr 2023-02-22 02:14:52,529 | client_manager.py:49 | Sampling using None\n",
            "INFO:flwr:Sampling using None\n",
            "DEBUG flwr 2023-02-22 02:14:52,533 | server.py:308 | fit_round 7: strategy sampled 4 clients (out of 3224)\n",
            "DEBUG:flwr:fit_round 7: strategy sampled 4 clients (out of 3224)\n"
          ]
        },
        {
          "name": "stdout",
          "output_type": "stream",
          "text": [
            "Sampled the following clients:  ['2251', '159', '3062', '2996']\n"
          ]
        },
        {
          "name": "stderr",
          "output_type": "stream",
          "text": [
            "DEBUG flwr 2023-02-22 02:15:42,065 | server.py:322 | fit_round 7 received 4 results and 0 failures\n",
            "DEBUG:flwr:fit_round 7 received 4 results and 0 failures\n",
            "100%|██████████| 47/47 [00:00<00:00, 56.93it/s]\n",
            "INFO flwr 2023-02-22 02:15:42,950 | server.py:209 | fit progress: (7, 159.9423644542694, {'accuracy': 0.07933333333333334}, 302.4399184690001)\n",
            "INFO:flwr:fit progress: (7, 159.9423644542694, {'accuracy': 0.07933333333333334}, 302.4399184690001)\n",
            "INFO flwr 2023-02-22 02:15:42,955 | server.py:256 | evaluate_round 7: no clients selected, cancel\n",
            "INFO:flwr:evaluate_round 7: no clients selected, cancel\n",
            "INFO flwr 2023-02-22 02:15:42,977 | client_manager.py:49 | Sampling using None\n",
            "INFO:flwr:Sampling using None\n",
            "DEBUG flwr 2023-02-22 02:15:42,982 | server.py:308 | fit_round 8: strategy sampled 4 clients (out of 3224)\n",
            "DEBUG:flwr:fit_round 8: strategy sampled 4 clients (out of 3224)\n"
          ]
        },
        {
          "name": "stdout",
          "output_type": "stream",
          "text": [
            "Sampled the following clients:  ['2411', '528', '943', '725']\n"
          ]
        },
        {
          "name": "stderr",
          "output_type": "stream",
          "text": [
            "DEBUG flwr 2023-02-22 02:16:29,039 | server.py:322 | fit_round 8 received 4 results and 0 failures\n",
            "DEBUG:flwr:fit_round 8 received 4 results and 0 failures\n",
            "100%|██████████| 47/47 [00:01<00:00, 34.46it/s]\n",
            "INFO flwr 2023-02-22 02:16:30,519 | server.py:209 | fit progress: (8, 158.64968371391296, {'accuracy': 0.13266666666666665}, 350.00817531400025)\n",
            "INFO:flwr:fit progress: (8, 158.64968371391296, {'accuracy': 0.13266666666666665}, 350.00817531400025)\n",
            "INFO flwr 2023-02-22 02:16:30,522 | server.py:256 | evaluate_round 8: no clients selected, cancel\n",
            "INFO:flwr:evaluate_round 8: no clients selected, cancel\n",
            "INFO flwr 2023-02-22 02:16:30,563 | client_manager.py:49 | Sampling using None\n",
            "INFO:flwr:Sampling using None\n",
            "DEBUG flwr 2023-02-22 02:16:30,569 | server.py:308 | fit_round 9: strategy sampled 4 clients (out of 3224)\n",
            "DEBUG:flwr:fit_round 9: strategy sampled 4 clients (out of 3224)\n"
          ]
        },
        {
          "name": "stdout",
          "output_type": "stream",
          "text": [
            "Sampled the following clients:  ['1850', '249', '2079', '1864']\n"
          ]
        },
        {
          "name": "stderr",
          "output_type": "stream",
          "text": [
            "DEBUG flwr 2023-02-22 02:17:05,712 | server.py:322 | fit_round 9 received 4 results and 0 failures\n",
            "DEBUG:flwr:fit_round 9 received 4 results and 0 failures\n",
            "100%|██████████| 47/47 [00:00<00:00, 62.03it/s]\n",
            "INFO flwr 2023-02-22 02:17:06,526 | server.py:209 | fit progress: (9, 147.2970986366272, {'accuracy': 0.276}, 386.0158214109997)\n",
            "INFO:flwr:fit progress: (9, 147.2970986366272, {'accuracy': 0.276}, 386.0158214109997)\n",
            "INFO flwr 2023-02-22 02:17:06,530 | server.py:256 | evaluate_round 9: no clients selected, cancel\n",
            "INFO:flwr:evaluate_round 9: no clients selected, cancel\n",
            "INFO flwr 2023-02-22 02:17:06,554 | client_manager.py:49 | Sampling using None\n",
            "INFO:flwr:Sampling using None\n",
            "DEBUG flwr 2023-02-22 02:17:06,557 | server.py:308 | fit_round 10: strategy sampled 4 clients (out of 3224)\n",
            "DEBUG:flwr:fit_round 10: strategy sampled 4 clients (out of 3224)\n"
          ]
        },
        {
          "name": "stdout",
          "output_type": "stream",
          "text": [
            "Sampled the following clients:  ['2777', '82', '2583', '2652']\n"
          ]
        },
        {
          "name": "stderr",
          "output_type": "stream",
          "text": [
            "DEBUG flwr 2023-02-22 02:17:45,755 | server.py:322 | fit_round 10 received 4 results and 0 failures\n",
            "DEBUG:flwr:fit_round 10 received 4 results and 0 failures\n",
            "100%|██████████| 47/47 [00:01<00:00, 32.32it/s]\n",
            "INFO flwr 2023-02-22 02:17:47,298 | server.py:209 | fit progress: (10, 131.73117876052856, {'accuracy': 0.334}, 426.78804121600024)\n",
            "INFO:flwr:fit progress: (10, 131.73117876052856, {'accuracy': 0.334}, 426.78804121600024)\n",
            "INFO flwr 2023-02-22 02:17:47,301 | server.py:256 | evaluate_round 10: no clients selected, cancel\n",
            "INFO:flwr:evaluate_round 10: no clients selected, cancel\n",
            "INFO flwr 2023-02-22 02:17:47,306 | server.py:237 | FL finished in 426.7951894600001\n",
            "INFO:flwr:FL finished in 426.7951894600001\n",
            "INFO flwr 2023-02-22 02:17:47,309 | app.py:202 | app_fit: losses_distributed []\n",
            "INFO:flwr:app_fit: losses_distributed []\n",
            "INFO flwr 2023-02-22 02:17:47,313 | app.py:203 | app_fit: metrics_distributed {'Placeholder, see fit and eval metrics distributed results in hist object': [1, 1]}\n",
            "INFO:flwr:app_fit: metrics_distributed {'Placeholder, see fit and eval metrics distributed results in hist object': [1, 1]}\n",
            "INFO flwr 2023-02-22 02:17:47,316 | app.py:204 | app_fit: losses_centralized [(0, 194.37576723098755), (1, 191.28467798233032), (2, 187.90929698944092), (3, 179.8387167453766), (4, 173.82172012329102), (5, 166.8597846031189), (6, 164.90532779693604), (7, 159.9423644542694), (8, 158.64968371391296), (9, 147.2970986366272), (10, 131.73117876052856)]\n",
            "INFO:flwr:app_fit: losses_centralized [(0, 194.37576723098755), (1, 191.28467798233032), (2, 187.90929698944092), (3, 179.8387167453766), (4, 173.82172012329102), (5, 166.8597846031189), (6, 164.90532779693604), (7, 159.9423644542694), (8, 158.64968371391296), (9, 147.2970986366272), (10, 131.73117876052856)]\n",
            "INFO flwr 2023-02-22 02:17:47,319 | app.py:205 | app_fit: metrics_centralized {'accuracy': [(0, 0.004), (1, 0.07933333333333334), (2, 0.07933333333333334), (3, 0.07933333333333334), (4, 0.07933333333333334), (5, 0.07933333333333334), (6, 0.07933333333333334), (7, 0.07933333333333334), (8, 0.13266666666666665), (9, 0.276), (10, 0.334)]}\n",
            "INFO:flwr:app_fit: metrics_centralized {'accuracy': [(0, 0.004), (1, 0.07933333333333334), (2, 0.07933333333333334), (3, 0.07933333333333334), (4, 0.07933333333333334), (5, 0.07933333333333334), (6, 0.07933333333333334), (7, 0.07933333333333334), (8, 0.13266666666666665), (9, 0.276), (10, 0.334)]}\n"
          ]
        }
      ],
      "source": [
        "hist_adaptive_quantile_0_5 = run_DP_adaptive_fl(clip_norm_target_quantile=0.5, noise_multiplier=0)"
      ]
    },
    {
      "cell_type": "markdown",
      "metadata": {
        "id": "UxBjz9Ibp0u4"
      },
      "source": [
        "Having gone through this slight detour to understand how we could obtain an adaptive bound which leaves the privacy budget mostly undisturbed without experimentation, we shall return to DP's primary goal, matching a given theoretical bound on privacy. However, Part III and MPHil students will now get to play around and observe the behaviour of this adaptive norm algorithm."
      ]
    },
    {
      "cell_type": "markdown",
      "metadata": {
        "id": "6NUMToSfJMIB"
      },
      "source": [
        "**Question 5 (Part III/MPhil ✅):**\n",
        "\n",
        "(You need to provide the answer with **code** and **plots** for this question. A short written argumentation is recommended.)\n",
        "\n",
        "You will now examine the accuracy of adaptive norm clipping compared to the previously fixed norm clipping.\n",
        "\n",
        "1. Using values of `clip_norm_target_quantile`$\\in \\{0.25,\\, 0.5, \\,0.75\\}$ (you should already have results for the default value from the cells above. If you have lost it, look into the `histories` folder). Run `DPFedAvgAdaptive` experiments with the same parameters as the above example using a `noise_multiplier=0`. \n",
        "2. Plot the per-round accuracy on the federated test set of models trained using the three quantile targets above. Which quantile target converges the fastest and to the highest final accuracy, and why do you think that is? Are the results as conclusive as the fixed bound ones? **Hint**: consider the exponential nature of the bound adaptation.\n",
        "3. Do an ordered pairwise comparison between the plots of per-round accuracy of the previous three `clip_norm` results for the fixed norm experiments against the adaptive norm experiments. I.e., plot `clip_norm=mean*0.5` against `clip_norm_target_quantile=0.25`, `clip_norm=mean` against `clip_norm_target_quantile=0.5`, and `clip_norm=mean` against `clip_norm_target_quantile=0.75`. How does each of the pairs compare? Where are the differences most pronounced, and why do you think that is?"
      ]
    },
    {
      "cell_type": "markdown",
      "metadata": {
        "id": "oZyq_i2avvLi"
      },
      "source": [
        "**Question 5 Code**"
      ]
    },
    {
      "cell_type": "code",
      "execution_count": null,
      "metadata": {
        "id": "YUhuZBgeV-3D"
      },
      "outputs": [],
      "source": [
        "quantiles =[0.25, 0.5, 0.75]"
      ]
    },
    {
      "cell_type": "code",
      "execution_count": null,
      "metadata": {
        "colab": {
          "base_uri": "https://localhost:8080/"
        },
        "id": "rc6WkHaqvusP",
        "outputId": "3d05ccc9-948f-4abb-d5f3-260c2b0592bd"
      },
      "outputs": [
        {
          "name": "stderr",
          "output_type": "stream",
          "text": [
            "WARNING flwr 2023-02-22 01:46:37,363 | app.py:187 | Both server and strategy were provided, ignoring strategy\n",
            "WARNING:flwr:Both server and strategy were provided, ignoring strategy\n",
            "INFO flwr 2023-02-22 01:46:37,442 | app.py:145 | Starting Flower simulation, config: ServerConfig(num_rounds=10, round_timeout=None)\n",
            "INFO:flwr:Starting Flower simulation, config: ServerConfig(num_rounds=10, round_timeout=None)\n",
            "2023-02-22 01:46:41,017\tINFO worker.py:1529 -- Started a local Ray instance. View the dashboard at \u001b[1m\u001b[32mhttp://127.0.0.1:8265 \u001b[39m\u001b[22m\n",
            "INFO flwr 2023-02-22 01:46:42,531 | app.py:179 | Flower VCE: Ray initialized with resources: {'CPU': 2.0, 'GPU': 1.0, 'object_store_memory': 3993295257.0, 'node:172.28.0.12': 1.0, 'memory': 7986590516.0}\n",
            "INFO:flwr:Flower VCE: Ray initialized with resources: {'CPU': 2.0, 'GPU': 1.0, 'object_store_memory': 3993295257.0, 'node:172.28.0.12': 1.0, 'memory': 7986590516.0}\n",
            "INFO flwr 2023-02-22 01:46:42,570 | server.py:176 | Initializing global parameters\n",
            "INFO:flwr:Initializing global parameters\n",
            "INFO flwr 2023-02-22 01:46:42,583 | server.py:359 | Using initial parameters provided by strategy\n",
            "INFO:flwr:Using initial parameters provided by strategy\n",
            "INFO flwr 2023-02-22 01:46:42,590 | server.py:178 | Evaluating initial parameters\n",
            "INFO:flwr:Evaluating initial parameters\n",
            "100%|██████████| 47/47 [00:00<00:00, 52.21it/s]\n",
            "INFO flwr 2023-02-22 01:46:43,527 | server.py:181 | initial parameters (loss, other metrics): 194.37576723098755, {'accuracy': 0.004}\n",
            "INFO:flwr:initial parameters (loss, other metrics): 194.37576723098755, {'accuracy': 0.004}\n",
            "INFO flwr 2023-02-22 01:46:43,534 | server.py:191 | FL starting\n",
            "INFO:flwr:FL starting\n",
            "INFO flwr 2023-02-22 01:46:43,540 | client_manager.py:49 | Sampling using None\n",
            "INFO:flwr:Sampling using None\n",
            "DEBUG flwr 2023-02-22 01:46:43,543 | server.py:308 | fit_round 1: strategy sampled 4 clients (out of 3224)\n",
            "DEBUG:flwr:fit_round 1: strategy sampled 4 clients (out of 3224)\n"
          ]
        },
        {
          "name": "stdout",
          "output_type": "stream",
          "text": [
            "Sampled the following clients:  ['1101', '2904', '2613', '3179']\n"
          ]
        },
        {
          "name": "stderr",
          "output_type": "stream",
          "text": [
            "DEBUG flwr 2023-02-22 01:47:23,518 | server.py:322 | fit_round 1 received 4 results and 0 failures\n",
            "DEBUG:flwr:fit_round 1 received 4 results and 0 failures\n",
            "100%|██████████| 47/47 [00:01<00:00, 35.40it/s]\n",
            "INFO flwr 2023-02-22 01:47:24,935 | server.py:209 | fit progress: (1, 191.28468322753906, {'accuracy': 0.07933333333333334}, 41.39803795099988)\n",
            "INFO:flwr:fit progress: (1, 191.28468322753906, {'accuracy': 0.07933333333333334}, 41.39803795099988)\n",
            "INFO flwr 2023-02-22 01:47:24,940 | server.py:256 | evaluate_round 1: no clients selected, cancel\n",
            "INFO:flwr:evaluate_round 1: no clients selected, cancel\n",
            "INFO flwr 2023-02-22 01:47:24,950 | client_manager.py:49 | Sampling using None\n",
            "INFO:flwr:Sampling using None\n",
            "DEBUG flwr 2023-02-22 01:47:24,961 | server.py:308 | fit_round 2: strategy sampled 4 clients (out of 3224)\n",
            "DEBUG:flwr:fit_round 2: strategy sampled 4 clients (out of 3224)\n"
          ]
        },
        {
          "name": "stdout",
          "output_type": "stream",
          "text": [
            "Sampled the following clients:  ['1418', '27', '1758', '410']\n"
          ]
        },
        {
          "name": "stderr",
          "output_type": "stream",
          "text": [
            "DEBUG flwr 2023-02-22 01:48:08,725 | server.py:322 | fit_round 2 received 4 results and 0 failures\n",
            "DEBUG:flwr:fit_round 2 received 4 results and 0 failures\n",
            "100%|██████████| 47/47 [00:00<00:00, 64.43it/s]\n",
            "INFO flwr 2023-02-22 01:48:09,511 | server.py:209 | fit progress: (2, 188.11178541183472, {'accuracy': 0.07933333333333334}, 85.97312742500026)\n",
            "INFO:flwr:fit progress: (2, 188.11178541183472, {'accuracy': 0.07933333333333334}, 85.97312742500026)\n",
            "INFO flwr 2023-02-22 01:48:09,517 | server.py:256 | evaluate_round 2: no clients selected, cancel\n",
            "INFO:flwr:evaluate_round 2: no clients selected, cancel\n",
            "INFO flwr 2023-02-22 01:48:09,527 | client_manager.py:49 | Sampling using None\n",
            "INFO:flwr:Sampling using None\n",
            "DEBUG flwr 2023-02-22 01:48:09,538 | server.py:308 | fit_round 3: strategy sampled 4 clients (out of 3224)\n",
            "DEBUG:flwr:fit_round 3: strategy sampled 4 clients (out of 3224)\n"
          ]
        },
        {
          "name": "stdout",
          "output_type": "stream",
          "text": [
            "Sampled the following clients:  ['2215', '1477', '3146', '993']\n"
          ]
        },
        {
          "name": "stderr",
          "output_type": "stream",
          "text": [
            "DEBUG flwr 2023-02-22 01:48:47,526 | server.py:322 | fit_round 3 received 4 results and 0 failures\n",
            "DEBUG:flwr:fit_round 3 received 4 results and 0 failures\n",
            "100%|██████████| 47/47 [00:01<00:00, 37.14it/s]\n",
            "INFO flwr 2023-02-22 01:48:48,877 | server.py:209 | fit progress: (3, 180.93250131607056, {'accuracy': 0.07933333333333334}, 125.33975486100007)\n",
            "INFO:flwr:fit progress: (3, 180.93250131607056, {'accuracy': 0.07933333333333334}, 125.33975486100007)\n",
            "INFO flwr 2023-02-22 01:48:48,880 | server.py:256 | evaluate_round 3: no clients selected, cancel\n",
            "INFO:flwr:evaluate_round 3: no clients selected, cancel\n",
            "INFO flwr 2023-02-22 01:48:48,909 | client_manager.py:49 | Sampling using None\n",
            "INFO:flwr:Sampling using None\n",
            "DEBUG flwr 2023-02-22 01:48:48,918 | server.py:308 | fit_round 4: strategy sampled 4 clients (out of 3224)\n",
            "DEBUG:flwr:fit_round 4: strategy sampled 4 clients (out of 3224)\n"
          ]
        },
        {
          "name": "stdout",
          "output_type": "stream",
          "text": [
            "Sampled the following clients:  ['2955', '1583', '580', '779']\n"
          ]
        },
        {
          "name": "stderr",
          "output_type": "stream",
          "text": [
            "DEBUG flwr 2023-02-22 01:49:27,414 | server.py:322 | fit_round 4 received 4 results and 0 failures\n",
            "DEBUG:flwr:fit_round 4 received 4 results and 0 failures\n",
            "100%|██████████| 47/47 [00:00<00:00, 62.26it/s]\n",
            "INFO flwr 2023-02-22 01:49:28,222 | server.py:209 | fit progress: (4, 175.71612668037415, {'accuracy': 0.07933333333333334}, 164.6845916729999)\n",
            "INFO:flwr:fit progress: (4, 175.71612668037415, {'accuracy': 0.07933333333333334}, 164.6845916729999)\n",
            "INFO flwr 2023-02-22 01:49:28,228 | server.py:256 | evaluate_round 4: no clients selected, cancel\n",
            "INFO:flwr:evaluate_round 4: no clients selected, cancel\n",
            "INFO flwr 2023-02-22 01:49:28,239 | client_manager.py:49 | Sampling using None\n",
            "INFO:flwr:Sampling using None\n",
            "DEBUG flwr 2023-02-22 01:49:28,248 | server.py:308 | fit_round 5: strategy sampled 4 clients (out of 3224)\n",
            "DEBUG:flwr:fit_round 5: strategy sampled 4 clients (out of 3224)\n"
          ]
        },
        {
          "name": "stdout",
          "output_type": "stream",
          "text": [
            "Sampled the following clients:  ['1656', '1717', '1348', '261']\n"
          ]
        },
        {
          "name": "stderr",
          "output_type": "stream",
          "text": [
            "DEBUG flwr 2023-02-22 01:50:05,254 | server.py:322 | fit_round 5 received 4 results and 0 failures\n",
            "DEBUG:flwr:fit_round 5 received 4 results and 0 failures\n",
            "100%|██████████| 47/47 [00:01<00:00, 35.02it/s]\n",
            "INFO flwr 2023-02-22 01:50:06,684 | server.py:209 | fit progress: (5, 169.42787885665894, {'accuracy': 0.07933333333333334}, 203.14621983400002)\n",
            "INFO:flwr:fit progress: (5, 169.42787885665894, {'accuracy': 0.07933333333333334}, 203.14621983400002)\n",
            "INFO flwr 2023-02-22 01:50:06,692 | server.py:256 | evaluate_round 5: no clients selected, cancel\n",
            "INFO:flwr:evaluate_round 5: no clients selected, cancel\n",
            "INFO flwr 2023-02-22 01:50:06,721 | client_manager.py:49 | Sampling using None\n",
            "INFO:flwr:Sampling using None\n",
            "DEBUG flwr 2023-02-22 01:50:06,736 | server.py:308 | fit_round 6: strategy sampled 4 clients (out of 3224)\n",
            "DEBUG:flwr:fit_round 6: strategy sampled 4 clients (out of 3224)\n"
          ]
        },
        {
          "name": "stdout",
          "output_type": "stream",
          "text": [
            "Sampled the following clients:  ['346', '2627', '2817', '1058']\n"
          ]
        },
        {
          "name": "stderr",
          "output_type": "stream",
          "text": [
            "DEBUG flwr 2023-02-22 01:50:49,087 | server.py:322 | fit_round 6 received 4 results and 0 failures\n",
            "DEBUG:flwr:fit_round 6 received 4 results and 0 failures\n",
            "100%|██████████| 47/47 [00:00<00:00, 61.15it/s]\n",
            "INFO flwr 2023-02-22 01:50:49,926 | server.py:209 | fit progress: (6, 167.52285361289978, {'accuracy': 0.07933333333333334}, 246.38899702400022)\n",
            "INFO:flwr:fit progress: (6, 167.52285361289978, {'accuracy': 0.07933333333333334}, 246.38899702400022)\n",
            "INFO flwr 2023-02-22 01:50:49,931 | server.py:256 | evaluate_round 6: no clients selected, cancel\n",
            "INFO:flwr:evaluate_round 6: no clients selected, cancel\n",
            "INFO flwr 2023-02-22 01:50:49,955 | client_manager.py:49 | Sampling using None\n",
            "INFO:flwr:Sampling using None\n",
            "DEBUG flwr 2023-02-22 01:50:49,960 | server.py:308 | fit_round 7: strategy sampled 4 clients (out of 3224)\n",
            "DEBUG:flwr:fit_round 7: strategy sampled 4 clients (out of 3224)\n"
          ]
        },
        {
          "name": "stdout",
          "output_type": "stream",
          "text": [
            "Sampled the following clients:  ['2251', '159', '3062', '2996']\n"
          ]
        },
        {
          "name": "stderr",
          "output_type": "stream",
          "text": [
            "DEBUG flwr 2023-02-22 01:51:41,705 | server.py:322 | fit_round 7 received 4 results and 0 failures\n",
            "DEBUG:flwr:fit_round 7 received 4 results and 0 failures\n",
            "100%|██████████| 47/47 [00:01<00:00, 34.46it/s]\n",
            "INFO flwr 2023-02-22 01:51:43,133 | server.py:209 | fit progress: (7, 161.75937581062317, {'accuracy': 0.08}, 299.59515784899986)\n",
            "INFO:flwr:fit progress: (7, 161.75937581062317, {'accuracy': 0.08}, 299.59515784899986)\n",
            "INFO flwr 2023-02-22 01:51:43,143 | server.py:256 | evaluate_round 7: no clients selected, cancel\n",
            "INFO:flwr:evaluate_round 7: no clients selected, cancel\n",
            "INFO flwr 2023-02-22 01:51:43,195 | client_manager.py:49 | Sampling using None\n",
            "INFO:flwr:Sampling using None\n",
            "DEBUG flwr 2023-02-22 01:51:43,199 | server.py:308 | fit_round 8: strategy sampled 4 clients (out of 3224)\n",
            "DEBUG:flwr:fit_round 8: strategy sampled 4 clients (out of 3224)\n"
          ]
        },
        {
          "name": "stdout",
          "output_type": "stream",
          "text": [
            "Sampled the following clients:  ['2411', '528', '943', '725']\n"
          ]
        },
        {
          "name": "stderr",
          "output_type": "stream",
          "text": [
            "DEBUG flwr 2023-02-22 01:52:25,858 | server.py:322 | fit_round 8 received 4 results and 0 failures\n",
            "DEBUG:flwr:fit_round 8 received 4 results and 0 failures\n",
            "100%|██████████| 47/47 [00:01<00:00, 35.06it/s]\n",
            "INFO flwr 2023-02-22 01:52:27,287 | server.py:209 | fit progress: (8, 160.32855796813965, {'accuracy': 0.10133333333333333}, 343.7497887700001)\n",
            "INFO:flwr:fit progress: (8, 160.32855796813965, {'accuracy': 0.10133333333333333}, 343.7497887700001)\n",
            "INFO flwr 2023-02-22 01:52:27,290 | server.py:256 | evaluate_round 8: no clients selected, cancel\n",
            "INFO:flwr:evaluate_round 8: no clients selected, cancel\n",
            "INFO flwr 2023-02-22 01:52:27,334 | client_manager.py:49 | Sampling using None\n",
            "INFO:flwr:Sampling using None\n",
            "DEBUG flwr 2023-02-22 01:52:27,341 | server.py:308 | fit_round 9: strategy sampled 4 clients (out of 3224)\n",
            "DEBUG:flwr:fit_round 9: strategy sampled 4 clients (out of 3224)\n"
          ]
        },
        {
          "name": "stdout",
          "output_type": "stream",
          "text": [
            "Sampled the following clients:  ['1850', '249', '2079', '1864']\n"
          ]
        },
        {
          "name": "stderr",
          "output_type": "stream",
          "text": [
            "DEBUG flwr 2023-02-22 01:53:08,287 | server.py:322 | fit_round 9 received 4 results and 0 failures\n",
            "DEBUG:flwr:fit_round 9 received 4 results and 0 failures\n",
            "100%|██████████| 47/47 [00:01<00:00, 33.46it/s]\n",
            "INFO flwr 2023-02-22 01:53:09,772 | server.py:209 | fit progress: (9, 153.26577615737915, {'accuracy': 0.2}, 386.234822765)\n",
            "INFO:flwr:fit progress: (9, 153.26577615737915, {'accuracy': 0.2}, 386.234822765)\n",
            "INFO flwr 2023-02-22 01:53:09,775 | server.py:256 | evaluate_round 9: no clients selected, cancel\n",
            "INFO:flwr:evaluate_round 9: no clients selected, cancel\n",
            "INFO flwr 2023-02-22 01:53:09,826 | client_manager.py:49 | Sampling using None\n",
            "INFO:flwr:Sampling using None\n",
            "DEBUG flwr 2023-02-22 01:53:09,835 | server.py:308 | fit_round 10: strategy sampled 4 clients (out of 3224)\n",
            "DEBUG:flwr:fit_round 10: strategy sampled 4 clients (out of 3224)\n"
          ]
        },
        {
          "name": "stdout",
          "output_type": "stream",
          "text": [
            "Sampled the following clients:  ['2777', '82', '2583', '2652']\n",
            "\u001b[2m\u001b[1m\u001b[33m(scheduler +47m25s)\u001b[0m Warning: The following resource request cannot be scheduled right now: {'CPU': 1.0, 'GPU': 0.5}. This is likely due to all cluster resources being claimed by actors. Consider creating fewer actors or adding more nodes to this Ray cluster.\n"
          ]
        },
        {
          "name": "stderr",
          "output_type": "stream",
          "text": [
            "DEBUG flwr 2023-02-22 01:53:49,572 | server.py:322 | fit_round 10 received 4 results and 0 failures\n",
            "DEBUG:flwr:fit_round 10 received 4 results and 0 failures\n",
            "100%|██████████| 47/47 [00:00<00:00, 63.40it/s]\n",
            "INFO flwr 2023-02-22 01:53:50,368 | server.py:209 | fit progress: (10, 144.9812891483307, {'accuracy': 0.248}, 426.83040600899994)\n",
            "INFO:flwr:fit progress: (10, 144.9812891483307, {'accuracy': 0.248}, 426.83040600899994)\n",
            "INFO flwr 2023-02-22 01:53:50,377 | server.py:256 | evaluate_round 10: no clients selected, cancel\n",
            "INFO:flwr:evaluate_round 10: no clients selected, cancel\n",
            "INFO flwr 2023-02-22 01:53:50,384 | server.py:237 | FL finished in 426.84643574500024\n",
            "INFO:flwr:FL finished in 426.84643574500024\n",
            "INFO flwr 2023-02-22 01:53:50,386 | app.py:202 | app_fit: losses_distributed []\n",
            "INFO:flwr:app_fit: losses_distributed []\n",
            "INFO flwr 2023-02-22 01:53:50,392 | app.py:203 | app_fit: metrics_distributed {'Placeholder, see fit and eval metrics distributed results in hist object': [1, 1]}\n",
            "INFO:flwr:app_fit: metrics_distributed {'Placeholder, see fit and eval metrics distributed results in hist object': [1, 1]}\n",
            "INFO flwr 2023-02-22 01:53:50,394 | app.py:204 | app_fit: losses_centralized [(0, 194.37576723098755), (1, 191.28468322753906), (2, 188.11178541183472), (3, 180.93250131607056), (4, 175.71612668037415), (5, 169.42787885665894), (6, 167.52285361289978), (7, 161.75937581062317), (8, 160.32855796813965), (9, 153.26577615737915), (10, 144.9812891483307)]\n",
            "INFO:flwr:app_fit: losses_centralized [(0, 194.37576723098755), (1, 191.28468322753906), (2, 188.11178541183472), (3, 180.93250131607056), (4, 175.71612668037415), (5, 169.42787885665894), (6, 167.52285361289978), (7, 161.75937581062317), (8, 160.32855796813965), (9, 153.26577615737915), (10, 144.9812891483307)]\n",
            "INFO flwr 2023-02-22 01:53:50,397 | app.py:205 | app_fit: metrics_centralized {'accuracy': [(0, 0.004), (1, 0.07933333333333334), (2, 0.07933333333333334), (3, 0.07933333333333334), (4, 0.07933333333333334), (5, 0.07933333333333334), (6, 0.07933333333333334), (7, 0.08), (8, 0.10133333333333333), (9, 0.2), (10, 0.248)]}\n",
            "INFO:flwr:app_fit: metrics_centralized {'accuracy': [(0, 0.004), (1, 0.07933333333333334), (2, 0.07933333333333334), (3, 0.07933333333333334), (4, 0.07933333333333334), (5, 0.07933333333333334), (6, 0.07933333333333334), (7, 0.08), (8, 0.10133333333333333), (9, 0.2), (10, 0.248)]}\n",
            "WARNING flwr 2023-02-22 01:53:52,801 | app.py:187 | Both server and strategy were provided, ignoring strategy\n",
            "WARNING:flwr:Both server and strategy were provided, ignoring strategy\n",
            "INFO flwr 2023-02-22 01:53:52,874 | app.py:145 | Starting Flower simulation, config: ServerConfig(num_rounds=10, round_timeout=None)\n",
            "INFO:flwr:Starting Flower simulation, config: ServerConfig(num_rounds=10, round_timeout=None)\n"
          ]
        },
        {
          "name": "stdout",
          "output_type": "stream",
          "text": [
            "Quantile  0.25  finished\n"
          ]
        },
        {
          "name": "stderr",
          "output_type": "stream",
          "text": [
            "2023-02-22 01:53:55,742\tINFO worker.py:1529 -- Started a local Ray instance. View the dashboard at \u001b[1m\u001b[32mhttp://127.0.0.1:8265 \u001b[39m\u001b[22m\n",
            "INFO flwr 2023-02-22 01:53:57,248 | app.py:179 | Flower VCE: Ray initialized with resources: {'memory': 7986610176.0, 'CPU': 2.0, 'object_store_memory': 3993305088.0, 'node:172.28.0.12': 1.0, 'GPU': 1.0}\n",
            "INFO:flwr:Flower VCE: Ray initialized with resources: {'memory': 7986610176.0, 'CPU': 2.0, 'object_store_memory': 3993305088.0, 'node:172.28.0.12': 1.0, 'GPU': 1.0}\n",
            "INFO flwr 2023-02-22 01:53:57,477 | server.py:176 | Initializing global parameters\n",
            "INFO:flwr:Initializing global parameters\n",
            "INFO flwr 2023-02-22 01:53:57,486 | server.py:359 | Using initial parameters provided by strategy\n",
            "INFO:flwr:Using initial parameters provided by strategy\n",
            "INFO flwr 2023-02-22 01:53:57,492 | server.py:178 | Evaluating initial parameters\n",
            "INFO:flwr:Evaluating initial parameters\n",
            "100%|██████████| 47/47 [00:00<00:00, 54.64it/s]\n",
            "INFO flwr 2023-02-22 01:53:58,382 | server.py:181 | initial parameters (loss, other metrics): 194.37576723098755, {'accuracy': 0.004}\n",
            "INFO:flwr:initial parameters (loss, other metrics): 194.37576723098755, {'accuracy': 0.004}\n",
            "INFO flwr 2023-02-22 01:53:58,388 | server.py:191 | FL starting\n",
            "INFO:flwr:FL starting\n",
            "INFO flwr 2023-02-22 01:53:58,398 | client_manager.py:49 | Sampling using None\n",
            "INFO:flwr:Sampling using None\n",
            "DEBUG flwr 2023-02-22 01:53:58,407 | server.py:308 | fit_round 1: strategy sampled 4 clients (out of 3224)\n",
            "DEBUG:flwr:fit_round 1: strategy sampled 4 clients (out of 3224)\n"
          ]
        },
        {
          "name": "stdout",
          "output_type": "stream",
          "text": [
            "Sampled the following clients:  ['1101', '2904', '2613', '3179']\n"
          ]
        },
        {
          "name": "stderr",
          "output_type": "stream",
          "text": [
            "DEBUG flwr 2023-02-22 01:54:48,008 | server.py:322 | fit_round 1 received 4 results and 0 failures\n",
            "DEBUG:flwr:fit_round 1 received 4 results and 0 failures\n",
            "100%|██████████| 47/47 [00:00<00:00, 62.29it/s]\n",
            "INFO flwr 2023-02-22 01:54:48,819 | server.py:209 | fit progress: (1, 191.28604984283447, {'accuracy': 0.07933333333333334}, 50.426414831999864)\n",
            "INFO:flwr:fit progress: (1, 191.28604984283447, {'accuracy': 0.07933333333333334}, 50.426414831999864)\n",
            "INFO flwr 2023-02-22 01:54:48,822 | server.py:256 | evaluate_round 1: no clients selected, cancel\n",
            "INFO:flwr:evaluate_round 1: no clients selected, cancel\n",
            "INFO flwr 2023-02-22 01:54:48,831 | client_manager.py:49 | Sampling using None\n",
            "INFO:flwr:Sampling using None\n",
            "DEBUG flwr 2023-02-22 01:54:48,839 | server.py:308 | fit_round 2: strategy sampled 4 clients (out of 3224)\n",
            "DEBUG:flwr:fit_round 2: strategy sampled 4 clients (out of 3224)\n"
          ]
        },
        {
          "name": "stdout",
          "output_type": "stream",
          "text": [
            "Sampled the following clients:  ['1418', '27', '1758', '410']\n"
          ]
        },
        {
          "name": "stderr",
          "output_type": "stream",
          "text": [
            "DEBUG flwr 2023-02-22 01:55:29,655 | server.py:322 | fit_round 2 received 4 results and 0 failures\n",
            "DEBUG:flwr:fit_round 2 received 4 results and 0 failures\n",
            "100%|██████████| 47/47 [00:01<00:00, 38.61it/s]\n",
            "INFO flwr 2023-02-22 01:55:30,956 | server.py:209 | fit progress: (2, 187.89879846572876, {'accuracy': 0.07933333333333334}, 92.56340084099975)\n",
            "INFO:flwr:fit progress: (2, 187.89879846572876, {'accuracy': 0.07933333333333334}, 92.56340084099975)\n",
            "INFO flwr 2023-02-22 01:55:30,961 | server.py:256 | evaluate_round 2: no clients selected, cancel\n",
            "INFO:flwr:evaluate_round 2: no clients selected, cancel\n",
            "INFO flwr 2023-02-22 01:55:30,987 | client_manager.py:49 | Sampling using None\n",
            "INFO:flwr:Sampling using None\n",
            "DEBUG flwr 2023-02-22 01:55:30,993 | server.py:308 | fit_round 3: strategy sampled 4 clients (out of 3224)\n",
            "DEBUG:flwr:fit_round 3: strategy sampled 4 clients (out of 3224)\n"
          ]
        },
        {
          "name": "stdout",
          "output_type": "stream",
          "text": [
            "Sampled the following clients:  ['2215', '1477', '3146', '993']\n"
          ]
        },
        {
          "name": "stderr",
          "output_type": "stream",
          "text": [
            "DEBUG flwr 2023-02-22 01:56:25,915 | server.py:322 | fit_round 3 received 4 results and 0 failures\n",
            "DEBUG:flwr:fit_round 3 received 4 results and 0 failures\n",
            "100%|██████████| 47/47 [00:02<00:00, 21.00it/s]\n",
            "INFO flwr 2023-02-22 01:56:28,254 | server.py:209 | fit progress: (3, 179.68052554130554, {'accuracy': 0.07933333333333334}, 149.86165303899998)\n",
            "INFO:flwr:fit progress: (3, 179.68052554130554, {'accuracy': 0.07933333333333334}, 149.86165303899998)\n",
            "INFO flwr 2023-02-22 01:56:28,275 | server.py:256 | evaluate_round 3: no clients selected, cancel\n",
            "INFO:flwr:evaluate_round 3: no clients selected, cancel\n",
            "INFO flwr 2023-02-22 01:56:28,292 | client_manager.py:49 | Sampling using None\n",
            "INFO:flwr:Sampling using None\n",
            "DEBUG flwr 2023-02-22 01:56:28,305 | server.py:308 | fit_round 4: strategy sampled 4 clients (out of 3224)\n",
            "DEBUG:flwr:fit_round 4: strategy sampled 4 clients (out of 3224)\n"
          ]
        },
        {
          "name": "stdout",
          "output_type": "stream",
          "text": [
            "Sampled the following clients:  ['2955', '1583', '580', '779']\n"
          ]
        },
        {
          "name": "stderr",
          "output_type": "stream",
          "text": [
            "DEBUG flwr 2023-02-22 01:57:07,804 | server.py:322 | fit_round 4 received 4 results and 0 failures\n",
            "DEBUG:flwr:fit_round 4 received 4 results and 0 failures\n",
            "100%|██████████| 47/47 [00:01<00:00, 36.35it/s]\n",
            "INFO flwr 2023-02-22 01:57:09,181 | server.py:209 | fit progress: (4, 174.35028433799744, {'accuracy': 0.07933333333333334}, 190.78913238799987)\n",
            "INFO:flwr:fit progress: (4, 174.35028433799744, {'accuracy': 0.07933333333333334}, 190.78913238799987)\n",
            "INFO flwr 2023-02-22 01:57:09,186 | server.py:256 | evaluate_round 4: no clients selected, cancel\n",
            "INFO:flwr:evaluate_round 4: no clients selected, cancel\n",
            "INFO flwr 2023-02-22 01:57:09,211 | client_manager.py:49 | Sampling using None\n",
            "INFO:flwr:Sampling using None\n",
            "DEBUG flwr 2023-02-22 01:57:09,221 | server.py:308 | fit_round 5: strategy sampled 4 clients (out of 3224)\n",
            "DEBUG:flwr:fit_round 5: strategy sampled 4 clients (out of 3224)\n"
          ]
        },
        {
          "name": "stdout",
          "output_type": "stream",
          "text": [
            "Sampled the following clients:  ['1656', '1717', '1348', '261']\n"
          ]
        },
        {
          "name": "stderr",
          "output_type": "stream",
          "text": [
            "DEBUG flwr 2023-02-22 01:57:51,527 | server.py:322 | fit_round 5 received 4 results and 0 failures\n",
            "DEBUG:flwr:fit_round 5 received 4 results and 0 failures\n",
            "100%|██████████| 47/47 [00:01<00:00, 27.90it/s]\n",
            "INFO flwr 2023-02-22 01:57:53,296 | server.py:209 | fit progress: (5, 167.72321271896362, {'accuracy': 0.07933333333333334}, 234.90400754699976)\n",
            "INFO:flwr:fit progress: (5, 167.72321271896362, {'accuracy': 0.07933333333333334}, 234.90400754699976)\n",
            "INFO flwr 2023-02-22 01:57:53,301 | server.py:256 | evaluate_round 5: no clients selected, cancel\n",
            "INFO:flwr:evaluate_round 5: no clients selected, cancel\n",
            "INFO flwr 2023-02-22 01:57:53,369 | client_manager.py:49 | Sampling using None\n",
            "INFO:flwr:Sampling using None\n",
            "DEBUG flwr 2023-02-22 01:57:53,371 | server.py:308 | fit_round 6: strategy sampled 4 clients (out of 3224)\n",
            "DEBUG:flwr:fit_round 6: strategy sampled 4 clients (out of 3224)\n"
          ]
        },
        {
          "name": "stdout",
          "output_type": "stream",
          "text": [
            "Sampled the following clients:  ['346', '2627', '2817', '1058']\n"
          ]
        },
        {
          "name": "stderr",
          "output_type": "stream",
          "text": [
            "DEBUG flwr 2023-02-22 01:59:05,575 | server.py:322 | fit_round 6 received 4 results and 0 failures\n",
            "DEBUG:flwr:fit_round 6 received 4 results and 0 failures\n",
            "100%|██████████| 47/47 [00:01<00:00, 25.76it/s]\n",
            "INFO flwr 2023-02-22 01:59:07,583 | server.py:209 | fit progress: (6, 167.38146686553955, {'accuracy': 0.07933333333333334}, 309.19032471499986)\n",
            "INFO:flwr:fit progress: (6, 167.38146686553955, {'accuracy': 0.07933333333333334}, 309.19032471499986)\n",
            "INFO flwr 2023-02-22 01:59:07,587 | server.py:256 | evaluate_round 6: no clients selected, cancel\n",
            "INFO:flwr:evaluate_round 6: no clients selected, cancel\n",
            "INFO flwr 2023-02-22 01:59:07,645 | client_manager.py:49 | Sampling using None\n",
            "INFO:flwr:Sampling using None\n",
            "DEBUG flwr 2023-02-22 01:59:07,665 | server.py:308 | fit_round 7: strategy sampled 4 clients (out of 3224)\n",
            "DEBUG:flwr:fit_round 7: strategy sampled 4 clients (out of 3224)\n"
          ]
        },
        {
          "name": "stdout",
          "output_type": "stream",
          "text": [
            "Sampled the following clients:  ['2251', '159', '3062', '2996']\n"
          ]
        },
        {
          "name": "stderr",
          "output_type": "stream",
          "text": [
            "DEBUG flwr 2023-02-22 01:59:52,764 | server.py:322 | fit_round 7 received 4 results and 0 failures\n",
            "DEBUG:flwr:fit_round 7 received 4 results and 0 failures\n",
            "100%|██████████| 47/47 [00:01<00:00, 26.23it/s]\n",
            "INFO flwr 2023-02-22 01:59:54,642 | server.py:209 | fit progress: (7, 160.38966822624207, {'accuracy': 0.07933333333333334}, 356.24937399600003)\n",
            "INFO:flwr:fit progress: (7, 160.38966822624207, {'accuracy': 0.07933333333333334}, 356.24937399600003)\n",
            "INFO flwr 2023-02-22 01:59:54,658 | server.py:256 | evaluate_round 7: no clients selected, cancel\n",
            "INFO:flwr:evaluate_round 7: no clients selected, cancel\n",
            "INFO flwr 2023-02-22 01:59:54,710 | client_manager.py:49 | Sampling using None\n",
            "INFO:flwr:Sampling using None\n",
            "DEBUG flwr 2023-02-22 01:59:54,727 | server.py:308 | fit_round 8: strategy sampled 4 clients (out of 3224)\n",
            "DEBUG:flwr:fit_round 8: strategy sampled 4 clients (out of 3224)\n"
          ]
        },
        {
          "name": "stdout",
          "output_type": "stream",
          "text": [
            "Sampled the following clients:  ['2411', '528', '943', '725']\n",
            "\u001b[2m\u001b[1m\u001b[33m(scheduler +54m9s)\u001b[0m Warning: The following resource request cannot be scheduled right now: {'CPU': 1.0, 'GPU': 0.5}. This is likely due to all cluster resources being claimed by actors. Consider creating fewer actors or adding more nodes to this Ray cluster.\n"
          ]
        },
        {
          "name": "stderr",
          "output_type": "stream",
          "text": [
            "DEBUG flwr 2023-02-22 02:00:41,035 | server.py:322 | fit_round 8 received 4 results and 0 failures\n",
            "DEBUG:flwr:fit_round 8 received 4 results and 0 failures\n",
            "100%|██████████| 47/47 [00:01<00:00, 31.95it/s]\n",
            "INFO flwr 2023-02-22 02:00:42,593 | server.py:209 | fit progress: (8, 158.93465852737427, {'accuracy': 0.10933333333333334}, 404.2009910509996)\n",
            "INFO:flwr:fit progress: (8, 158.93465852737427, {'accuracy': 0.10933333333333334}, 404.2009910509996)\n",
            "INFO flwr 2023-02-22 02:00:42,598 | server.py:256 | evaluate_round 8: no clients selected, cancel\n",
            "INFO:flwr:evaluate_round 8: no clients selected, cancel\n",
            "INFO flwr 2023-02-22 02:00:42,631 | client_manager.py:49 | Sampling using None\n",
            "INFO:flwr:Sampling using None\n",
            "DEBUG flwr 2023-02-22 02:00:42,636 | server.py:308 | fit_round 9: strategy sampled 4 clients (out of 3224)\n",
            "DEBUG:flwr:fit_round 9: strategy sampled 4 clients (out of 3224)\n"
          ]
        },
        {
          "name": "stdout",
          "output_type": "stream",
          "text": [
            "Sampled the following clients:  ['1850', '249', '2079', '1864']\n"
          ]
        },
        {
          "name": "stderr",
          "output_type": "stream",
          "text": [
            "DEBUG flwr 2023-02-22 02:01:31,467 | server.py:322 | fit_round 9 received 4 results and 0 failures\n",
            "DEBUG:flwr:fit_round 9 received 4 results and 0 failures\n",
            "100%|██████████| 47/47 [00:01<00:00, 33.59it/s]\n",
            "INFO flwr 2023-02-22 02:01:32,956 | server.py:209 | fit progress: (9, 150.34578609466553, {'accuracy': 0.22466666666666665}, 454.5639275239996)\n",
            "INFO:flwr:fit progress: (9, 150.34578609466553, {'accuracy': 0.22466666666666665}, 454.5639275239996)\n",
            "INFO flwr 2023-02-22 02:01:32,959 | server.py:256 | evaluate_round 9: no clients selected, cancel\n",
            "INFO:flwr:evaluate_round 9: no clients selected, cancel\n",
            "INFO flwr 2023-02-22 02:01:33,005 | client_manager.py:49 | Sampling using None\n",
            "INFO:flwr:Sampling using None\n",
            "DEBUG flwr 2023-02-22 02:01:33,016 | server.py:308 | fit_round 10: strategy sampled 4 clients (out of 3224)\n",
            "DEBUG:flwr:fit_round 10: strategy sampled 4 clients (out of 3224)\n"
          ]
        },
        {
          "name": "stdout",
          "output_type": "stream",
          "text": [
            "Sampled the following clients:  ['2777', '82', '2583', '2652']\n"
          ]
        },
        {
          "name": "stderr",
          "output_type": "stream",
          "text": [
            "DEBUG flwr 2023-02-22 02:02:35,680 | server.py:322 | fit_round 10 received 4 results and 0 failures\n",
            "DEBUG:flwr:fit_round 10 received 4 results and 0 failures\n",
            "100%|██████████| 47/47 [00:01<00:00, 35.04it/s]\n",
            "INFO flwr 2023-02-22 02:02:37,109 | server.py:209 | fit progress: (10, 133.26612091064453, {'accuracy': 0.32066666666666666}, 518.7165294799997)\n",
            "INFO:flwr:fit progress: (10, 133.26612091064453, {'accuracy': 0.32066666666666666}, 518.7165294799997)\n",
            "INFO flwr 2023-02-22 02:02:37,117 | server.py:256 | evaluate_round 10: no clients selected, cancel\n",
            "INFO:flwr:evaluate_round 10: no clients selected, cancel\n",
            "INFO flwr 2023-02-22 02:02:37,120 | server.py:237 | FL finished in 518.7276605739999\n",
            "INFO:flwr:FL finished in 518.7276605739999\n",
            "INFO flwr 2023-02-22 02:02:37,124 | app.py:202 | app_fit: losses_distributed []\n",
            "INFO:flwr:app_fit: losses_distributed []\n",
            "INFO flwr 2023-02-22 02:02:37,125 | app.py:203 | app_fit: metrics_distributed {'Placeholder, see fit and eval metrics distributed results in hist object': [1, 1]}\n",
            "INFO:flwr:app_fit: metrics_distributed {'Placeholder, see fit and eval metrics distributed results in hist object': [1, 1]}\n",
            "INFO flwr 2023-02-22 02:02:37,128 | app.py:204 | app_fit: losses_centralized [(0, 194.37576723098755), (1, 191.28604984283447), (2, 187.89879846572876), (3, 179.68052554130554), (4, 174.35028433799744), (5, 167.72321271896362), (6, 167.38146686553955), (7, 160.38966822624207), (8, 158.93465852737427), (9, 150.34578609466553), (10, 133.26612091064453)]\n",
            "INFO:flwr:app_fit: losses_centralized [(0, 194.37576723098755), (1, 191.28604984283447), (2, 187.89879846572876), (3, 179.68052554130554), (4, 174.35028433799744), (5, 167.72321271896362), (6, 167.38146686553955), (7, 160.38966822624207), (8, 158.93465852737427), (9, 150.34578609466553), (10, 133.26612091064453)]\n",
            "INFO flwr 2023-02-22 02:02:37,132 | app.py:205 | app_fit: metrics_centralized {'accuracy': [(0, 0.004), (1, 0.07933333333333334), (2, 0.07933333333333334), (3, 0.07933333333333334), (4, 0.07933333333333334), (5, 0.07933333333333334), (6, 0.07933333333333334), (7, 0.07933333333333334), (8, 0.10933333333333334), (9, 0.22466666666666665), (10, 0.32066666666666666)]}\n",
            "INFO:flwr:app_fit: metrics_centralized {'accuracy': [(0, 0.004), (1, 0.07933333333333334), (2, 0.07933333333333334), (3, 0.07933333333333334), (4, 0.07933333333333334), (5, 0.07933333333333334), (6, 0.07933333333333334), (7, 0.07933333333333334), (8, 0.10933333333333334), (9, 0.22466666666666665), (10, 0.32066666666666666)]}\n",
            "WARNING flwr 2023-02-22 02:02:39,961 | app.py:187 | Both server and strategy were provided, ignoring strategy\n",
            "WARNING:flwr:Both server and strategy were provided, ignoring strategy\n",
            "INFO flwr 2023-02-22 02:02:40,100 | app.py:145 | Starting Flower simulation, config: ServerConfig(num_rounds=10, round_timeout=None)\n",
            "INFO:flwr:Starting Flower simulation, config: ServerConfig(num_rounds=10, round_timeout=None)\n"
          ]
        },
        {
          "name": "stdout",
          "output_type": "stream",
          "text": [
            "Quantile  0.5  finished\n"
          ]
        },
        {
          "name": "stderr",
          "output_type": "stream",
          "text": [
            "2023-02-22 02:02:45,555\tINFO worker.py:1529 -- Started a local Ray instance. View the dashboard at \u001b[1m\u001b[32mhttp://127.0.0.1:8265 \u001b[39m\u001b[22m\n",
            "INFO flwr 2023-02-22 02:02:47,046 | app.py:179 | Flower VCE: Ray initialized with resources: {'CPU': 2.0, 'GPU': 1.0, 'object_store_memory': 3992253235.0, 'node:172.28.0.12': 1.0, 'memory': 7984506471.0}\n",
            "INFO:flwr:Flower VCE: Ray initialized with resources: {'CPU': 2.0, 'GPU': 1.0, 'object_store_memory': 3992253235.0, 'node:172.28.0.12': 1.0, 'memory': 7984506471.0}\n",
            "INFO flwr 2023-02-22 02:02:47,073 | server.py:176 | Initializing global parameters\n",
            "INFO:flwr:Initializing global parameters\n",
            "INFO flwr 2023-02-22 02:02:47,083 | server.py:359 | Using initial parameters provided by strategy\n",
            "INFO:flwr:Using initial parameters provided by strategy\n",
            "INFO flwr 2023-02-22 02:02:47,090 | server.py:178 | Evaluating initial parameters\n",
            "INFO:flwr:Evaluating initial parameters\n",
            "100%|██████████| 47/47 [00:00<00:00, 50.74it/s]\n",
            "INFO flwr 2023-02-22 02:02:48,045 | server.py:181 | initial parameters (loss, other metrics): 194.37576723098755, {'accuracy': 0.004}\n",
            "INFO:flwr:initial parameters (loss, other metrics): 194.37576723098755, {'accuracy': 0.004}\n",
            "INFO flwr 2023-02-22 02:02:48,050 | server.py:191 | FL starting\n",
            "INFO:flwr:FL starting\n",
            "INFO flwr 2023-02-22 02:02:48,062 | client_manager.py:49 | Sampling using None\n",
            "INFO:flwr:Sampling using None\n",
            "DEBUG flwr 2023-02-22 02:02:48,067 | server.py:308 | fit_round 1: strategy sampled 4 clients (out of 3224)\n",
            "DEBUG:flwr:fit_round 1: strategy sampled 4 clients (out of 3224)\n"
          ]
        },
        {
          "name": "stdout",
          "output_type": "stream",
          "text": [
            "Sampled the following clients:  ['1101', '2904', '2613', '3179']\n"
          ]
        },
        {
          "name": "stderr",
          "output_type": "stream",
          "text": [
            "DEBUG flwr 2023-02-22 02:03:34,416 | server.py:322 | fit_round 1 received 4 results and 0 failures\n",
            "DEBUG:flwr:fit_round 1 received 4 results and 0 failures\n",
            "100%|██████████| 47/47 [00:01<00:00, 35.75it/s]\n",
            "INFO flwr 2023-02-22 02:03:35,819 | server.py:209 | fit progress: (1, 191.28625011444092, {'accuracy': 0.07933333333333334}, 47.761101246999715)\n",
            "INFO:flwr:fit progress: (1, 191.28625011444092, {'accuracy': 0.07933333333333334}, 47.761101246999715)\n",
            "INFO flwr 2023-02-22 02:03:35,822 | server.py:256 | evaluate_round 1: no clients selected, cancel\n",
            "INFO:flwr:evaluate_round 1: no clients selected, cancel\n",
            "INFO flwr 2023-02-22 02:03:35,835 | client_manager.py:49 | Sampling using None\n",
            "INFO:flwr:Sampling using None\n",
            "DEBUG flwr 2023-02-22 02:03:35,842 | server.py:308 | fit_round 2: strategy sampled 4 clients (out of 3224)\n",
            "DEBUG:flwr:fit_round 2: strategy sampled 4 clients (out of 3224)\n"
          ]
        },
        {
          "name": "stdout",
          "output_type": "stream",
          "text": [
            "Sampled the following clients:  ['1418', '27', '1758', '410']\n"
          ]
        },
        {
          "name": "stderr",
          "output_type": "stream",
          "text": [
            "DEBUG flwr 2023-02-22 02:04:11,232 | server.py:322 | fit_round 2 received 4 results and 0 failures\n",
            "DEBUG:flwr:fit_round 2 received 4 results and 0 failures\n",
            "100%|██████████| 47/47 [00:01<00:00, 45.96it/s]\n",
            "INFO flwr 2023-02-22 02:04:12,314 | server.py:209 | fit progress: (2, 187.75388050079346, {'accuracy': 0.07933333333333334}, 84.25586895599963)\n",
            "INFO:flwr:fit progress: (2, 187.75388050079346, {'accuracy': 0.07933333333333334}, 84.25586895599963)\n",
            "INFO flwr 2023-02-22 02:04:12,317 | server.py:256 | evaluate_round 2: no clients selected, cancel\n",
            "INFO:flwr:evaluate_round 2: no clients selected, cancel\n",
            "INFO flwr 2023-02-22 02:04:12,329 | client_manager.py:49 | Sampling using None\n",
            "INFO:flwr:Sampling using None\n",
            "DEBUG flwr 2023-02-22 02:04:12,332 | server.py:308 | fit_round 3: strategy sampled 4 clients (out of 3224)\n",
            "DEBUG:flwr:fit_round 3: strategy sampled 4 clients (out of 3224)\n"
          ]
        },
        {
          "name": "stdout",
          "output_type": "stream",
          "text": [
            "Sampled the following clients:  ['2215', '1477', '3146', '993']\n"
          ]
        },
        {
          "name": "stderr",
          "output_type": "stream",
          "text": [
            "DEBUG flwr 2023-02-22 02:04:57,736 | server.py:322 | fit_round 3 received 4 results and 0 failures\n",
            "DEBUG:flwr:fit_round 3 received 4 results and 0 failures\n",
            "100%|██████████| 47/47 [00:00<00:00, 59.13it/s]\n",
            "INFO flwr 2023-02-22 02:04:58,587 | server.py:209 | fit progress: (3, 178.02787828445435, {'accuracy': 0.07933333333333334}, 130.52883771300003)\n",
            "INFO:flwr:fit progress: (3, 178.02787828445435, {'accuracy': 0.07933333333333334}, 130.52883771300003)\n",
            "INFO flwr 2023-02-22 02:04:58,595 | server.py:256 | evaluate_round 3: no clients selected, cancel\n",
            "INFO:flwr:evaluate_round 3: no clients selected, cancel\n",
            "INFO flwr 2023-02-22 02:04:58,607 | client_manager.py:49 | Sampling using None\n",
            "INFO:flwr:Sampling using None\n",
            "DEBUG flwr 2023-02-22 02:04:58,615 | server.py:308 | fit_round 4: strategy sampled 4 clients (out of 3224)\n",
            "DEBUG:flwr:fit_round 4: strategy sampled 4 clients (out of 3224)\n"
          ]
        },
        {
          "name": "stdout",
          "output_type": "stream",
          "text": [
            "Sampled the following clients:  ['2955', '1583', '580', '779']\n"
          ]
        },
        {
          "name": "stderr",
          "output_type": "stream",
          "text": [
            "DEBUG flwr 2023-02-22 02:05:40,820 | server.py:322 | fit_round 4 received 4 results and 0 failures\n",
            "DEBUG:flwr:fit_round 4 received 4 results and 0 failures\n",
            "100%|██████████| 47/47 [00:01<00:00, 33.39it/s]\n",
            "INFO flwr 2023-02-22 02:05:42,320 | server.py:209 | fit progress: (4, 171.92933630943298, {'accuracy': 0.07933333333333334}, 174.2618713339998)\n",
            "INFO:flwr:fit progress: (4, 171.92933630943298, {'accuracy': 0.07933333333333334}, 174.2618713339998)\n",
            "INFO flwr 2023-02-22 02:05:42,322 | server.py:256 | evaluate_round 4: no clients selected, cancel\n",
            "INFO:flwr:evaluate_round 4: no clients selected, cancel\n",
            "INFO flwr 2023-02-22 02:05:42,352 | client_manager.py:49 | Sampling using None\n",
            "INFO:flwr:Sampling using None\n",
            "DEBUG flwr 2023-02-22 02:05:42,362 | server.py:308 | fit_round 5: strategy sampled 4 clients (out of 3224)\n",
            "DEBUG:flwr:fit_round 5: strategy sampled 4 clients (out of 3224)\n"
          ]
        },
        {
          "name": "stdout",
          "output_type": "stream",
          "text": [
            "Sampled the following clients:  ['1656', '1717', '1348', '261']\n"
          ]
        },
        {
          "name": "stderr",
          "output_type": "stream",
          "text": [
            "DEBUG flwr 2023-02-22 02:06:26,097 | server.py:322 | fit_round 5 received 4 results and 0 failures\n",
            "DEBUG:flwr:fit_round 5 received 4 results and 0 failures\n",
            "100%|██████████| 47/47 [00:00<00:00, 50.74it/s]\n",
            "INFO flwr 2023-02-22 02:06:27,087 | server.py:209 | fit progress: (5, 164.41301226615906, {'accuracy': 0.07933333333333334}, 219.02970118899975)\n",
            "INFO:flwr:fit progress: (5, 164.41301226615906, {'accuracy': 0.07933333333333334}, 219.02970118899975)\n",
            "INFO flwr 2023-02-22 02:06:27,093 | server.py:256 | evaluate_round 5: no clients selected, cancel\n",
            "INFO:flwr:evaluate_round 5: no clients selected, cancel\n",
            "INFO flwr 2023-02-22 02:06:27,114 | client_manager.py:49 | Sampling using None\n",
            "INFO:flwr:Sampling using None\n",
            "DEBUG flwr 2023-02-22 02:06:27,129 | server.py:308 | fit_round 6: strategy sampled 4 clients (out of 3224)\n",
            "DEBUG:flwr:fit_round 6: strategy sampled 4 clients (out of 3224)\n"
          ]
        },
        {
          "name": "stdout",
          "output_type": "stream",
          "text": [
            "Sampled the following clients:  ['346', '2627', '2817', '1058']\n"
          ]
        },
        {
          "name": "stderr",
          "output_type": "stream",
          "text": [
            "DEBUG flwr 2023-02-22 02:07:16,206 | server.py:322 | fit_round 6 received 4 results and 0 failures\n",
            "DEBUG:flwr:fit_round 6 received 4 results and 0 failures\n",
            "100%|██████████| 47/47 [00:00<00:00, 62.04it/s]\n",
            "INFO flwr 2023-02-22 02:07:17,022 | server.py:209 | fit progress: (6, 164.6062958240509, {'accuracy': 0.07933333333333334}, 268.9643840819999)\n",
            "INFO:flwr:fit progress: (6, 164.6062958240509, {'accuracy': 0.07933333333333334}, 268.9643840819999)\n",
            "INFO flwr 2023-02-22 02:07:17,028 | server.py:256 | evaluate_round 6: no clients selected, cancel\n",
            "INFO:flwr:evaluate_round 6: no clients selected, cancel\n",
            "INFO flwr 2023-02-22 02:07:17,048 | client_manager.py:49 | Sampling using None\n",
            "INFO:flwr:Sampling using None\n",
            "DEBUG flwr 2023-02-22 02:07:17,053 | server.py:308 | fit_round 7: strategy sampled 4 clients (out of 3224)\n",
            "DEBUG:flwr:fit_round 7: strategy sampled 4 clients (out of 3224)\n"
          ]
        },
        {
          "name": "stdout",
          "output_type": "stream",
          "text": [
            "Sampled the following clients:  ['2251', '159', '3062', '2996']\n"
          ]
        },
        {
          "name": "stderr",
          "output_type": "stream",
          "text": [
            "DEBUG flwr 2023-02-22 02:07:54,729 | server.py:322 | fit_round 7 received 4 results and 0 failures\n",
            "DEBUG:flwr:fit_round 7 received 4 results and 0 failures\n",
            "100%|██████████| 47/47 [00:01<00:00, 35.42it/s]\n",
            "INFO flwr 2023-02-22 02:07:56,160 | server.py:209 | fit progress: (7, 154.85020661354065, {'accuracy': 0.118}, 308.10270959399986)\n",
            "INFO:flwr:fit progress: (7, 154.85020661354065, {'accuracy': 0.118}, 308.10270959399986)\n",
            "INFO flwr 2023-02-22 02:07:56,164 | server.py:256 | evaluate_round 7: no clients selected, cancel\n",
            "INFO:flwr:evaluate_round 7: no clients selected, cancel\n",
            "INFO flwr 2023-02-22 02:07:56,199 | client_manager.py:49 | Sampling using None\n",
            "INFO:flwr:Sampling using None\n",
            "DEBUG flwr 2023-02-22 02:07:56,206 | server.py:308 | fit_round 8: strategy sampled 4 clients (out of 3224)\n",
            "DEBUG:flwr:fit_round 8: strategy sampled 4 clients (out of 3224)\n"
          ]
        },
        {
          "name": "stdout",
          "output_type": "stream",
          "text": [
            "Sampled the following clients:  ['2411', '528', '943', '725']\n"
          ]
        },
        {
          "name": "stderr",
          "output_type": "stream",
          "text": [
            "DEBUG flwr 2023-02-22 02:08:54,398 | server.py:322 | fit_round 8 received 4 results and 0 failures\n",
            "DEBUG:flwr:fit_round 8 received 4 results and 0 failures\n",
            "100%|██████████| 47/47 [00:01<00:00, 29.74it/s]\n",
            "INFO flwr 2023-02-22 02:08:56,079 | server.py:209 | fit progress: (8, 149.5666060447693, {'accuracy': 0.22333333333333333}, 368.02146053499973)\n",
            "INFO:flwr:fit progress: (8, 149.5666060447693, {'accuracy': 0.22333333333333333}, 368.02146053499973)\n",
            "INFO flwr 2023-02-22 02:08:56,085 | server.py:256 | evaluate_round 8: no clients selected, cancel\n",
            "INFO:flwr:evaluate_round 8: no clients selected, cancel\n",
            "INFO flwr 2023-02-22 02:08:56,124 | client_manager.py:49 | Sampling using None\n",
            "INFO:flwr:Sampling using None\n",
            "DEBUG flwr 2023-02-22 02:08:56,129 | server.py:308 | fit_round 9: strategy sampled 4 clients (out of 3224)\n",
            "DEBUG:flwr:fit_round 9: strategy sampled 4 clients (out of 3224)\n"
          ]
        },
        {
          "name": "stdout",
          "output_type": "stream",
          "text": [
            "Sampled the following clients:  ['1850', '249', '2079', '1864']\n"
          ]
        },
        {
          "name": "stderr",
          "output_type": "stream",
          "text": [
            "DEBUG flwr 2023-02-22 02:09:36,060 | server.py:322 | fit_round 9 received 4 results and 0 failures\n",
            "DEBUG:flwr:fit_round 9 received 4 results and 0 failures\n",
            "100%|██████████| 47/47 [00:00<00:00, 61.64it/s]\n",
            "INFO flwr 2023-02-22 02:09:36,882 | server.py:209 | fit progress: (9, 130.9702353477478, {'accuracy': 0.2926666666666667}, 408.82457523799985)\n",
            "INFO:flwr:fit progress: (9, 130.9702353477478, {'accuracy': 0.2926666666666667}, 408.82457523799985)\n",
            "INFO flwr 2023-02-22 02:09:36,886 | server.py:256 | evaluate_round 9: no clients selected, cancel\n",
            "INFO:flwr:evaluate_round 9: no clients selected, cancel\n",
            "INFO flwr 2023-02-22 02:09:36,911 | client_manager.py:49 | Sampling using None\n",
            "INFO:flwr:Sampling using None\n",
            "DEBUG flwr 2023-02-22 02:09:36,918 | server.py:308 | fit_round 10: strategy sampled 4 clients (out of 3224)\n",
            "DEBUG:flwr:fit_round 10: strategy sampled 4 clients (out of 3224)\n"
          ]
        },
        {
          "name": "stdout",
          "output_type": "stream",
          "text": [
            "Sampled the following clients:  ['2777', '82', '2583', '2652']\n"
          ]
        },
        {
          "name": "stderr",
          "output_type": "stream",
          "text": [
            "DEBUG flwr 2023-02-22 02:10:27,150 | server.py:322 | fit_round 10 received 4 results and 0 failures\n",
            "DEBUG:flwr:fit_round 10 received 4 results and 0 failures\n",
            "100%|██████████| 47/47 [00:00<00:00, 59.62it/s]\n",
            "INFO flwr 2023-02-22 02:10:27,995 | server.py:209 | fit progress: (10, 115.3097574710846, {'accuracy': 0.3893333333333333}, 459.9378061450002)\n",
            "INFO:flwr:fit progress: (10, 115.3097574710846, {'accuracy': 0.3893333333333333}, 459.9378061450002)\n",
            "INFO flwr 2023-02-22 02:10:28,001 | server.py:256 | evaluate_round 10: no clients selected, cancel\n",
            "INFO:flwr:evaluate_round 10: no clients selected, cancel\n",
            "INFO flwr 2023-02-22 02:10:28,008 | server.py:237 | FL finished in 459.9506033920002\n",
            "INFO:flwr:FL finished in 459.9506033920002\n",
            "INFO flwr 2023-02-22 02:10:28,018 | app.py:202 | app_fit: losses_distributed []\n",
            "INFO:flwr:app_fit: losses_distributed []\n",
            "INFO flwr 2023-02-22 02:10:28,022 | app.py:203 | app_fit: metrics_distributed {'Placeholder, see fit and eval metrics distributed results in hist object': [1, 1]}\n",
            "INFO:flwr:app_fit: metrics_distributed {'Placeholder, see fit and eval metrics distributed results in hist object': [1, 1]}\n",
            "INFO flwr 2023-02-22 02:10:28,027 | app.py:204 | app_fit: losses_centralized [(0, 194.37576723098755), (1, 191.28625011444092), (2, 187.75388050079346), (3, 178.02787828445435), (4, 171.92933630943298), (5, 164.41301226615906), (6, 164.6062958240509), (7, 154.85020661354065), (8, 149.5666060447693), (9, 130.9702353477478), (10, 115.3097574710846)]\n",
            "INFO:flwr:app_fit: losses_centralized [(0, 194.37576723098755), (1, 191.28625011444092), (2, 187.75388050079346), (3, 178.02787828445435), (4, 171.92933630943298), (5, 164.41301226615906), (6, 164.6062958240509), (7, 154.85020661354065), (8, 149.5666060447693), (9, 130.9702353477478), (10, 115.3097574710846)]\n",
            "INFO flwr 2023-02-22 02:10:28,029 | app.py:205 | app_fit: metrics_centralized {'accuracy': [(0, 0.004), (1, 0.07933333333333334), (2, 0.07933333333333334), (3, 0.07933333333333334), (4, 0.07933333333333334), (5, 0.07933333333333334), (6, 0.07933333333333334), (7, 0.118), (8, 0.22333333333333333), (9, 0.2926666666666667), (10, 0.3893333333333333)]}\n",
            "INFO:flwr:app_fit: metrics_centralized {'accuracy': [(0, 0.004), (1, 0.07933333333333334), (2, 0.07933333333333334), (3, 0.07933333333333334), (4, 0.07933333333333334), (5, 0.07933333333333334), (6, 0.07933333333333334), (7, 0.118), (8, 0.22333333333333333), (9, 0.2926666666666667), (10, 0.3893333333333333)]}\n"
          ]
        },
        {
          "name": "stdout",
          "output_type": "stream",
          "text": [
            "Quantile  0.75  finished\n"
          ]
        }
      ],
      "source": [
        "hists_Q4 = []\n",
        "for quantile in quantiles:\n",
        "  hists_Q4.append(run_DP_adaptive_fl(clip_norm_target_quantile=quantile, noise_multiplier=0))\n",
        "  print(\"Quantile \", quantile, \" finished\")"
      ]
    },
    {
      "cell_type": "markdown",
      "metadata": {
        "id": "fO41dRotv0kr"
      },
      "source": [
        "**Question 5 Plots and Answer**"
      ]
    },
    {
      "cell_type": "code",
      "execution_count": null,
      "metadata": {
        "id": "pZHlPW8dYmIN"
      },
      "outputs": [],
      "source": [
        "filenames = ['/hist_1677031828_adaptive_target_0.75_init_clip_norm_2_lr_0.2_noise_0.json', '/hist_1677031357_adaptive_target_0.5_init_clip_norm_2_lr_0.2_noise_0.json', '/hist_1677030830_adaptive_target_0.25_init_clip_norm_2_lr_0.2_noise_0.json']\n",
        "filenames = filenames[::-1]\n",
        "hists_Q4 = []\n",
        "hists_Q4 = load_hist_object(filenames, hists_Q4)"
      ]
    },
    {
      "cell_type": "code",
      "execution_count": null,
      "metadata": {
        "colab": {
          "base_uri": "https://localhost:8080/"
        },
        "id": "I7LfnkoK3f4f",
        "outputId": "493574e4-85ee-4d5e-fc41-a428e129cd4e"
      },
      "outputs": [
        {
          "name": "stdout",
          "output_type": "stream",
          "text": [
            "[(0, 0.004), (1, 0.07933333333333334), (2, 0.07933333333333334), (3, 0.07933333333333334), (4, 0.07933333333333334), (5, 0.07933333333333334), (6, 0.07933333333333334), (7, 0.08), (8, 0.10133333333333333), (9, 0.2), (10, 0.248)]\n",
            "[(0, 0.004), (1, 0.07933333333333334), (2, 0.07933333333333334), (3, 0.07933333333333334), (4, 0.07933333333333334), (5, 0.07933333333333334), (6, 0.07933333333333334), (7, 0.07933333333333334), (8, 0.10933333333333334), (9, 0.22466666666666665), (10, 0.32066666666666666)]\n",
            "[(0, 0.004), (1, 0.07933333333333334), (2, 0.07933333333333334), (3, 0.07933333333333334), (4, 0.07933333333333334), (5, 0.07933333333333334), (6, 0.07933333333333334), (7, 0.118), (8, 0.22333333333333333), (9, 0.2926666666666667), (10, 0.3893333333333333)]\n"
          ]
        }
      ],
      "source": [
        "for i, hist in enumerate(hists_Q4):\n",
        "  print(hist.metrics_centralized['accuracy'])"
      ]
    },
    {
      "cell_type": "code",
      "execution_count": null,
      "metadata": {
        "colab": {
          "base_uri": "https://localhost:8080/",
          "height": 1000
        },
        "id": "1xFGhHlgzdy_",
        "outputId": "769f7dc6-9980-483e-fed3-3104f484d782"
      },
      "outputs": [
        {
          "data": {
            "image/png": "[encoded data removed]",
            "text/plain": [
              "<Figure size 648x432 with 1 Axes>"
            ]
          },
          "metadata": {
            "needs_background": "light"
          },
          "output_type": "display_data"
        },
        {
          "data": {
            "image/png": "[encoded data removed]",
            "text/plain": [
              "<Figure size 648x432 with 1 Axes>"
            ]
          },
          "metadata": {
            "needs_background": "light"
          },
          "output_type": "display_data"
        },
        {
          "data": {
            "image/png": "[encoded data removed]",
            "text/plain": [
              "<Figure size 648x432 with 1 Axes>"
            ]
          },
          "metadata": {
            "needs_background": "light"
          },
          "output_type": "display_data"
        },
        {
          "data": {
            "image/png": "[encoded data removed]",
            "text/plain": [
              "<Figure size 648x432 with 1 Axes>"
            ]
          },
          "metadata": {
            "needs_background": "light"
          },
          "output_type": "display_data"
        }
      ],
      "source": [
        "fig, ax = plt.subplots(figsize=(9, 6))\n",
        "for i, hist in enumerate(hists_Q4):\n",
        "  accuracy = hist.metrics_centralized['accuracy']\n",
        "  rounds = list(zip(*accuracy))[0]\n",
        "  acc = list(zip(*accuracy))[1]\n",
        "  plt.plot(rounds, acc, label = \"clip_norm_target_quantile = \" + str(quantiles[i]))\n",
        "  # for index in range(len(rounds)):\n",
        "  #   ax.text(rounds[index], round(acc[index], 4), round(acc[index], 4))\n",
        "plt.legend()\n",
        "plt.title('Test Accuracy per Round with noise_multiplier = 0 and Adaptive Norm Bound')\n",
        "plt.xlabel('Round')\n",
        "plt.ylabel('Accuracy')\n",
        "plt.show()\n",
        "\n",
        "\n",
        "for i, hist in enumerate(hists_Q4):\n",
        "  fig, ax = plt.subplots(figsize=(9, 6))\n",
        "  hist_clip_norm = hists_Q3[i]\n",
        "  hist_quantile = hists_Q4[i]\n",
        "  accuracy_clip_norm = hist_clip_norm.metrics_centralized['accuracy']\n",
        "  accuracy_quantile = hist_quantile.metrics_centralized['accuracy']\n",
        "  rounds = list(zip(*accuracy_clip_norm))[0]\n",
        "  acc_clip_norm = list(zip(*accuracy_clip_norm))[1]\n",
        "  acc_quantile = list(zip(*accuracy_quantile))[1]\n",
        "  plt.plot(rounds, acc_clip_norm, label = \"clip_norm = μ×\" + str(clip_norms[i]/mean_l2))\n",
        "  plt.plot(rounds, acc_quantile, label = \"clip_norm_target_quantile = \" + str(quantiles[i]))\n",
        "  # for index in range(len(rounds)):\n",
        "  #   ax.text(rounds[index], round(acc_clip_norm[index], 4), round(acc_clip_norm[index], 4))\n",
        "  #   ax.text(rounds[index], round(acc_quantile[index], 4), round(acc_quantile[index], 4))\n",
        "  plt.legend()\n",
        "  plt.title('Comparison of Test Accuracy per Round between Fixed and Adaptive Norm Bound with noise_multiplier = 0')\n",
        "  plt.xlabel('Round')\n",
        "  plt.ylabel('Accuracy')\n",
        "  plt.ylim(0, 0.6)\n",
        "  plt.show()"
      ]
    },
    {
      "cell_type": "markdown",
      "metadata": {
        "id": "PgwCL52_v3zU"
      },
      "source": [
        "**2.**\n",
        "\n",
        "A larger quantile leads to a higher final accuracy after round 10. The accuracy curves of the three quantiles stay almost constant from round 1 to 6, and increase quite fast from round 6 to 10. \n",
        "\n",
        "Generally, a larger target quantile leads to a higher clip_norm bound during the online estimation of the norm distribution at each round. Since we set the noise noise_multiplier = 0 (similar to what we did in Question 3), the positive correlation between the target quantile and the final accuracy can be explained by my reasoning in Question 3. A lower adaptive clip_norm bound limits the divergence of highly heterogeneous clients, which stabilizes training when combined with unweighted aggregation, but may come at the costs of reducing accuracy.\n",
        "\n",
        "The settling (at early rounds) and fast rate of increase (at late rounds) of the accuracy curve can be explained by the exponential nature of the geometric update rule. Although the geometric update rule “converges quickly to the true quantile even if the initial estimate is off by orders of magnitude” [1], in our case, the estimation has not converged to the true quantile yet. On the contrary, I hypothesize that the exponential property has just shown its power after round 6, so the accuracy skyrockets. Before round 6, the accuracy is trapped at the flat region of the exponential function.\n",
        "\n",
        "Normally, it is hard to observe exponential rate or a very large slop in either accuracy curve or loss curve. However, the observations from this problem remind us it is possible. \n",
        "\n",
        "\n",
        "\\\n",
        "\n",
        "**3.**\n",
        "\n",
        "The ordered comparison between the fixed norm bound the adaptive norm bound shows that higher accuracy curves are consistently achieve using fixed norm bounds. The initial gaps (from round 4 to 8) increase as clip_norm and quantile pairs increase, but the final gaps are relatively the same (gaps at round 10). I think it may due to two reasons. First, in this case, as we do not add noises, fixed norm bounds impose less limitation on the local updates compared to adaptive norm bounds because fixed norm bounds are larger in magnitude. This explains the higher final accuracy achieved by fixed norm bounds after round 10. Second, the decrease in gaps mean the accuracy curves of adaptive norm bound have higher rate of increase. As we only train for 10 rounds and the online estimation just starts to match the true quantile, the global model still needs more time to converge.\n",
        "\n",
        "[1] https://arxiv.org/abs/1905.03871\n"
      ]
    },
    {
      "cell_type": "markdown",
      "metadata": {
        "id": "8pMrcr09LHMR"
      },
      "source": [
        "**Question 6 (Part III/MPhil ✅):**\n",
        "\n",
        "(You need to provide the answer with **code** and **plots** for this question. A short written argumentation is recommended.)\n",
        "\n",
        "This is an extension to the previous question, which tries to expand upon how the adaptive norm applied to client gradients/updates affects the L2 norm of the federated model delta.\n",
        "\n",
        "1. Using the previous results for `clip_norm_target_quantile`$\\in \\{0.25,\\, 0.5, \\,0.75\\}$, plot the L2 norm of the federated model delta for each target quantile. Which of the target quantiles causes the most considerable oscillations in the federated L2 norm, and why do you think that is?\n",
        "2. Do a similar ordered pairwise comparison between the federated L2 norm results of the target quantile experiments against those of the fixed bound experiments as in the previous question. Where is the gap between the adaptive and fixed method the largest?\n",
        "3. Plot the accuracy of experiments with the adaptive bounds against the cumulative L2 norm."
      ]
    },
    {
      "cell_type": "markdown",
      "metadata": {
        "id": "apxZBBkk3vC4"
      },
      "source": [
        "**Quesion 6 Plots**"
      ]
    },
    {
      "cell_type": "code",
      "execution_count": null,
      "metadata": {
        "colab": {
          "base_uri": "https://localhost:8080/",
          "height": 1000
        },
        "id": "oduPPd5x3urs",
        "outputId": "e56d3bd7-7313-4b57-d815-c6668aa72b8e"
      },
      "outputs": [
        {
          "data": {
            "image/png": "[encoded data removed]",
            "text/plain": [
              "<Figure size 648x432 with 1 Axes>"
            ]
          },
          "metadata": {
            "needs_background": "light"
          },
          "output_type": "display_data"
        },
        {
          "data": {
            "image/png": "[encoded data removed]",
            "text/plain": [
              "<Figure size 648x432 with 1 Axes>"
            ]
          },
          "metadata": {
            "needs_background": "light"
          },
          "output_type": "display_data"
        },
        {
          "data": {
            "image/png": "[encoded data removed]",
            "text/plain": [
              "<Figure size 648x432 with 1 Axes>"
            ]
          },
          "metadata": {
            "needs_background": "light"
          },
          "output_type": "display_data"
        },
        {
          "data": {
            "image/png": "[encoded data removed]",
            "text/plain": [
              "<Figure size 648x432 with 1 Axes>"
            ]
          },
          "metadata": {
            "needs_background": "light"
          },
          "output_type": "display_data"
        },
        {
          "data": {
            "image/png": "[encoded data removed]",
            "text/plain": [
              "<Figure size 648x432 with 1 Axes>"
            ]
          },
          "metadata": {
            "needs_background": "light"
          },
          "output_type": "display_data"
        }
      ],
      "source": [
        "# 1\n",
        "fig, ax = plt.subplots(figsize=(9, 6))\n",
        "for i, hist in enumerate(hists_Q4):\n",
        "  l2_model_delta = hist.fit_metrics_distributed['l2_model_delta']\n",
        "  rounds = list(zip(*l2_model_delta))[0]\n",
        "  l2_model_delta = list(zip(*l2_model_delta))[1]\n",
        "  plt.plot(rounds, l2_model_delta, label = \"clip_norm_target_quantile = \" + str(quantiles[i]))\n",
        "  # for index in range(len(rounds)):\n",
        "  #   ax.text(rounds[index], round(l2_model_delta[index], 4), round(l2_model_delta[index], 4))\n",
        "plt.legend()\n",
        "plt.title('L2 Norm of the Federated Model Deltas per Round with noise_multiplier = 0 and Adaptive Norm Bound')\n",
        "plt.xlabel('Round')\n",
        "plt.ylabel('L2 Norm')\n",
        "plt.show()\n",
        "\n",
        "\n",
        "# 2\n",
        "for i, hist in enumerate(hists_Q4):\n",
        "  fig, ax = plt.subplots(figsize=(9, 6))\n",
        "  hist_clip_norm = hists_Q3[i]\n",
        "  hist_quantile = hists_Q4[i]\n",
        "  l2_clip_norm = hist_clip_norm.fit_metrics_distributed['l2_model_delta']\n",
        "  l2_quantile = hist_quantile.fit_metrics_distributed['l2_model_delta']\n",
        "  rounds = list(zip(*l2_clip_norm))[0]\n",
        "  l2_clip_norm = list(zip(*l2_clip_norm))[1]\n",
        "  l2_quantile = list(zip(*l2_quantile))[1]\n",
        "  plt.plot(rounds, l2_clip_norm, label = \"clip_norm = μ×\" + str(clip_norms[i]/mean_l2))\n",
        "  plt.plot(rounds, l2_quantile, label = \"clip_norm_target_quantile = \" + str(quantiles[i]))\n",
        "  # for index in range(len(rounds)):\n",
        "  #   ax.text(rounds[index], round(l2_clip_norm[index], 4), round(l2_clip_norm[index], 4))\n",
        "  #   ax.text(rounds[index], round(l2_quantile[index], 4), round(l2_quantile[index], 4))\n",
        "  plt.legend()\n",
        "  plt.title('Comparison of L2 Norm of the Federated Model Deltas per Round between Fixed and Adaptive Norm Bound with noise_multiplier = 0')\n",
        "  plt.xlabel('Round')\n",
        "  plt.ylabel('L2 Norm')\n",
        "  plt.ylim(0, 10)\n",
        "  plt.show()\n",
        "\n",
        "\n",
        "# 3\n",
        "fig, ax = plt.subplots(figsize=(9, 6))\n",
        "for i, hist in enumerate(hists_Q4):\n",
        "  accuracy = hist.metrics_centralized['accuracy']\n",
        "  l2_model_delta = hist.fit_metrics_distributed['l2_model_delta']\n",
        "  rounds = list(zip(*accuracy))[0]\n",
        "  acc = np.asarray(list(zip(*accuracy))[1]) * 100\n",
        "  l2_model_delta = list(zip(*l2_model_delta))[1]\n",
        "  l2_model_delta_accumulated = [0] + list(accumulate(l2_model_delta))\n",
        "  plt.plot(rounds, acc, label = \"Accuracy, clip_norm_target_quantile = \" + str(quantiles[i]))\n",
        "  plt.plot(rounds, l2_model_delta_accumulated, label = \"Accumulated L2 model delta, clip_norm_target_quantile = \" + str(quantiles[i]))\n",
        "  # for index in range(len(rounds)):\n",
        "  #   ax.text(rounds[index], round(l2_model_delta_accumulated[index], 4), round(l2_model_delta_accumulated[index], 4))\n",
        "plt.legend()\n",
        "plt.title('Accumulated L2 Norm of the Federated Model Deltas and Test Accuracy per Round with noise_multiplier = 0 and Adaptive Norm Bound')\n",
        "plt.xlabel('Round')\n",
        "plt.ylabel('Accumulated L2 Norm')\n",
        "plt.show()"
      ]
    },
    {
      "cell_type": "markdown",
      "metadata": {
        "id": "oWnFmdOO3zdG"
      },
      "source": [
        "**Quesion 6 Answer**\n",
        "\n",
        "**1.**\n",
        "\n",
        "As the target quantile increases, the L2 norm of the federated model delta have both higher rate of increase and higher final value after round 10. The oscillations of the L2 norm of the federated model delta increase as target quantile decreases. \n",
        "\n",
        "The curve of the L2 norm of the federated model delta can be interpretated and explained in two ways in this case. First, it indicates the global model convergence rate. As a larger target quantile leads to a higher clip_norm bound and imposes less limitation on training, the global model convergence rate becomes higher. Second, it can be understood as how well the online estimation of the norm distribution matches the target quantile. A larger oscillation may be good because it means the estimation starts to settle around a value.\n",
        "\n",
        "\\\n",
        "\n",
        "**2.**\t\n",
        "\n",
        "The comparison of the L2 norm of the federated model delta between the fixed norm bound and the adaptive norm bound shows that as clip_norm and quantile pairs increase, the size of the gap increases. I hypothesize it is because as target quantile increases, the true clip_norm calculated from the true quantile becomes more different from the initial clip_norm, which we set to 0.1 in all cases. To reach the true clip_norm, we need more geometric updates. The gaps seem to be large because we only train for 10 rounds. I think with more rounds of update, the size of the gaps will become smaller.\n",
        "\n",
        "\\\n",
        "\n",
        "\n",
        "**3.**\n",
        "\n",
        "We can see a larger target quantum results in a larger slope and higher final value in both the cumulative L2 norm of the federated model delta and the accuracy, which means a higher cumulative L2 norm couples with a higher final accuracy and a larger cumulative L2 norm slope couples with a larger accuracy slope. The reason is similar to my explanation in Question 4.2.\n"
      ]
    },
    {
      "cell_type": "markdown",
      "metadata": {
        "id": "Mcj40lI_p0u4"
      },
      "source": [
        "## 3.3 Epsilon-delta Privacy"
      ]
    },
    {
      "cell_type": "markdown",
      "metadata": {
        "id": "z8sCwQPIJ-sM"
      },
      "source": [
        "We are now ready to understand the full extent of the DPFedAvg fixed algorithm and the relation between its privacy guarantees and the accuracy of the final model.\n",
        "\n",
        "Prior to this, we should establish what a particular set of DP parameters imply for the level of privacy theoretically. The function below shall allow us to do just that while assuming a fixed number of rounds and clients per round. It adapts a function provided by TensorFlow privacy for DP-SgD, as we have established that DP-FedAvg and DP-SgD are equivalent when considering a mere reframing of samples as clients; it should provide sufficient accuracy for our purposes.  "
      ]
    },
    {
      "cell_type": "code",
      "execution_count": null,
      "metadata": {
        "id": "zDGDh5TrCrqQ"
      },
      "outputs": [],
      "source": [
        "from tensorflow_privacy.privacy.analysis.compute_dp_sgd_privacy_lib import (\n",
        "    apply_dp_sgd_analysis,\n",
        ")\n",
        "from contextlib import redirect_stdout\n",
        "from io import StringIO\n",
        "\n",
        "\n",
        "class NullIO(StringIO):\n",
        "    def write(self, txt):\n",
        "        pass\n",
        "\n",
        "\n",
        "def compute_fl_privacy(\n",
        "    num_rounds=10,\n",
        "    noise_multiplier=1.0,\n",
        "    num_total_clients=num_total_clients,\n",
        "    num_fit_clients=4,\n",
        "):\n",
        "\n",
        "    q = num_fit_clients / num_total_clients  # q - the sampling ratio.\n",
        "\n",
        "    # These orders are from compute_dp_sgd_privacy and they are needed \n",
        "    # For the estimation, do not concern yourselves with them\n",
        "    orders = (\n",
        "        [1.25, 1.5, 1.75, 2.0, 2.25, 2.5, 3.0, 3.5, 4.0, 4.5]\n",
        "        + list(range(5, 64))\n",
        "        + [128, 256, 512]\n",
        "    )\n",
        "\n",
        "    with redirect_stdout(NullIO()):\n",
        "        vals = apply_dp_sgd_analysis(\n",
        "            q,\n",
        "            sigma=noise_multiplier,\n",
        "            steps=num_rounds,\n",
        "            orders=orders,\n",
        "            delta=num_total_clients ** (-1),\n",
        "        )\n",
        "    return vals[0]\n"
      ]
    },
    {
      "cell_type": "code",
      "execution_count": null,
      "metadata": {
        "colab": {
          "base_uri": "https://localhost:8080/"
        },
        "id": "rYJEgCF1DT0m",
        "outputId": "e2c6be80-46a5-4375-f831-e1c623d415a6"
      },
      "outputs": [
        {
          "name": "stdout",
          "output_type": "stream",
          "text": [
            "2195.207313171483\n",
            "320.2353869685142\n"
          ]
        }
      ],
      "source": [
        "print(compute_fl_privacy(noise_multiplier=0.05))\n",
        "print(compute_fl_privacy(noise_multiplier=0.1))\n"
      ]
    },
    {
      "cell_type": "markdown",
      "metadata": {
        "id": "34ps0e91FLmz"
      },
      "source": [
        "**Question 7 (Part II ✅ | Part III/MPhil ✅):**\n",
        "\n",
        "(While this is a largely conceptual question, it does require you to provide a small amount of  **code** and several **plots**. Answers to the purely conceptual components should contain **no more than 5 sentences**.)\n",
        "\n",
        "Using the function mentioned above, study the impact of different parameters on the privacy guarantees of DP-FedAvg as follows:\n",
        "\n",
        "1. Draw a scatter plot with the epsilon value on the y-axis. While keeping all other parameters constant to the above values, vary the noise multiplier from 0.05 to 2 using an increment of 0.05. Use the noise multiplier as x-axis.\n",
        "\n",
        "2. Draw a scatter plot with the epsilon value on the y-axis. While keeping all other parameters constant to the above values, vary `num_rounds` between $2^0$ and $2^{15}$ increasing using all the powers of two in the interval. Use the `num_rounds` as x-axis.\n",
        "\n",
        "3. Draw a scatter plot with the epsilon value on the y-axis. While keeping all other parameters constant to the above values, vary `num_fit_cliets` from $2^0$ to $2^{10}$ increasing using all the powers of two in the interval. Use the `num_fit_cliets` as x-axis.\n",
        "\n",
        "4. Describe the trade-offs you see and how they relate to FL privacy. Then, given the lecture by Peter Kairouz, what do you think the implications of these trade-offs are upon the practicality of Differential Privacy in FL?\n"
      ]
    },
    {
      "cell_type": "markdown",
      "metadata": {
        "id": "kq-aIzEop0u4"
      },
      "source": [
        "Armed with this theoretical understanding of the privacy budget, we can explore the performance implications of Differential Privacy upon DPFedAvgFixed. Note once more that the experiments we are running are small scale, as such you may find particularly high sensitivity to the `noise_multiplier` to be present."
      ]
    },
    {
      "cell_type": "markdown",
      "metadata": {
        "id": "J3Nr9ozPw2vR"
      },
      "source": [
        "**Question 7 Plots and Answer**"
      ]
    },
    {
      "cell_type": "code",
      "execution_count": null,
      "metadata": {
        "colab": {
          "base_uri": "https://localhost:8080/",
          "height": 1000
        },
        "id": "D9wTF6mSw6f9",
        "outputId": "2e52d9db-4292-4e4e-eb48-45dc59c2b095"
      },
      "outputs": [
        {
          "data": {
            "image/png": "[encoded data removed]",
            "text/plain": [
              "<Figure size 648x432 with 1 Axes>"
            ]
          },
          "metadata": {
            "needs_background": "light"
          },
          "output_type": "display_data"
        },
        {
          "data": {
            "image/png": "[encoded data removed]",
            "text/plain": [
              "<Figure size 648x432 with 1 Axes>"
            ]
          },
          "metadata": {
            "needs_background": "light"
          },
          "output_type": "display_data"
        },
        {
          "data": {
            "image/png": "[encoded data removed]",
            "text/plain": [
              "<Figure size 648x432 with 1 Axes>"
            ]
          },
          "metadata": {
            "needs_background": "light"
          },
          "output_type": "display_data"
        },
        {
          "data": {
            "image/png": "[encoded data removed]",
            "text/plain": [
              "<Figure size 648x432 with 1 Axes>"
            ]
          },
          "metadata": {
            "needs_background": "light"
          },
          "output_type": "display_data"
        }
      ],
      "source": [
        "# 1\n",
        "noises = np.linspace(0.05, 2, int((2-0.05)/0.05)+1)\n",
        "epsilons = [compute_fl_privacy(noise_multiplier=noise) for noise in noises]\n",
        "fig, ax = plt.subplots(figsize=(9, 6))\n",
        "plt.scatter(noises, epsilons)\n",
        "plt.title('Epsilon vs. Noise Multiplier')\n",
        "plt.xlabel('Noise Multiplier')\n",
        "plt.ylabel('Epsilon')\n",
        "plt.show()\n",
        "\n",
        "\n",
        "# 2\n",
        "rounds = [2**i for i in range(0, 15+1)]\n",
        "epsilons = [compute_fl_privacy(num_rounds=rd) for rd in rounds]\n",
        "fig, ax = plt.subplots(figsize=(9, 6))\n",
        "plt.scatter(rounds, epsilons)\n",
        "plt.title('Epsilon vs. Round')\n",
        "plt.xlabel('Round')\n",
        "plt.ylabel('Epsilon')\n",
        "plt.show()\n",
        "\n",
        "rounds = [2**i for i in range(0, 15+1)]\n",
        "epsilons = [compute_fl_privacy(num_rounds=rd) for rd in rounds]\n",
        "fig, ax = plt.subplots(figsize=(9, 6))\n",
        "plt.scatter(rounds, epsilons)\n",
        "plt.title('Epsilon vs. Round Zoomed-in')\n",
        "plt.xlabel('Round')\n",
        "plt.ylabel('Epsilon')\n",
        "plt.xlim(2**0, 2**8)\n",
        "plt.show()\n",
        "\n",
        "\n",
        "# 3\n",
        "num_clients = [2**i for i in range(0, 10+1)]\n",
        "epsilons = [compute_fl_privacy(num_fit_clients=cl) for cl in num_clients]\n",
        "fig, ax = plt.subplots(figsize=(9, 6))\n",
        "plt.scatter(num_clients, epsilons)\n",
        "plt.title('Epsilon vs. num_fit_clients')\n",
        "plt.xlabel('num_fit_clients')\n",
        "plt.ylabel('Epsilon')\n",
        "plt.show()"
      ]
    },
    {
      "cell_type": "markdown",
      "metadata": {
        "id": "wAkOB988DqYb"
      },
      "source": [
        "As noise multiplier increases, the epsilon decreases exponentially with a large decay rate. Thus, an increase of the noise multiplier from 0.05 to [0.1, 0.15] can result in a large gain in privacy protection, and the marginal benefits decrease if we keep increasing the noise multiplier.\n",
        "\n",
        "As the number of rounds increases, the epsilon increases relatively fast at first from round 1 to 8, stays almost constant at 0.40 from round 8 to 256, and increases at a lower rate from round 256 to 2^15. As a practical number of FL rounds can be scaled up to 1000 [1, 2, 3], we may be interested in developing techniques to achieve the same level of accuracy with lower FL rounds.\n",
        "\n",
        "As the number of fit clients per round increases, the epsilon increases almost linearly. So it important for us to use the appropriate number of clients per round.\n",
        "\n",
        "From the magnitude of the epsilon, we can see noise multiplier has the most significant effects on the value of epsilon followed by the number of fit clients per round, and finally the number of rounds.\n",
        "\n",
        "The above observations can help us to set the reasonable training parameters for FL in a practical real-world application, but there are certainly more aspects to be considered. As Peter Kairouz discussed during the lecture, aspects such as privacy-accuracy trade-offs and computational costs are also crucial in a real production system.\n",
        "\n",
        "[1] https://arxiv.org/abs/1602.05629 \\\n",
        "[2] https://arxiv.org/abs/2003.00295 \\\n",
        "[3] https://arxiv.org/abs/1905.03871\n"
      ]
    },
    {
      "cell_type": "markdown",
      "metadata": {
        "id": "sMv9vxDcpHJy"
      },
      "source": [
        "**Question 8 (Part II ✅ | Part III/MPhil ✅):**\n",
        "\n",
        "(You need to provide the answer with **code** and **plots** for this question. A short written argumentation is recommended.)\n",
        "\n",
        "Using the results of the previous experiment, observe the impact that a given noise multiplier has on both performance and privacy when using a **fixed** norm bound. \n",
        "\n",
        "1. Set a `noise_multiplier`$\\in \\{0.1\\}$ while keeping all other parameters constant. Then run the FL simulation using the `DPFedAvgFixed` strategy from above.\n",
        "\n",
        "2. Plot accuracy and compare the convergence curves against the results you have for the previous experiment with a multiplier of $0.05$ (`hist_clip_bound_4_noise_0_05`). *NOTE: it was done just after defining the aforementioned strategy.*\n",
        "\n",
        "3. Use the `compute_fl_privacy` function to compute the epsilon value of two noise levels mentioned above. How does the epsilon of a given noise level relate to the accuracy achieved by that model? Does the relationship between the two fit your expectations from the question above? \n",
        " \n"
      ]
    },
    {
      "cell_type": "markdown",
      "metadata": {
        "id": "lJrWxKi8FwWb"
      },
      "source": [
        "**Question 8 Code**"
      ]
    },
    {
      "cell_type": "code",
      "execution_count": null,
      "metadata": {
        "id": "HSYuBOz4Fyp1"
      },
      "outputs": [],
      "source": [
        "filenames = ['/hist_1677102703_fixed_clip_norm_4_noise_0.05.json']\n",
        "hist_clip_bound_4_noise_0_05 = []\n",
        "hist_clip_bound_4_noise_0_05 = load_hist_object(filenames, hist_clip_bound_4_noise_0_05)[0]\n",
        "\n",
        "filenames = ['/hist_1677103489_fixed_clip_norm_4_noise_0.1.json']\n",
        "hist_Q8 = []\n",
        "hist_Q8 = load_hist_object(filenames, hist_Q8)[0]"
      ]
    },
    {
      "cell_type": "code",
      "execution_count": null,
      "metadata": {
        "colab": {
          "base_uri": "https://localhost:8080/"
        },
        "id": "wY0MsOmTF7Hq",
        "outputId": "78e3ef3b-b832-4557-b4df-23c8a701bbe0"
      },
      "outputs": [
        {
          "name": "stderr",
          "output_type": "stream",
          "text": [
            "WARNING flwr 2023-02-22 21:56:29,491 | app.py:187 | Both server and strategy were provided, ignoring strategy\n",
            "WARNING:flwr:Both server and strategy were provided, ignoring strategy\n",
            "INFO flwr 2023-02-22 21:56:29,590 | app.py:145 | Starting Flower simulation, config: ServerConfig(num_rounds=10, round_timeout=None)\n",
            "INFO:flwr:Starting Flower simulation, config: ServerConfig(num_rounds=10, round_timeout=None)\n",
            "2023-02-22 21:56:34,024\tINFO worker.py:1529 -- Started a local Ray instance. View the dashboard at \u001b[1m\u001b[32mhttp://127.0.0.1:8265 \u001b[39m\u001b[22m\n",
            "INFO flwr 2023-02-22 21:56:35,638 | app.py:179 | Flower VCE: Ray initialized with resources: {'CPU': 2.0, 'node:172.28.0.12': 1.0, 'object_store_memory': 3999827558.0, 'GPU': 1.0, 'memory': 7999655118.0}\n",
            "INFO:flwr:Flower VCE: Ray initialized with resources: {'CPU': 2.0, 'node:172.28.0.12': 1.0, 'object_store_memory': 3999827558.0, 'GPU': 1.0, 'memory': 7999655118.0}\n",
            "INFO flwr 2023-02-22 21:56:35,688 | server.py:176 | Initializing global parameters\n",
            "INFO:flwr:Initializing global parameters\n",
            "INFO flwr 2023-02-22 21:56:35,698 | server.py:359 | Using initial parameters provided by strategy\n",
            "INFO:flwr:Using initial parameters provided by strategy\n",
            "INFO flwr 2023-02-22 21:56:35,707 | server.py:178 | Evaluating initial parameters\n",
            "INFO:flwr:Evaluating initial parameters\n",
            "100%|██████████| 47/47 [00:01<00:00, 38.76it/s]\n",
            "INFO flwr 2023-02-22 21:56:36,964 | server.py:181 | initial parameters (loss, other metrics): 194.37576723098755, {'accuracy': 0.004}\n",
            "INFO:flwr:initial parameters (loss, other metrics): 194.37576723098755, {'accuracy': 0.004}\n",
            "INFO flwr 2023-02-22 21:56:36,968 | server.py:191 | FL starting\n",
            "INFO:flwr:FL starting\n",
            "INFO flwr 2023-02-22 21:56:36,977 | client_manager.py:49 | Sampling using None\n",
            "INFO:flwr:Sampling using None\n",
            "DEBUG flwr 2023-02-22 21:56:36,981 | server.py:308 | fit_round 1: strategy sampled 4 clients (out of 3224)\n",
            "DEBUG:flwr:fit_round 1: strategy sampled 4 clients (out of 3224)\n"
          ]
        },
        {
          "name": "stdout",
          "output_type": "stream",
          "text": [
            "Sampled the following clients:  ['1101', '2904', '2613', '3179']\n"
          ]
        },
        {
          "name": "stderr",
          "output_type": "stream",
          "text": [
            "DEBUG flwr 2023-02-22 21:57:13,226 | server.py:322 | fit_round 1 received 4 results and 0 failures\n",
            "DEBUG:flwr:fit_round 1 received 4 results and 0 failures\n",
            "100%|██████████| 47/47 [00:01<00:00, 25.27it/s]\n",
            "INFO flwr 2023-02-22 21:57:15,163 | server.py:209 | fit progress: (1, 185.8926064968109, {'accuracy': 0.04933333333333333}, 38.18702491800104)\n",
            "INFO:flwr:fit progress: (1, 185.8926064968109, {'accuracy': 0.04933333333333333}, 38.18702491800104)\n",
            "INFO flwr 2023-02-22 21:57:15,167 | server.py:256 | evaluate_round 1: no clients selected, cancel\n",
            "INFO:flwr:evaluate_round 1: no clients selected, cancel\n",
            "INFO flwr 2023-02-22 21:57:15,181 | client_manager.py:49 | Sampling using None\n",
            "INFO:flwr:Sampling using None\n",
            "DEBUG flwr 2023-02-22 21:57:15,195 | server.py:308 | fit_round 2: strategy sampled 4 clients (out of 3224)\n",
            "DEBUG:flwr:fit_round 2: strategy sampled 4 clients (out of 3224)\n"
          ]
        },
        {
          "name": "stdout",
          "output_type": "stream",
          "text": [
            "Sampled the following clients:  ['1418', '27', '1758', '410']\n"
          ]
        },
        {
          "name": "stderr",
          "output_type": "stream",
          "text": [
            "DEBUG flwr 2023-02-22 21:58:01,579 | server.py:322 | fit_round 2 received 4 results and 0 failures\n",
            "DEBUG:flwr:fit_round 2 received 4 results and 0 failures\n",
            "100%|██████████| 47/47 [00:01<00:00, 39.90it/s]\n",
            "INFO flwr 2023-02-22 21:58:02,821 | server.py:209 | fit progress: (2, 179.00027537345886, {'accuracy': 0.068}, 85.84555649400136)\n",
            "INFO:flwr:fit progress: (2, 179.00027537345886, {'accuracy': 0.068}, 85.84555649400136)\n",
            "INFO flwr 2023-02-22 21:58:02,825 | server.py:256 | evaluate_round 2: no clients selected, cancel\n",
            "INFO:flwr:evaluate_round 2: no clients selected, cancel\n",
            "INFO flwr 2023-02-22 21:58:02,842 | client_manager.py:49 | Sampling using None\n",
            "INFO:flwr:Sampling using None\n",
            "DEBUG flwr 2023-02-22 21:58:02,853 | server.py:308 | fit_round 3: strategy sampled 4 clients (out of 3224)\n",
            "DEBUG:flwr:fit_round 3: strategy sampled 4 clients (out of 3224)\n"
          ]
        },
        {
          "name": "stdout",
          "output_type": "stream",
          "text": [
            "Sampled the following clients:  ['2215', '1477', '3146', '993']\n",
            "\u001b[2m\u001b[1m\u001b[33m(scheduler +4h16m39s)\u001b[0m Warning: The following resource request cannot be scheduled right now: {'CPU': 1.0, 'GPU': 0.5}. This is likely due to all cluster resources being claimed by actors. Consider creating fewer actors or adding more nodes to this Ray cluster.\n"
          ]
        },
        {
          "name": "stderr",
          "output_type": "stream",
          "text": [
            "DEBUG flwr 2023-02-22 21:58:53,180 | server.py:322 | fit_round 3 received 4 results and 0 failures\n",
            "DEBUG:flwr:fit_round 3 received 4 results and 0 failures\n",
            "100%|██████████| 47/47 [00:00<00:00, 62.89it/s]\n",
            "INFO flwr 2023-02-22 21:58:53,991 | server.py:209 | fit progress: (3, 174.77269768714905, {'accuracy': 0.092}, 137.01519614000063)\n",
            "INFO:flwr:fit progress: (3, 174.77269768714905, {'accuracy': 0.092}, 137.01519614000063)\n",
            "INFO flwr 2023-02-22 21:58:53,998 | server.py:256 | evaluate_round 3: no clients selected, cancel\n",
            "INFO:flwr:evaluate_round 3: no clients selected, cancel\n",
            "INFO flwr 2023-02-22 21:58:54,007 | client_manager.py:49 | Sampling using None\n",
            "INFO:flwr:Sampling using None\n",
            "DEBUG flwr 2023-02-22 21:58:54,013 | server.py:308 | fit_round 4: strategy sampled 4 clients (out of 3224)\n",
            "DEBUG:flwr:fit_round 4: strategy sampled 4 clients (out of 3224)\n"
          ]
        },
        {
          "name": "stdout",
          "output_type": "stream",
          "text": [
            "Sampled the following clients:  ['2955', '1583', '580', '779']\n"
          ]
        },
        {
          "name": "stderr",
          "output_type": "stream",
          "text": [
            "DEBUG flwr 2023-02-22 21:59:34,160 | server.py:322 | fit_round 4 received 4 results and 0 failures\n",
            "DEBUG:flwr:fit_round 4 received 4 results and 0 failures\n",
            "100%|██████████| 47/47 [00:01<00:00, 23.68it/s]\n",
            "INFO flwr 2023-02-22 21:59:36,234 | server.py:209 | fit progress: (4, 179.73610711097717, {'accuracy': 0.088}, 179.25848949400097)\n",
            "INFO:flwr:fit progress: (4, 179.73610711097717, {'accuracy': 0.088}, 179.25848949400097)\n",
            "INFO flwr 2023-02-22 21:59:36,246 | server.py:256 | evaluate_round 4: no clients selected, cancel\n",
            "INFO:flwr:evaluate_round 4: no clients selected, cancel\n",
            "INFO flwr 2023-02-22 21:59:36,281 | client_manager.py:49 | Sampling using None\n",
            "INFO:flwr:Sampling using None\n",
            "DEBUG flwr 2023-02-22 21:59:36,295 | server.py:308 | fit_round 5: strategy sampled 4 clients (out of 3224)\n",
            "DEBUG:flwr:fit_round 5: strategy sampled 4 clients (out of 3224)\n"
          ]
        },
        {
          "name": "stdout",
          "output_type": "stream",
          "text": [
            "Sampled the following clients:  ['1656', '1717', '1348', '261']\n"
          ]
        },
        {
          "name": "stderr",
          "output_type": "stream",
          "text": [
            "DEBUG flwr 2023-02-22 22:00:38,512 | server.py:322 | fit_round 5 received 4 results and 0 failures\n",
            "DEBUG:flwr:fit_round 5 received 4 results and 0 failures\n",
            "100%|██████████| 47/47 [00:01<00:00, 29.96it/s]\n",
            "INFO flwr 2023-02-22 22:00:40,153 | server.py:209 | fit progress: (5, 203.32893753051758, {'accuracy': 0.10533333333333333}, 243.1777019400015)\n",
            "INFO:flwr:fit progress: (5, 203.32893753051758, {'accuracy': 0.10533333333333333}, 243.1777019400015)\n",
            "INFO flwr 2023-02-22 22:00:40,158 | server.py:256 | evaluate_round 5: no clients selected, cancel\n",
            "INFO:flwr:evaluate_round 5: no clients selected, cancel\n",
            "INFO flwr 2023-02-22 22:00:40,193 | client_manager.py:49 | Sampling using None\n",
            "INFO:flwr:Sampling using None\n",
            "DEBUG flwr 2023-02-22 22:00:40,214 | server.py:308 | fit_round 6: strategy sampled 4 clients (out of 3224)\n",
            "DEBUG:flwr:fit_round 6: strategy sampled 4 clients (out of 3224)\n"
          ]
        },
        {
          "name": "stdout",
          "output_type": "stream",
          "text": [
            "Sampled the following clients:  ['346', '2627', '2817', '1058']\n"
          ]
        },
        {
          "name": "stderr",
          "output_type": "stream",
          "text": [
            "DEBUG flwr 2023-02-22 22:01:37,507 | server.py:322 | fit_round 6 received 4 results and 0 failures\n",
            "DEBUG:flwr:fit_round 6 received 4 results and 0 failures\n",
            "100%|██████████| 47/47 [00:01<00:00, 32.32it/s]\n",
            "INFO flwr 2023-02-22 22:01:39,039 | server.py:209 | fit progress: (6, 226.0011146068573, {'accuracy': 0.08333333333333333}, 302.0639246720002)\n",
            "INFO:flwr:fit progress: (6, 226.0011146068573, {'accuracy': 0.08333333333333333}, 302.0639246720002)\n",
            "INFO flwr 2023-02-22 22:01:39,044 | server.py:256 | evaluate_round 6: no clients selected, cancel\n",
            "INFO:flwr:evaluate_round 6: no clients selected, cancel\n",
            "INFO flwr 2023-02-22 22:01:39,077 | client_manager.py:49 | Sampling using None\n",
            "INFO:flwr:Sampling using None\n",
            "DEBUG flwr 2023-02-22 22:01:39,082 | server.py:308 | fit_round 7: strategy sampled 4 clients (out of 3224)\n",
            "DEBUG:flwr:fit_round 7: strategy sampled 4 clients (out of 3224)\n"
          ]
        },
        {
          "name": "stdout",
          "output_type": "stream",
          "text": [
            "Sampled the following clients:  ['2251', '159', '3062', '2996']\n"
          ]
        },
        {
          "name": "stderr",
          "output_type": "stream",
          "text": [
            "DEBUG flwr 2023-02-22 22:02:26,352 | server.py:322 | fit_round 7 received 4 results and 0 failures\n",
            "DEBUG:flwr:fit_round 7 received 4 results and 0 failures\n",
            "100%|██████████| 47/47 [00:02<00:00, 22.85it/s]\n",
            "INFO flwr 2023-02-22 22:02:28,479 | server.py:209 | fit progress: (7, 209.2875988483429, {'accuracy': 0.06266666666666666}, 351.50390666900057)\n",
            "INFO:flwr:fit progress: (7, 209.2875988483429, {'accuracy': 0.06266666666666666}, 351.50390666900057)\n",
            "INFO flwr 2023-02-22 22:02:28,483 | server.py:256 | evaluate_round 7: no clients selected, cancel\n",
            "INFO:flwr:evaluate_round 7: no clients selected, cancel\n",
            "INFO flwr 2023-02-22 22:02:28,535 | client_manager.py:49 | Sampling using None\n",
            "INFO:flwr:Sampling using None\n",
            "DEBUG flwr 2023-02-22 22:02:28,546 | server.py:308 | fit_round 8: strategy sampled 4 clients (out of 3224)\n",
            "DEBUG:flwr:fit_round 8: strategy sampled 4 clients (out of 3224)\n"
          ]
        },
        {
          "name": "stdout",
          "output_type": "stream",
          "text": [
            "Sampled the following clients:  ['2411', '528', '943', '725']\n"
          ]
        },
        {
          "name": "stderr",
          "output_type": "stream",
          "text": [
            "DEBUG flwr 2023-02-22 22:03:20,419 | server.py:322 | fit_round 8 received 4 results and 0 failures\n",
            "DEBUG:flwr:fit_round 8 received 4 results and 0 failures\n",
            "100%|██████████| 47/47 [00:01<00:00, 27.10it/s]\n",
            "INFO flwr 2023-02-22 22:03:22,276 | server.py:209 | fit progress: (8, 185.56166768074036, {'accuracy': 0.132}, 405.3008851499999)\n",
            "INFO:flwr:fit progress: (8, 185.56166768074036, {'accuracy': 0.132}, 405.3008851499999)\n",
            "INFO flwr 2023-02-22 22:03:22,280 | server.py:256 | evaluate_round 8: no clients selected, cancel\n",
            "INFO:flwr:evaluate_round 8: no clients selected, cancel\n",
            "INFO flwr 2023-02-22 22:03:22,316 | client_manager.py:49 | Sampling using None\n",
            "INFO:flwr:Sampling using None\n",
            "DEBUG flwr 2023-02-22 22:03:22,324 | server.py:308 | fit_round 9: strategy sampled 4 clients (out of 3224)\n",
            "DEBUG:flwr:fit_round 9: strategy sampled 4 clients (out of 3224)\n"
          ]
        },
        {
          "name": "stdout",
          "output_type": "stream",
          "text": [
            "Sampled the following clients:  ['1850', '249', '2079', '1864']\n",
            "\u001b[2m\u001b[1m\u001b[33m(scheduler +4h22m0s)\u001b[0m Warning: The following resource request cannot be scheduled right now: {'GPU': 0.5, 'CPU': 1.0}. This is likely due to all cluster resources being claimed by actors. Consider creating fewer actors or adding more nodes to this Ray cluster.\n"
          ]
        },
        {
          "name": "stderr",
          "output_type": "stream",
          "text": [
            "DEBUG flwr 2023-02-22 22:04:07,535 | server.py:322 | fit_round 9 received 4 results and 0 failures\n",
            "DEBUG:flwr:fit_round 9 received 4 results and 0 failures\n",
            "100%|██████████| 47/47 [00:00<00:00, 60.97it/s]\n",
            "INFO flwr 2023-02-22 22:04:08,371 | server.py:209 | fit progress: (9, 187.43933176994324, {'accuracy': 0.11066666666666666}, 451.3951450860004)\n",
            "INFO:flwr:fit progress: (9, 187.43933176994324, {'accuracy': 0.11066666666666666}, 451.3951450860004)\n",
            "INFO flwr 2023-02-22 22:04:08,381 | server.py:256 | evaluate_round 9: no clients selected, cancel\n",
            "INFO:flwr:evaluate_round 9: no clients selected, cancel\n",
            "INFO flwr 2023-02-22 22:04:08,402 | client_manager.py:49 | Sampling using None\n",
            "INFO:flwr:Sampling using None\n",
            "DEBUG flwr 2023-02-22 22:04:08,407 | server.py:308 | fit_round 10: strategy sampled 4 clients (out of 3224)\n",
            "DEBUG:flwr:fit_round 10: strategy sampled 4 clients (out of 3224)\n"
          ]
        },
        {
          "name": "stdout",
          "output_type": "stream",
          "text": [
            "Sampled the following clients:  ['2777', '82', '2583', '2652']\n"
          ]
        },
        {
          "name": "stderr",
          "output_type": "stream",
          "text": [
            "DEBUG flwr 2023-02-22 22:04:47,710 | server.py:322 | fit_round 10 received 4 results and 0 failures\n",
            "DEBUG:flwr:fit_round 10 received 4 results and 0 failures\n",
            "100%|██████████| 47/47 [00:01<00:00, 37.01it/s]\n",
            "INFO flwr 2023-02-22 22:04:49,077 | server.py:209 | fit progress: (10, 207.37319660186768, {'accuracy': 0.11866666666666667}, 492.1011717700003)\n",
            "INFO:flwr:fit progress: (10, 207.37319660186768, {'accuracy': 0.11866666666666667}, 492.1011717700003)\n",
            "INFO flwr 2023-02-22 22:04:49,082 | server.py:256 | evaluate_round 10: no clients selected, cancel\n",
            "INFO:flwr:evaluate_round 10: no clients selected, cancel\n",
            "INFO flwr 2023-02-22 22:04:49,084 | server.py:237 | FL finished in 492.1088933350002\n",
            "INFO:flwr:FL finished in 492.1088933350002\n",
            "INFO flwr 2023-02-22 22:04:49,088 | app.py:202 | app_fit: losses_distributed []\n",
            "INFO:flwr:app_fit: losses_distributed []\n",
            "INFO flwr 2023-02-22 22:04:49,092 | app.py:203 | app_fit: metrics_distributed {'Placeholder, see fit and eval metrics distributed results in hist object': [1, 1]}\n",
            "INFO:flwr:app_fit: metrics_distributed {'Placeholder, see fit and eval metrics distributed results in hist object': [1, 1]}\n",
            "INFO flwr 2023-02-22 22:04:49,095 | app.py:204 | app_fit: losses_centralized [(0, 194.37576723098755), (1, 185.8926064968109), (2, 179.00027537345886), (3, 174.77269768714905), (4, 179.73610711097717), (5, 203.32893753051758), (6, 226.0011146068573), (7, 209.2875988483429), (8, 185.56166768074036), (9, 187.43933176994324), (10, 207.37319660186768)]\n",
            "INFO:flwr:app_fit: losses_centralized [(0, 194.37576723098755), (1, 185.8926064968109), (2, 179.00027537345886), (3, 174.77269768714905), (4, 179.73610711097717), (5, 203.32893753051758), (6, 226.0011146068573), (7, 209.2875988483429), (8, 185.56166768074036), (9, 187.43933176994324), (10, 207.37319660186768)]\n",
            "INFO flwr 2023-02-22 22:04:49,098 | app.py:205 | app_fit: metrics_centralized {'accuracy': [(0, 0.004), (1, 0.04933333333333333), (2, 0.068), (3, 0.092), (4, 0.088), (5, 0.10533333333333333), (6, 0.08333333333333333), (7, 0.06266666666666666), (8, 0.132), (9, 0.11066666666666666), (10, 0.11866666666666667)]}\n",
            "INFO:flwr:app_fit: metrics_centralized {'accuracy': [(0, 0.004), (1, 0.04933333333333333), (2, 0.068), (3, 0.092), (4, 0.088), (5, 0.10533333333333333), (6, 0.08333333333333333), (7, 0.06266666666666666), (8, 0.132), (9, 0.11066666666666666), (10, 0.11866666666666667)]}\n"
          ]
        }
      ],
      "source": [
        "hist_Q8 = run_DP_fixed_fl(clip_norm=4, noise_multiplier=0.1)"
      ]
    },
    {
      "cell_type": "code",
      "execution_count": null,
      "metadata": {
        "colab": {
          "base_uri": "https://localhost:8080/"
        },
        "id": "IQ_BJkqDHS6a",
        "outputId": "5d724783-a1c6-4f84-f49e-5e5705c261ef"
      },
      "outputs": [
        {
          "name": "stdout",
          "output_type": "stream",
          "text": [
            "2195.207313171483\n",
            "320.2353869685142\n"
          ]
        }
      ],
      "source": [
        "epsilon_noise_005 = compute_fl_privacy(num_rounds=default_parameters['num_rounds'], noise_multiplier=0.05, num_total_clients=num_total_clients, num_fit_clients=default_parameters['num_clients_per_round'])\n",
        "epsilon_noise_010 = compute_fl_privacy(num_rounds=default_parameters['num_rounds'], noise_multiplier=0.1, num_total_clients=num_total_clients, num_fit_clients=default_parameters['num_clients_per_round'])\n",
        "print(epsilon_noise_005)\n",
        "print(epsilon_noise_010)"
      ]
    },
    {
      "cell_type": "markdown",
      "metadata": {
        "id": "MH8I2SGtF8LT"
      },
      "source": [
        "**Question 8 Plots and Answer**"
      ]
    },
    {
      "cell_type": "code",
      "execution_count": null,
      "metadata": {
        "colab": {
          "base_uri": "https://localhost:8080/",
          "height": 404
        },
        "id": "NF-YiZzsF_7y",
        "outputId": "1d0b5bab-ae71-4b51-b2b3-f57eb429a7a6"
      },
      "outputs": [
        {
          "data": {
            "image/png": "[encoded data removed]",
            "text/plain": [
              "<Figure size 648x432 with 1 Axes>"
            ]
          },
          "metadata": {
            "needs_background": "light"
          },
          "output_type": "display_data"
        }
      ],
      "source": [
        "fig, ax = plt.subplots(figsize=(9, 6))\n",
        "acc1 = hist_clip_bound_4_noise_0_05.metrics_centralized['accuracy']\n",
        "acc2 = hist_Q8.metrics_centralized['accuracy']\n",
        "rounds = list(zip(*acc1))[0]\n",
        "acc1 = list(zip(*acc1))[1]\n",
        "acc2 = list(zip(*acc2))[1]\n",
        "plt.plot(rounds, acc1, label = \"noise_multiplier = 0.05, epsilon = 2195.21\")\n",
        "plt.plot(rounds, acc2, label = \"noise_multiplier = 0.1, epsilon = 320.24\")\n",
        "# for index in range(len(rounds)):\n",
        "#   ax.text(rounds[index], round(acc1[index], 4), round(acc1[index], 4))\n",
        "#   ax.text(rounds[index], round(acc2[index], 4), round(acc2[index], 4))\n",
        "plt.legend()\n",
        "plt.title('Test Accuracy per Round with Fix Norm Bound and Default Parameters, clip_norm = 4')\n",
        "plt.xlabel('Round')\n",
        "plt.ylabel('Accuracy')\n",
        "plt.show()"
      ]
    },
    {
      "cell_type": "markdown",
      "metadata": {
        "id": "Ex3eGIu5GANB"
      },
      "source": [
        "From the plot of using two different noise multipliers, we can clearly see a smaller noise multiplier (0.05) with larger epsilon (2195.21) leads to a higher accuracy than using a larger noise multiplier (0.1) with smaller epsilon (320.24). This behavior is expected and is known as privacy-accuracy trade-off, a concept that is widely revealed and researched in existing works related to DP [1] and FL-DP [2]. \n",
        "\n",
        "The negative correlation between privacy and accuracy is straightforward to understand. We add more noises to either gradients or model (depending on the level of DP) in order to increase the privacy guarantee, and more noises deteriorate the quality of the training, leading to a lower accuracy.\n",
        "\n",
        "There are other elements which can affect the privacy-accuracy trade-off. For instance, as explained by Peter Kairouz during the lecture, a higher computation cost (e.g., larger batch size) and larger dataset size can lead to better privacy-accuracy trade-offs.\n",
        "\n",
        "[1] https://arxiv.org/abs/1710.06963 \\\n",
        "[2] https://arxiv.org/abs/2103.00039\n"
      ]
    },
    {
      "cell_type": "markdown",
      "metadata": {
        "id": "SYSSl0eT8Pmv"
      },
      "source": [
        "# Secure Aggregation"
      ]
    },
    {
      "cell_type": "markdown",
      "metadata": {
        "id": "2vtkE27Rp6gv"
      },
      "source": [
        "In this section, we will explore a Secure Multi-Party Computation (SMPC) based approach first implemented in an FL context in [this](https://arxiv.org/abs/1611.04482) paper, called Secure Aggregation.\n",
        "The authors proposed a protocol for the secure aggregation of model updates in a Federated Learning setting.\n",
        "SMPC algorithms allow a group of mutually distrustful parties to compute a function over their private inputs without revealing any information about their inputs to one another.\n",
        "In Federated Learning, users can compute the average of their model updates without revealing any information about their model updates to the other actors.\n",
        "This is achieved by a complex exchange of encrypted keys and messages between the actors, which is why the protocol is computationally expensive.\n",
        "The additional information the server and clients exchanges results in additional communication overhead.\n",
        "In this Lab, we will focus on the communication overhead, ignoring the computational overhead. Furthermore, the protocol requires a specific fraction of clients to complete training to compute the average.\n",
        "\n",
        "Pan Heng did the first implementation of Secure Aggregation in Flower. Thus we will use part of his code in this section. However, because of the complexity of this protocol, we refer all the discussions to the original paper.\n",
        "The main takeaways from the paper are the following: private inputs of clients are completely protected in this setting; Secure Aggregation is computationally expensive and requires a lot of communication overhead; the scalability of Secure Aggregation to many clients requires a lot of computational resources.\n",
        "\n",
        "In the following cell, we will download the code for the Secure Aggregation protocol."
      ]
    },
    {
      "cell_type": "code",
      "execution_count": null,
      "metadata": {
        "id": "ZwoxfbmTp9to"
      },
      "outputs": [],
      "source": [
        "# Create the folder for the Secure Aggregation files\n",
        "secagg_dir = home_dir / \"secagg\"\n",
        "if not secagg_dir.exists():\n",
        "    secagg_dir.mkdir()\n",
        "# Download the scripts\n",
        "if not (secagg_dir / \"client_class.py\").exists():\n",
        "    id = \"1CXVYyKqnCePf71WsVPO79C2MEs_RvUv6\"\n",
        "    gdown.download(\n",
        "        f\"https://drive.google.com/uc?export=download&confirm=pbef&id={id}\",\n",
        "        str(secagg_dir / \"client_class.py\"),\n",
        "    )\n",
        "if not (secagg_dir / \"strategy_class.py\").exists():\n",
        "    id = \"1CX4NtbIGyK1xqQgL2aasHx5wb4LdK2uG\"\n",
        "    gdown.download(\n",
        "        f\"https://drive.google.com/uc?export=download&confirm=pbef&id={id}\",\n",
        "        str(secagg_dir / \"strategy_class.py\"),\n",
        "    )\n",
        "if not (secagg_dir / \"secagg_utils.py\").exists():\n",
        "    id = \"1CVD10Vz9toCtT68LbQIRXDzX-yuBZHeH\"\n",
        "    gdown.download(\n",
        "        f\"https://drive.google.com/uc?export=download&confirm=pbef&id={id}\",\n",
        "        str(secagg_dir / \"secagg_utils.py\"),\n",
        "    )"
      ]
    },
    {
      "cell_type": "markdown",
      "metadata": {
        "id": "FzuszGSUqX-t"
      },
      "source": [
        "The implementation contains many encryption utilities, and thus it is very complex.\n",
        "So, feel free to dig into the code, but be aware that it is unnecessary to understand every part of it to complete the Lab.\n",
        "\n",
        "We also need to create a folder to store the keys generated on the fly by our simulation."
      ]
    },
    {
      "cell_type": "code",
      "execution_count": null,
      "metadata": {
        "id": "5gSr813fqY-h"
      },
      "outputs": [],
      "source": [
        "# TODO: we may want to change the name of this folder\n",
        "keys_dir = secagg_dir/'client_data'\n",
        "if not keys_dir.exists():\n",
        "    keys_dir.mkdir()"
      ]
    },
    {
      "cell_type": "markdown",
      "metadata": {
        "id": "g_JuulFEqgFG"
      },
      "source": [
        "We are now importing the important functions for simulating the Secure Aggregation protocol from the files we have just downloaded."
      ]
    },
    {
      "cell_type": "code",
      "execution_count": null,
      "metadata": {
        "id": "FbCi-KfFqlIi"
      },
      "outputs": [],
      "source": [
        "from secagg.client_class import get_client_generator\n",
        "from secagg.strategy_class import SecureAggregationStrategy"
      ]
    },
    {
      "cell_type": "markdown",
      "metadata": {
        "id": "YvSy0c8OqmxR"
      },
      "source": [
        "It is important to point out that from now on we will use a toy simulator.\n",
        "This means that we will not use real clients, so we are not training anything.\n",
        "We will just simulate the communication between the server and the clients to explore the communication overhead.\n",
        "The scripts are built to return to the `aggregate_fit` function of the server the length of the bytes exchanged during all the phases of communication of the Secure Aggregation protocol.\n",
        "The equivalent single FL training round is achieved in 4 phases of communication by the protocol.\n",
        "\n",
        "It is worth mentioning that for this implementation we will change our training round from using epochs to local steps because we need all the clients to train on the same amount of data samples.\n",
        "This is done because even the number of samples could be considered sensitive information that we do not want to reveal to the other actors."
      ]
    },
    {
      "cell_type": "code",
      "execution_count": null,
      "metadata": {
        "id": "zDeOr-uSqoc2"
      },
      "outputs": [],
      "source": [
        "def run_SA_demo(\n",
        "    num_clients_per_round=10,\n",
        "    n_model_parameters=10000,\n",
        "    min_num_surviving_clients=10, # at least 3*num_clients_per_round/4\n",
        "    n_rounds=2,\n",
        "    n_samples=30,\n",
        "    ):\n",
        "\n",
        "    client_resources = {\n",
        "        \"num_gpus\": 1.0/2 if get_device() == 'cuda' else 0.0, # maximum amount of resources that a client can take\n",
        "        \"num_cpus\": 1,\n",
        "    }\n",
        "\n",
        "    strategy = SecureAggregationStrategy(\n",
        "        n_dim=n_model_parameters,\n",
        "        num_clients_per_round=num_clients_per_round,\n",
        "        threshold=min_num_surviving_clients,\n",
        "        num_dropouts=num_clients_per_round-min_num_surviving_clients,\n",
        "    )\n",
        "    # TODO: we may wan to change this to our client manager\n",
        "    client_manager = SimpleClientManager()\n",
        "    # client_manager = CustomClientManager(criterion=None, seed=Seeds.DEFAULT)\n",
        "\n",
        "    server = Server(\n",
        "        client_manager=client_manager,\n",
        "        strategy=strategy,\n",
        "    )\n",
        "    secagg_hist = start_seeded_simulation(\n",
        "        client_fn=get_client_generator(n_model_parameters, n_samples, keys_dir),\n",
        "        num_clients=num_total_clients,\n",
        "        client_resources=client_resources,\n",
        "        server=server,\n",
        "        config=ServerConfig(num_rounds=int(4*n_rounds)), # this refers to the number of phases to simulate (must be 4*n_rounds)\n",
        "        strategy=strategy,\n",
        "        name=f'secagg_{num_clients_per_round}_{n_model_parameters}_{min_num_surviving_clients}_{n_rounds}_{n_samples}',\n",
        "    )\n",
        "    \n",
        "    # Clean up keys from the folder\n",
        "    for filename in os.listdir(keys_dir):\n",
        "        file_pth = keys_dir / filename\n",
        "        if filename.endswith('.pth'):\n",
        "            os.remove(file_pth)\n",
        "    \n",
        "    return secagg_hist"
      ]
    },
    {
      "cell_type": "markdown",
      "metadata": {
        "id": "K2uxZganqsU2"
      },
      "source": [
        "In the next cell, we will simulate the Secure Aggregation protocol defined by the abovementioned parameters."
      ]
    },
    {
      "cell_type": "code",
      "execution_count": null,
      "metadata": {
        "colab": {
          "base_uri": "https://localhost:8080/"
        },
        "id": "alDvGClxqs4D",
        "outputId": "155cd4cc-7ee9-4612-a5a9-174f642ef9b3"
      },
      "outputs": [],
      "source": [
        "secagg_hist = run_SA_demo()"
      ]
    },
    {
      "cell_type": "code",
      "execution_count": null,
      "metadata": {
        "colab": {
          "base_uri": "https://localhost:8080/"
        },
        "id": "MdmikIdlqu9u",
        "outputId": "292e5a2f-95a4-4cd6-b49b-ac2c9a8f5ab7"
      },
      "outputs": [
        {
          "data": {
            "text/plain": [
              "History (metrics, distributed, fit):\n",
              "{'total_cost': [(1, 4500), (2, 79160), (3, 25), (4, 14430), (5, 4500), (6, 79160), (7, 25), (8, 14430)]}"
            ]
          },
          "execution_count": 51,
          "metadata": {},
          "output_type": "execute_result"
        }
      ],
      "source": [
        "secagg_hist"
      ]
    },
    {
      "cell_type": "markdown",
      "metadata": {
        "id": "28jYprcYqtTU"
      },
      "source": [
        "Looking carefully at the `History` object returned by the simulation, we can see that it contains the key `total_cost`, which couples the round of communication with the number of bytes exchanged during that round.\n",
        "Note that the values are periodic because of the 4 phases involved in the protocol."
      ]
    },
    {
      "cell_type": "markdown",
      "metadata": {
        "id": "LQO3PLX8q_HT"
      },
      "source": [
        "**Question 9 (Part II ✅ | Part III/MPhil ✅):**\n",
        "\n",
        "(You need to provide the answer with **code** and **plots** for this question. A short written argumentation is recommended.)\n",
        "\n",
        "Using the function `run_SA_demo`, study the impact of different parameters on the `total_cost`:\n",
        "\n",
        "1. Draw a scatter plot with the `total_cost` on the y-axis. While keeping all other parameters constant to the above values, vary the `num_clients_per_round` from 10 to 100 using an increment of 10. Use the `num_clients_per_round` as the x-axis.\n",
        "\n",
        "2. Draw a scatter plot with the `total_cost` on the y-axis. While keeping all other parameters constant to the above values, vary `n_model_parameters` between $2^{13}$ and $2^{20}$ increasing using all the powers of two in the interval. Use the `n_model_parameters` as the x-axis.\n",
        "\n",
        "3. Describe the trade-offs you see and how they relate to communication overheads.\n"
      ]
    },
    {
      "cell_type": "markdown",
      "metadata": {
        "id": "EVxwrDPcrwNn"
      },
      "source": [
        "**Question 9 Code**"
      ]
    },
    {
      "cell_type": "code",
      "execution_count": null,
      "metadata": {
        "colab": {
          "base_uri": "https://localhost:8080/"
        },
        "id": "5Z3zszPEruXW",
        "outputId": "0ad9c3ff-dac4-4bc5-eccb-15118011aa10"
      },
      "outputs": [],
      "source": [
        "num_clients_per_rounds = np.arange(10, 100 + 10, 10)\n",
        "hists_Q9_1 = []\n",
        "for cl in num_clients_per_rounds:\n",
        "  hists_Q9_1.append(run_SA_demo(num_clients_per_round=cl))\n",
        "\n",
        "n_model_parameters = [2**i for i in range(13, 20+1)]\n",
        "hists_Q9_2 = []\n",
        "for params in n_model_parameters:\n",
        "  hists_Q9_2.append(run_SA_demo(n_model_parameters=params))"
      ]
    },
    {
      "cell_type": "code",
      "execution_count": 44,
      "metadata": {
        "id": "l4x8IzaGum_d"
      },
      "outputs": [],
      "source": [
        "filenames = ['/hist_1677163277_secagg_10_10000_5_2_30.json', '/hist_1677163341_secagg_20_10000_5_2_30.json', '/hist_1677163473_secagg_30_10000_5_2_30.json', '/hist_1677163642_secagg_40_10000_5_2_30.json', '/hist_1677163829_secagg_50_10000_5_2_30.json', '/hist_1677164073_secagg_60_10000_5_2_30.json', '/hist_1677164359_secagg_70_10000_5_2_30.json', '/hist_1677164727_secagg_80_10000_5_2_30.json', '/hist_1677165153_secagg_90_10000_5_2_30.json', '/hist_1677166337_secagg_100_10000_5_2_30.json']\n",
        "hists_Q9_1 = []\n",
        "hists_Q9_1 = load_hist_object(filenames, hists_Q9_1)\n",
        "\n",
        "filenames = ['/hist_1677165193_secagg_10_8192_5_2_30.json', '/hist_1677165231_secagg_10_16384_5_2_30.json', '/hist_1677165271_secagg_10_32768_5_2_30.json', '/hist_1677165310_secagg_10_65536_5_2_30.json', '/hist_1677165360_secagg_10_131072_5_2_30.json', '/hist_1677165403_secagg_10_262144_5_2_30.json', '/hist_1677165445_secagg_10_524288_5_2_30.json', '/hist_1677165493_secagg_10_1048576_5_2_30.json']\n",
        "hists_Q9_2 = []\n",
        "hists_Q9_2 = load_hist_object(filenames, hists_Q9_2)"
      ]
    },
    {
      "cell_type": "markdown",
      "metadata": {
        "id": "nF0hy3cEFaew"
      },
      "source": [
        "**Question 9 Plots and Answer**"
      ]
    },
    {
      "cell_type": "code",
      "execution_count": 45,
      "metadata": {
        "colab": {
          "base_uri": "https://localhost:8080/",
          "height": 793
        },
        "id": "adxa4FI-FiK2",
        "outputId": "6eb5a601-dc8f-441f-8ca0-3ba480205c6e"
      },
      "outputs": [
        {
          "data": {
            "image/png": "[encoded data removed]",
            "text/plain": [
              "<Figure size 648x432 with 1 Axes>"
            ]
          },
          "metadata": {
            "needs_background": "light"
          },
          "output_type": "display_data"
        },
        {
          "data": {
            "image/png": "[encoded data removed]",
            "text/plain": [
              "<Figure size 648x432 with 1 Axes>"
            ]
          },
          "metadata": {
            "needs_background": "light"
          },
          "output_type": "display_data"
        }
      ],
      "source": [
        "# 1\n",
        "num_clients_per_rounds = np.arange(10, 100 + 10, 10)\n",
        "total_cost = []\n",
        "for hist in hists_Q9_1:\n",
        "  total_cost_hist = hist.fit_metrics_distributed['total_cost']\n",
        "  total_cost.append(np.sum(np.asarray([cost[1] for cost in total_cost_hist])))\n",
        "fig, ax = plt.subplots(figsize=(9, 6))\n",
        "plt.scatter(num_clients_per_rounds, total_cost)\n",
        "plt.title('Total Cost vs. num_clients_per_rounds')\n",
        "plt.xlabel('num_clients_per_rounds')\n",
        "plt.ylabel('Total Cost')\n",
        "plt.show()\n",
        "\n",
        "2\n",
        "n_model_parameters = [2**i for i in range(13, 20+1)]\n",
        "total_cost = []\n",
        "for hist in hists_Q9_2:\n",
        "  total_cost_hist = hist.fit_metrics_distributed['total_cost']\n",
        "  total_cost.append(np.sum(np.asarray([cost[1] for cost in total_cost_hist])))\n",
        "fig, ax = plt.subplots(figsize=(9, 6))\n",
        "plt.scatter(n_model_parameters, total_cost)\n",
        "plt.title('Total Cost vs. n_model_parameters')\n",
        "plt.xlabel('n_model_parameters')\n",
        "plt.ylabel('Total Cost')\n",
        "plt.show()"
      ]
    },
    {
      "cell_type": "markdown",
      "metadata": {
        "id": "IH4dI411FigG"
      },
      "source": [
        "For the scatter plot, I take the sum of the total cost across rounds.\n",
        "\n",
        "As the number of clients per rounds increases linearly, the total communication cost increases at a quadratic rate. More specially, the rate is O (n^2 + kn), resulting from the sending and broadcasting of the pairwise Diffie-Hellman keys of the practical secure aggregation protocol [1, 2], which I will explain in more depths in the following Question 10. \n",
        "\n",
        "As the number of model parameters increases exponentially, the total communication cost stays constant. This is because in the pairwise Diffie-Hellman key agreement used by the practical secure aggregation protocol [1, 2], the server only needs to broadcast a secret number (i.e., scalar) to all clients, which is independent of the length of model updates vectors. I will also explain in more details in the following Question 10. \n",
        "\n",
        "[1] https://arxiv.org/abs/1611.04482 \\\n",
        "[2] https://research.google/pubs/pub47246/\n"
      ]
    },
    {
      "cell_type": "markdown",
      "metadata": {
        "id": "UvAEbsnFrAEP"
      },
      "source": [
        "**Question 10 (Part II ✅ | Part III/MPhil ✅):**\n",
        "\n",
        "(This is a purely conceptual question. Answer in **no more than 10 sentences each**.)\n",
        "\n",
        "After reading the [paper](https://arxiv.org/abs/1611.04482) and experimenting with the additional communication costs of Secure Aggregation in FL, discuss the implication of using this protocol in a real FL setting. You may want to discriminate between cross-silo and cross-device settings. You can focus on communication and computation overheads and refer to the asymptotic complexity of both.\n"
      ]
    },
    {
      "cell_type": "markdown",
      "metadata": {
        "id": "smGYVyzpFYrj"
      },
      "source": [
        "**Question 10 Answer**\n",
        "\n",
        "The central goal of secure aggregation (SA) is to aggregate the updates from all clients without inspecting and revealing the sensitive information within the clients’ updates, where we assume a server that follows the protocol but is curious and can lie [1, 4].\n",
        "\n",
        "Previous solutions of SA in the real FL setting suffer from two main problems, which either transit large amount of data (because clients’ updates are long vectors) and fail when clients drop out (in FL-SA, we typically adopt the cross-device setting in which edge devices can scale up to 10^10 [2]) because the pairwise generated user vector masks do not cancel out.\n",
        "\n",
        "Practical SA [1, 4] solves the first problem using pairwise Diffie-Hellman key agreement, where the server only needs to broadcast a secret number (i.e., scalar) to all clients, which will then be used to seed a pseudorandom number generator and spawn paired antiparticle vectors [3]. The result is the protocol will not transmit twice more the amount of data compared to the amount of data we transmit without SA (i.e., bandwidth expansion always < 2x) [4]. Practical SA [1, 4] solves the second problem using k-out-of-n threshold secret sharing by breaking secret into n pieces, in which only ≥ k shares can interpolate the polynomials and recover the secrets perfectly [2].\n",
        "\n",
        "\\\n",
        "\n",
        "The deployment of practical SA in cross-device FL is more difficult than cross-silo FL. I explain it with the following three reasons. \n",
        "\n",
        "First, for the k-out-of-n threshold secret sharing, though with enough number of honest clients and a threshold k that is high enough, the server cannot recover the secret, we face the issue where in a realistic network system, clients can appear to be dropped out but in fact they are just late. In this case, the server can recover the masks and updates of the dropped-out clients because it has already computed their privacy keys. Practical SA [1, 4] solves this by sharing additional individual keys, which do not cancel out, for each client, which induces additional communication cost.\n",
        "\n",
        "Second, practical SA [1, 4] can tolerate up to one-third of the clients drop-out with theoretical proof [4], so it will be problematic if the drop-out ratio exceeds this number, which is more likely to happen in cross-device setting. \n",
        "\n",
        "Third, the protocol will not be robust if the clients become malicious and send false Diffie-Hellman keys. I think we are more likely to malicious clients in cross-device setting because in cross-silo setting, the clients usually are institutions which share common incentives [2].\n",
        "\n",
        "\\\n",
        "\n",
        "[1] https://arxiv.org/abs/1611.04482 \\\n",
        "[2] https://arxiv.org/abs/1912.04977 \\\n",
        "[3] https://www.youtube.com/watch?v=OCy9gPjl-XM \\\n",
        "[4] https://research.google/pubs/pub47246/\n"
      ]
    }
  ],
  "metadata": {
    "accelerator": "GPU",
    "colab": {
      "collapsed_sections": [
        "T_-VhIG0szzo"
      ],
      "provenance": []
    },
    "gpuClass": "standard",
    "kernelspec": {
      "display_name": "Python 3",
      "language": "python",
      "name": "python3"
    },
    "language_info": {
      "codemirror_mode": {
        "name": "ipython",
        "version": 3
      },
      "file_extension": ".py",
      "mimetype": "text/x-python",
      "name": "python",
      "nbconvert_exporter": "python",
      "pygments_lexer": "ipython3",
      "version": "3.9.6"
    },
    "vscode": {
      "interpreter": {
        "hash": "31f2aee4e71d21fbe5cf8b01ff0e069b9275f58929596ceb00d14d90e3e16cd6"
      }
    }
  },
  "nbformat": 4,
  "nbformat_minor": 0
}
