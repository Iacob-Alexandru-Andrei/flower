{
 "cells": [
  {
   "cell_type": "markdown",
   "metadata": {},
   "source": [
    "# 1. Imports and Paths"
   ]
  },
  {
   "cell_type": "code",
   "execution_count": 1,
   "metadata": {},
   "outputs": [],
   "source": [
    "%load_ext autoreload\n",
    "%autoreload 2"
   ]
  },
  {
   "cell_type": "code",
   "execution_count": 15,
   "metadata": {},
   "outputs": [],
   "source": [
    "import matplotlib.pyplot as plt\n",
    "import seaborn as sns\n",
    "import numpy as np\n",
    "import pandas as pd\n",
    "from pathlib import Path\n",
    "from common_types import FolderHierarchy\n",
    "from utils import extract_file_from_files\n",
    "from dataset_preparation import get_folder_hierarchy\n",
    "from typing import Callable, Dict, Optional, Tuple, List\n",
    "\n",
    "pd.set_option(\"display.float_format\", lambda x: \"%.3f\" % x)\n",
    "plt.rcParams[\"font.family\"] = \"Times New Roman\"\n",
    "plt.rcParams[\"font.family\"] = \"serif\"\n",
    "plt.rcParams[\"font.serif\"] = \"Times New Roman\"\n",
    "plots_dir = Path(\"/home/aai30/nfs-share/b_hfl/flower/baselines/b_hfl/b_hfl/plots\")\n",
    "tables_dir = Path(\"/home/aai30/nfs-share/b_hfl/flower/baselines/b_hfl/b_hfl/tables\")\n"
   ]
  },
  {
   "cell_type": "markdown",
   "metadata": {},
   "source": [
    "# 2. Setup Hydra"
   ]
  },
  {
   "cell_type": "code",
   "execution_count": 14,
   "metadata": {},
   "outputs": [],
   "source": [
    "import os\n",
    "from hydra import initialize, initialize_config_module, initialize_config_dir, compose\n",
    "from hydra.utils import call\n",
    "from omegaconf import OmegaConf\n",
    "from hydra_utils import build_hydra_client_fn_and_recursive_builder_generator\n"
   ]
  },
  {
   "cell_type": "code",
   "execution_count": 5,
   "metadata": {},
   "outputs": [
    {
     "data": {
      "text/plain": [
       "hydra.initialize()"
      ]
     },
     "execution_count": 5,
     "metadata": {},
     "output_type": "execute_result"
    }
   ],
   "source": [
    "initialize(version_base=None, config_path=\"conf/\")\n"
   ]
  },
  {
   "cell_type": "code",
   "execution_count": 11,
   "metadata": {},
   "outputs": [],
   "source": [
    "cfg = compose(config_name=\"config.yaml\")\n"
   ]
  },
  {
   "cell_type": "markdown",
   "metadata": {},
   "source": [
    "# 3. Plotting Loss landscapes"
   ]
  },
  {
   "cell_type": "code",
   "execution_count": null,
   "metadata": {},
   "outputs": [],
   "source": [
    "top_models_path: Path = Path(\n",
    "    \"/home/aai30/nfs-share/b_hfl/flower/baselines/b_hfl/b_hfl/outputs/2023-08-17/08-34-16/client_data\"\n",
    ")\n",
    "target_models_path: Path = Path(\n",
    "    \"/home/aai30/nfs-share/b_hfl/flower/baselines/b_hfl/b_hfl/outputs/2023-08-17/08-46-36\"\n",
    ")\n",
    "bottom_models_path: Path = Path(\n",
    "    \"/home/aai30/nfs-share/b_hfl/flower/baselines/b_hfl/b_hfl/outputs/2023-08-17/08-52-20/client_data\"\n",
    ")\n"
   ]
  },
  {
   "cell_type": "code",
   "execution_count": null,
   "metadata": {},
   "outputs": [],
   "source": [
    "\n",
    "\n",
    "from common_types import ClientFN, RecursiveBuilder\n",
    "from flwr.common import NDArrays\n",
    "\n",
    "\n",
    "def evaluate_model_at_path(path_dict: FolderHierarchy) -> Optional[Tuple[float, Dict]]:\n",
    "    (\n",
    "        client_fn,\n",
    "        get_client_recursive_builder,\n",
    "        _,\n",
    "        on_evaluate_config_function,\n",
    "        load_parameters_file,\n",
    "        _,\n",
    "    ) = build_hydra_client_fn_and_recursive_builder_generator(cfg, path_dict)\n",
    "\n",
    "    evaluate_fn: Callable[[int, NDArrays, Dict], Optional[Tuple[float, Dict]]] = call(\n",
    "        cfg.fed.get_fed_eval_fn,\n",
    "        root_path=path_dict[\"path\"],\n",
    "        client_fn=client_fn,\n",
    "        recursive_builder=get_client_recursive_builder(path_dict),\n",
    "        on_evaluate_config_function=on_evaluate_config_function,\n",
    "    )\n",
    "    parameters_file: Optional[Path] = extract_file_from_files(path_dict[\"path\"], \"parameters\")\n",
    "    if parameters_file is None:\n",
    "        raise ValueError(f\"Could not find parameters file in {path_dict['path']}\")\n",
    "    parameters: NDArrays = load_parameters_file(parameters_file)\n",
    "    return evaluate_fn(0, parameters, {})\n"
   ]
  },
  {
   "cell_type": "code",
   "execution_count": null,
   "metadata": {},
   "outputs": [],
   "source": [
    "from tkinter import N\n",
    "from common_types import ParametersLoader\n",
    "\n",
    "\n",
    "class FileHierarchy(FolderHierarchy):\n",
    "    files: List[Path]\n",
    "    target_parameters: NDArrays\n",
    "    top_parameters: NDArrays\n",
    "    bottom_paramters: NDArrays\n",
    "\n",
    "\n",
    "def plot_loss_landscape(\n",
    "    target_model_path: Path, top_model_path: Path, bottom_model_path: Path\n",
    "):\n",
    "    target_path_dict: FolderHierarchy = get_folder_hierarchy(target_model_path)\n",
    "    top_path_dict: FolderHierarchy = get_folder_hierarchy(top_model_path)\n",
    "    bottom_path_dict: FolderHierarchy = get_folder_hierarchy(bottom_model_path)\n",
    "    if not check_compatibility(\n",
    "        target_path_dict, top_path_dict, bottom_path_dict\n",
    "    ):\n",
    "        raise ValueError(\"Folder structures are not compatible.\")\n",
    "    \n",
    "    \n",
    "    \n",
    "    \n"
   ]
  }
 ],
 "metadata": {
  "kernelspec": {
   "display_name": ".venv",
   "language": "python",
   "name": "python3"
  },
  "language_info": {
   "codemirror_mode": {
    "name": "ipython",
    "version": 3
   },
   "file_extension": ".py",
   "mimetype": "text/x-python",
   "name": "python",
   "nbconvert_exporter": "python",
   "pygments_lexer": "ipython3",
   "version": "3.9.17"
  },
  "orig_nbformat": 4
 },
 "nbformat": 4,
 "nbformat_minor": 2
}
